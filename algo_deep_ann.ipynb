{
 "cells": [
  {
   "cell_type": "markdown",
   "id": "883de6d3-4d55-409b-9590-aeb69a796f10",
   "metadata": {},
   "source": [
    "# Neural Networks\n",
    "\n",
    "## Advantages\n",
    "\n",
    "- Best performing class of algorithms for AI.\n",
    "- Use in both regression and classification.\n",
    "\n",
    "## Disadvantages\n",
    "\n",
    "- Requires expensive compute time and resources to train models.\n",
    "\n",
    "## References\n",
    "\n",
    "1. Hands-On Machine Learning: Chapter 10 - Introduction to Artificial Neural Networks, Chapter 11 - Training Deep Neural Nets\n",
    "1. Deep Learning from Scratch\n",
    "1. Programming PyTorch for Deep Learning\n",
    "1. Deep Learning with Python\n",
    "1. Fundamentals of Deep Learning\n",
    "1. How to build your own neural network from scratch using Python: [https://towardsdatascience.com/how-to-build-your-own-neural-network-from-scratch-in-python-68998a08e4f6](https://towardsdatascience.com/how-to-build-your-own-neural-network-from-scratch-in-python-68998a08e4f6)\n",
    "1. Creating a neural network from scratch in Python: [https://stackabuse.com/creating-a-neural-network-from-scratch-in-python/](https://stackabuse.com/creating-a-neural-network-from-scratch-in-python/)\n",
    "1. How to use data scaling to improve deep learning model stability and performance [https://machinelearningmastery.com/how-to-improve-neural-network-stability-and-modeling-performance-with-data-scaling/](https://machinelearningmastery.com/how-to-improve-neural-network-stability-and-modeling-performance-with-data-scaling/)\n",
    "1. Wikipedia: Artificial Neural Network [https://en.wikipedia.org/wiki/Artificial_neural_network](https://en.wikipedia.org/wiki/Artificial_neural_network)\n",
    "1. StatQuest: Artificial Neural Networks: [https://www.youtube.com/playlist?list=PLblh5JKOoLUIxGDQs4LFFD--41Vzf-ME1](https://www.youtube.com/playlist?list=PLblh5JKOoLUIxGDQs4LFFD--41Vzf-ME1)"
   ]
  },
  {
   "cell_type": "code",
   "execution_count": 1,
   "id": "012c843c-cff0-4ffe-8fa9-b21e43ce95b2",
   "metadata": {},
   "outputs": [],
   "source": [
    "import numpy as np\n",
    "import pandas as pd\n",
    "from scipy.special import erf\n",
    "from matplotlib import pyplot as plt\n",
    "import seaborn as sns\n",
    "from yellowbrick import classifier as ybc\n",
    "from sklearn.datasets import load_digits\n",
    "from sklearn.model_selection import train_test_split\n",
    "from sklearn.neural_network import MLPClassifier\n",
    "from sklearn.metrics import accuracy_score, confusion_matrix, classification_report\n",
    "import tensorflow as tf\n",
    "from tensorflow import keras"
   ]
  },
  {
   "cell_type": "code",
   "execution_count": 55,
   "id": "030337df-ca48-4ec5-ba6e-24c1b8c1d49e",
   "metadata": {},
   "outputs": [
    {
     "data": {
      "text/plain": [
       "[PhysicalDevice(name='/physical_device:CPU:0', device_type='CPU'),\n",
       " PhysicalDevice(name='/physical_device:GPU:0', device_type='GPU')]"
      ]
     },
     "execution_count": 55,
     "metadata": {},
     "output_type": "execute_result"
    }
   ],
   "source": [
    "tf.config.list_physical_devices()"
   ]
  },
  {
   "cell_type": "markdown",
   "id": "96dde63b-32a9-4477-9cdb-1ee7d50b0b24",
   "metadata": {},
   "source": [
    "# Basics of Neural Networks\n",
    "\n",
    "## Perceptron\n",
    "\n",
    "A **perceptron** is based off a biological neuron. Invented in 1958 by Frank Rosenblatt as an abstraction from a biological neuron. Perceptrons take input (dendrite), process it with a function (cellular processes), and output new information (axon).\n",
    "\n",
    "Minsky and Papert published the book *Perceptrons* in 1969. This book suggested limitations to what perceptrons could do and caused the *AI Winter* until other advancements could be made.\n",
    "\n",
    "## Mathematical model of a Perceptron\n",
    "\n",
    "$$\n",
    "    \\hat{y} = \\sum_{i=1}^{n}x_iW_i + b_i\n",
    "$$\n",
    "\n",
    "$x$ is a **tensor** of information (an $n$-dimensional matrix of data).\n",
    "\n",
    "$w$ applies a weight to $x$ to quantify how much information that input should contribute.\n",
    "\n",
    "$b$ is the **bias** value and is used to offset weights. Bias can be thought of as an offset so that the weight has to overcome a certain threshold in order to contribute information.\n",
    "\n",
    "A single perceptron is not enough to learn complicated systems."
   ]
  },
  {
   "cell_type": "markdown",
   "id": "c01bdd30-c1b0-45f8-bf0e-7592b70f9693",
   "metadata": {},
   "source": [
    "# The Neural Network\n",
    "\n",
    "A **neural network** is made of multiple layers and multiple perceptrons, represented as a graph with nodes and vertices. The **width** of a network is how many perceptrons in a layer and the **depth** is how many layers in the network.\n",
    "\n",
    "Can be used to approximate any convex continuous function ([Universal Approximation Theorem](https://en.wikipedia.org/wiki/Universal_approximation_theorem)).\n",
    "\n",
    "## Input Layer\n",
    "\n",
    "The **input layer** is made of the dataset features. The outputs are fed into one or more hidden layers.\n",
    "\n",
    "## Hidden Layers\n",
    "\n",
    "One or more **hidden layers** are calculated using **activation functions**. Each hidden layer feeds into another hidden layer or the output layer. It is difficult to analyze what a single perceptron is doing and this makes up the \"black box\" attribute of neural networks.\n",
    "\n",
    "Perceptrons in hidden layers include an **activation function**.\n",
    "\n",
    "## Output Layer\n",
    "\n",
    "The resulting output of predictions. There can be more than one perceptron in the output layer (multi-class classification neural networks)."
   ]
  },
  {
   "cell_type": "markdown",
   "id": "cfa42d63-ace1-4d84-bb61-5baf222452c2",
   "metadata": {},
   "source": [
    "# Cost Functions, Gradient Descent, and Backpropagation\n",
    "\n",
    "We need to take the estimated outputs of the network and compare them to the ground truth values.\n",
    "\n",
    "The **cost function** (or **loss function**) measure how much predictions are off from actual values.\n",
    "\n",
    "$$\n",
    "    C(W,B,S^r,E^r)\n",
    "$$\n",
    "\n",
    "$W$: weights, $B$: biases, $S^r$: input of a single sample, $E^r$: output of single training sample.\n",
    "\n",
    "## Quadratic Cost Function\n",
    "$$\n",
    "    C = \\frac{1}{2}\\sum_{i}(y_i - \\hat{y}_i)^2\n",
    "$$\n",
    "\n",
    "$a^L$: activation function output of $L$ layer. The predicted output. **Mean squared error** is a quadratic loss function.\n",
    "\n",
    "## Cross-Entropy Loss Function\n",
    "\n",
    "For binary classification:\n",
    "\n",
    "$$\n",
    "    C = -y\\log(p) + (1 - y)\\log(1 - p))\n",
    "$$\n",
    "\n",
    "For multi-class classification:\n",
    "\n",
    "$$\n",
    "    C = -\\sum_{c=1}^{M}y_{o,c}\\log(p_{o,c})\n",
    "$$\n",
    "\n",
    "## Gradient Descent\n",
    "\n",
    "Solving the cost function is finding $C^\\prime = 0$. However, because these are complex calculations, there may be multiple local minima equal to $0$. **Gradient descent** is used to update weights and biases in a step-wise manner to find the global minima within a tolerance.\n",
    "\n",
    "The **learning rate** is the size of step.\n",
    "\n",
    "**Adaptive gradient descent** changes the size of steps proportionally with the slope of descent.\n",
    "\n",
    "## Backpropagation\n",
    "\n",
    "**Backpropagation** is to use the gradient to go back through the neural network to adjust weights and biases to minimize the error vector on the output layer.\n",
    "\n",
    "The **delta rule** is the partial derivative of the cost function used to evaluate the gradient.\n",
    "\n",
    "$$\n",
    "    \\Delta w_k = -\\epsilon\\frac{\\delta E}{\\delta w_k} = -\\epsilon \\frac{\\delta}{\\delta w_k}(\\frac{1}{2}\\sum_i(y_i - \\hat{y}_i)^2) = \\sum_i\\epsilon(y_i - \\hat{y}_i)\\frac{\\delta y_i}{\\delta w_k} = \\sum_i\\epsilon x_k(y_i - \\hat{y}_i)\n",
    "$$\n",
    "\n",
    "## Stochastic and Mini-Batch Gradient Descent\n",
    "\n",
    "$$\n",
    "    \\Delta w_{ij} = -\\Sigma_{k \\in \\text{minibatch}}\\epsilon y_i^{(k)}y_j^{(i)}(1 - y_j^{(k)}\\frac{\\delta E^{(k)}}{\\delta y_j^{(k)}}\n",
    "$$"
   ]
  },
  {
   "cell_type": "markdown",
   "id": "6c881de7-9bde-4d33-8317-f836c60e530e",
   "metadata": {},
   "source": [
    "# Softmax\n",
    "\n",
    "Calculates the probabilities distribution of the event over $J$ different events.\n",
    "\n",
    "$$\n",
    "    f_i(x) = \\frac{e^{x_i}}{\\sum_{j=1}^{J}e^{x_j}}\n",
    "$$"
   ]
  },
  {
   "cell_type": "markdown",
   "id": "8e90c9a9-653e-4f30-a3cc-36680db6ed88",
   "metadata": {
    "tags": []
   },
   "source": [
    "# Activation Functions\n",
    "\n",
    "**Activation functions** create an boundary range from the weighted and biased tensor.\n",
    "\n",
    "The derivative of an activation function is used in backpropagation.\n",
    "\n",
    "$$\n",
    "    z = wx + b\n",
    "$$"
   ]
  },
  {
   "cell_type": "code",
   "execution_count": 2,
   "id": "a8866448-90f6-4c0e-84fa-1ec9e4139262",
   "metadata": {},
   "outputs": [],
   "source": [
    "X = np.arange(-5, 5.01, 0.01)"
   ]
  },
  {
   "cell_type": "code",
   "execution_count": 3,
   "id": "a53d938d-e0c3-43ae-8f94-5f4506a8f3df",
   "metadata": {},
   "outputs": [],
   "source": [
    "def cartesian_plot(x, y):\n",
    "    fig, ax = plt.subplots(figsize=(5,5))\n",
    "    ax.arrow(0, -5, 0, 10, color='k', head_width=0.2, head_length=0.2)\n",
    "    ax.arrow(0, 5, 0, -10, color='k', head_width=0.2, head_length=0.2)\n",
    "    ax.arrow(-5, 0, 10, 0, color='k', head_width=0.2, head_length=0.2)\n",
    "    ax.arrow(5, 0, -10, 0, color='k', head_width=0.2, head_length=0.2)\n",
    "    ax = sns.lineplot(x=x, y=y)\n",
    "    ax.grid(b=True, linewidth=1)\n",
    "    ax.autoscale(tight=True)\n",
    "    ax.set_xlabel('x')\n",
    "    ax.set_ylabel('y')\n",
    "    plt.show()"
   ]
  },
  {
   "cell_type": "markdown",
   "id": "5051dd0b-5bd4-4970-b643-9ba2b943dcf1",
   "metadata": {},
   "source": [
    "## Identity\n",
    "\n",
    "for range $(-\\infty,\\infty)$ and order of continuity $C^\\infty$\n",
    "$$\n",
    "    f(z) = z\n",
    "$$\n",
    "\n",
    "### Derivative\n",
    "\n",
    "$$\n",
    "    f^\\prime(z) = 1\n",
    "$$\n"
   ]
  },
  {
   "cell_type": "code",
   "execution_count": 4,
   "id": "9e5b89ef-81b1-459d-b1b4-bf1f6f3d1783",
   "metadata": {},
   "outputs": [],
   "source": [
    "z = X"
   ]
  },
  {
   "cell_type": "code",
   "execution_count": 5,
   "id": "804d0596-c253-48c8-9d58-a247c36b8374",
   "metadata": {},
   "outputs": [
    {
     "data": {
      "image/png": "[encoded data removed]",
      "text/plain": [
       "<Figure size 360x360 with 1 Axes>"
      ]
     },
     "metadata": {},
     "output_type": "display_data"
    }
   ],
   "source": [
    "cartesian_plot(X, z)"
   ]
  },
  {
   "cell_type": "markdown",
   "id": "b9c0879b-d572-4af4-98e9-dd929e9b6535",
   "metadata": {},
   "source": [
    "## Binary Step\n",
    "\n",
    "for range $\\{0,1\\}$ and order of continuity $C^{-1}$\n",
    "\n",
    "$$\n",
    "    f(z) = \\begin{cases}\n",
    "    0 & \\text{if } z < 0\\\\\n",
    "    1 & \\text{if } z \\geq 0\n",
    "    \\end{cases}\n",
    "$$\n",
    "\n",
    "### Derivative\n",
    "\n",
    "$$\n",
    "    f^\\prime(z) = \\begin{cases}\n",
    "    0 & \\text{if } z \\neq 0\\\\\n",
    "    \\text{undefined} & \\text{if } z = 0\n",
    "    \\end{cases}\n",
    "$$\n",
    "\n",
    "Not useful because the derivative is undefined at $z = 0$."
   ]
  },
  {
   "cell_type": "code",
   "execution_count": 6,
   "id": "001558b9-b0eb-46cc-a41b-96f6ca928443",
   "metadata": {},
   "outputs": [],
   "source": [
    "z = [0 if x < 0 else 1 for x in X]"
   ]
  },
  {
   "cell_type": "code",
   "execution_count": 7,
   "id": "a2ac2600-de99-4948-9e95-756b1d7cd857",
   "metadata": {},
   "outputs": [
    {
     "data": {
      "image/png": "[encoded data removed]",
      "text/plain": [
       "<Figure size 360x360 with 1 Axes>"
      ]
     },
     "metadata": {},
     "output_type": "display_data"
    }
   ],
   "source": [
    "cartesian_plot(X, z)"
   ]
  },
  {
   "cell_type": "markdown",
   "id": "d5ac8fc5-3afc-47cf-86a9-feb675981616",
   "metadata": {},
   "source": [
    "## Logistic/Sigmoid Function\n",
    "\n",
    "for range $(0,1)$ and order of continuity $C^\\infty$\n",
    "\n",
    "$$\n",
    "    f(z) = \\frac{1}{1 + e^{-z}}\n",
    "$$\n",
    "\n",
    "### Derivative\n",
    "\n",
    "$$\n",
    "    f^\\prime(z) = f(z)(1 - f(z))\n",
    "$$\n",
    "\n",
    "### Multi-Class Classification\n",
    "\n",
    "**Non-exclusive classes** can have multiple classes assigned to it. **Mutually exclusive classes** can have only one class assigned to it.\n",
    "\n",
    "Neural networks have one output node per class in multi-class classification. Use **one-hot encoding** of target classes as the ground truth.\n",
    "\n",
    "Non-exclusive classes use the **sigmoid/logistic** activation function."
   ]
  },
  {
   "cell_type": "code",
   "execution_count": 8,
   "id": "876990f6-b79a-4312-9797-22b29a92af87",
   "metadata": {},
   "outputs": [],
   "source": [
    "z = 1 / (1 + np.exp(-X))"
   ]
  },
  {
   "cell_type": "code",
   "execution_count": 9,
   "id": "31a863a2-5398-4658-9058-8c513ed05242",
   "metadata": {},
   "outputs": [
    {
     "data": {
      "image/png": "[encoded data removed]",
      "text/plain": [
       "<Figure size 360x360 with 1 Axes>"
      ]
     },
     "metadata": {},
     "output_type": "display_data"
    }
   ],
   "source": [
    "cartesian_plot(X, z)"
   ]
  },
  {
   "cell_type": "markdown",
   "id": "e9f50e88-f76d-413e-a76b-dac48137550e",
   "metadata": {},
   "source": [
    "## Hyperbolic Tangent: $tanh(z)$\n",
    "$$\n",
    "    \\cosh(z) = \\frac{e^z - e^{-z}}{2}\n",
    "$$\n",
    "\n",
    "$$\n",
    "    \\sinh(z) = \\frac{e^z + e^{-z}}{2}\n",
    "$$\n",
    "\n",
    "$$\n",
    "    f(z) = \\tanh(z) = \\frac{\\sinh(z)}{\\cosh(z)} = \\frac{e^z - e^{-z}}{e^z + e^{-z}}\n",
    "$$\n",
    "\n",
    "for range $(-1, 1)$ and order of continuity $C^\\infty$\n",
    "\n",
    "### Derivative\n",
    "\n",
    "$$\n",
    "    f^\\prime(z) = 1 - f(z)^2\n",
    "$$"
   ]
  },
  {
   "cell_type": "code",
   "execution_count": 10,
   "id": "fc8c1528-2a80-44f6-b5a6-a2041d18e56b",
   "metadata": {},
   "outputs": [],
   "source": [
    "z = (np.exp(X) - np.exp(-X)) / (np.exp(X) + np.exp(-X))"
   ]
  },
  {
   "cell_type": "code",
   "execution_count": 11,
   "id": "ce9acac5-bd58-46e4-9e30-5862916ede28",
   "metadata": {},
   "outputs": [
    {
     "data": {
      "image/png": "[encoded data removed]",
      "text/plain": [
       "<Figure size 360x360 with 1 Axes>"
      ]
     },
     "metadata": {},
     "output_type": "display_data"
    }
   ],
   "source": [
    "cartesian_plot(X, z)"
   ]
  },
  {
   "cell_type": "markdown",
   "id": "5035cbab-4bfe-49b2-a942-59cb6c9a0d20",
   "metadata": {},
   "source": [
    "## Rectified Linear Unit (ReLU)\n",
    "\n",
    "**ReLU** has been found to have very good performance, especially when dealing with the issue of **vanishing gradients**.\n",
    "\n",
    "$$\n",
    "    f(z) = \\begin{cases}\n",
    "    0 & \\text{if } z \\leq 0\\\\\n",
    "    z & \\text{if } z > 0\\\\\n",
    "    \\end{cases}\n",
    "    = \\max\\{0,z\\} = z1_{z>0}\n",
    "$$\n",
    "\n",
    "for range $[0, \\infty)$ and order of continuity $C^0$\n",
    "\n",
    "### Derivative\n",
    "\n",
    "$$\n",
    "    f^\\prime(z) = \\begin{cases}\n",
    "    0 & \\text{if } z < 0\\\\\n",
    "    1 & \\text{if } z > 0\\\\\n",
    "    undefined & \\text{if } z = 0\n",
    "    \\end{cases}\n",
    "$$"
   ]
  },
  {
   "cell_type": "code",
   "execution_count": 12,
   "id": "331df923-8f4d-444f-bd44-1cbe4fad12d5",
   "metadata": {},
   "outputs": [],
   "source": [
    "z = [0 if x < 0 else x for x in X]"
   ]
  },
  {
   "cell_type": "code",
   "execution_count": 13,
   "id": "cc01abe8-2532-4dc7-b35b-1d44c4265997",
   "metadata": {},
   "outputs": [
    {
     "data": {
      "image/png": "[encoded data removed]",
      "text/plain": [
       "<Figure size 360x360 with 1 Axes>"
      ]
     },
     "metadata": {},
     "output_type": "display_data"
    }
   ],
   "source": [
    "cartesian_plot(X, z)"
   ]
  },
  {
   "cell_type": "markdown",
   "id": "78a8f3f5-193e-4d3a-a002-b3cdb8c1c61d",
   "metadata": {},
   "source": [
    "## Gaussian Error Linear Unit (GELU)\n",
    "\n",
    "$$\n",
    "    f(z) = \\frac{1}{2}z\\left(1 + \\text{erf} \\left(\\frac{z}{\\sqrt{2}}\\right)\\right) = z\\Phi(z)\n",
    "$$\n",
    "\n",
    "for range $(-0.17\\ldots, \\infty)$ and order of continuity $C^\\infty$\n",
    "\n",
    "### Derivative\n",
    "\n",
    "$$\n",
    "    f^\\prime(z) = \\Phi(z) + z\\phi(z)\n",
    "$$"
   ]
  },
  {
   "cell_type": "code",
   "execution_count": 14,
   "id": "0f205a0e-4afa-458c-9f85-7e4070443774",
   "metadata": {},
   "outputs": [],
   "source": [
    "z = 0.5 * X * (1 + erf(X / np.sqrt(2)))"
   ]
  },
  {
   "cell_type": "code",
   "execution_count": 15,
   "id": "0c2cedc1-7012-4017-be2b-e22d3d8b3d2e",
   "metadata": {},
   "outputs": [
    {
     "data": {
      "image/png": "[encoded data removed]",
      "text/plain": [
       "<Figure size 360x360 with 1 Axes>"
      ]
     },
     "metadata": {},
     "output_type": "display_data"
    }
   ],
   "source": [
    "cartesian_plot(X, z)"
   ]
  },
  {
   "cell_type": "markdown",
   "id": "e6d2b686-ef7b-4ab3-898a-488cda7cd45d",
   "metadata": {},
   "source": [
    "## Softplus\n",
    "\n",
    "$$\n",
    "    f(z) = \\ln(1 + e^z)\n",
    "$$\n",
    "\n",
    "for range $(0, \\infty)$ and order of continuity $C^\\infty$\n",
    "\n",
    "### Derivative\n",
    "\n",
    "$$\n",
    "    f^\\prime(z) = \\frac{1}{1 + e^{-z}}\n",
    "$$"
   ]
  },
  {
   "cell_type": "code",
   "execution_count": 16,
   "id": "51d9ee8d-03c8-4b6f-8171-21f822e49ffe",
   "metadata": {},
   "outputs": [],
   "source": [
    "z = np.log(1 + np.exp(X))"
   ]
  },
  {
   "cell_type": "code",
   "execution_count": 17,
   "id": "d5a4e37c-3874-4b9a-9974-98a76785d3d8",
   "metadata": {},
   "outputs": [
    {
     "data": {
      "image/png": "[encoded data removed]",
      "text/plain": [
       "<Figure size 360x360 with 1 Axes>"
      ]
     },
     "metadata": {},
     "output_type": "display_data"
    }
   ],
   "source": [
    "cartesian_plot(X, z)"
   ]
  },
  {
   "cell_type": "markdown",
   "id": "6bd449c9-4fc8-4e54-81df-40163958fe7f",
   "metadata": {},
   "source": [
    "## Exponential Linear Unit (ELU)\n",
    "\n",
    "$$\n",
    "    f(z) = \\begin{cases}\n",
    "    \\alpha(e^z -1) & \\text{if } z \\leq 0\\\\\n",
    "    z & \\text{if } z > 0\n",
    "    \\end{cases}\\\\\n",
    "    \\text{with parameter } \\alpha\n",
    "$$\n",
    "\n",
    "for range $(-\\alpha, \\infty)$ and order of continuity $\\begin{cases}C^1 & \\text{if } \\alpha=1\\\\C^0 & otherwise\\end{cases}$\n",
    "\n",
    "### Derivative\n",
    "\n",
    "$$\n",
    "    f^\\prime(z) = \\begin{cases}\n",
    "    \\alpha e^z & \\text{if } z < 0\\\\\n",
    "    1 & \\text{if } z \\geq 0\\\\\n",
    "    1 & \\text{if } z = 0 \\text{ and }\\alpha = 1\n",
    "    \\end{cases}\n",
    "$$"
   ]
  },
  {
   "cell_type": "code",
   "execution_count": 18,
   "id": "7c59137e-5238-40e0-b511-2f7560923b78",
   "metadata": {},
   "outputs": [],
   "source": [
    "a = 2\n",
    "z = [x if x > 0 else a * (np.exp(x) - 1) for x in X]"
   ]
  },
  {
   "cell_type": "code",
   "execution_count": 19,
   "id": "2d058e3a-e18e-48b3-a184-c107424aed03",
   "metadata": {},
   "outputs": [
    {
     "data": {
      "image/png": "[encoded data removed]",
      "text/plain": [
       "<Figure size 360x360 with 1 Axes>"
      ]
     },
     "metadata": {},
     "output_type": "display_data"
    }
   ],
   "source": [
    "cartesian_plot(X, z)"
   ]
  },
  {
   "cell_type": "markdown",
   "id": "298e65b7-7940-4982-bff4-b6a5ef7f1b9c",
   "metadata": {},
   "source": [
    "## Scaled Exponential Linear Unit (SELU)\n",
    "\n",
    "$$\n",
    "    f(z) = \\lambda\\begin{cases}\n",
    "    \\alpha(e^z -1) & \\text{if } z < 0\\\\\n",
    "    z & \\text{if } z \\geq 0\n",
    "    \\end{cases}\\\\\n",
    "$$\n",
    "\n",
    "with parameters $\\lambda = 1.0507$ and $\\alpha = 1.67326$\n",
    "\n",
    "for range $(-\\lambda\\alpha,\\infty)$ and order of continuity $C^0$\n",
    "\n",
    "### Derivative\n",
    "\n",
    "$$\n",
    "    f^\\prime(z) = \\lambda\\begin{cases}\n",
    "    \\alpha e^z & \\text{if } z < 0\\\\\n",
    "    1 & \\text{if } z \\geq 0\n",
    "    \\end{cases}\n",
    "$$"
   ]
  },
  {
   "cell_type": "code",
   "execution_count": 20,
   "id": "86b5bc45-fc02-4f71-8b30-673a971d4541",
   "metadata": {},
   "outputs": [],
   "source": [
    "l = 1.0507\n",
    "a = 1.67326\n",
    "z = [x * l if x >= 0 else l * a * (np.exp(x) - 1) for x in X]"
   ]
  },
  {
   "cell_type": "code",
   "execution_count": 21,
   "id": "c1b7970b-1f42-4689-a657-e658698bcb45",
   "metadata": {},
   "outputs": [
    {
     "data": {
      "image/png": "[encoded data removed]",
      "text/plain": [
       "<Figure size 360x360 with 1 Axes>"
      ]
     },
     "metadata": {},
     "output_type": "display_data"
    }
   ],
   "source": [
    "cartesian_plot(X, z)"
   ]
  },
  {
   "cell_type": "markdown",
   "id": "398525c2-6409-4076-9d61-49b364a17671",
   "metadata": {},
   "source": [
    "## Leaky Rectified Linear Unit (Leaky ReLU)\n",
    "\n",
    "$$\n",
    "    f(z) = \\begin{cases}\n",
    "    0.01z & \\text{if } z < 0\\\\\n",
    "    z & \\text{if } z \\geq 0\n",
    "    \\end{cases}\n",
    "$$\n",
    "\n",
    "for range $(-\\infty,\\infty)$ and order of continuity $C^0$\n",
    "\n",
    "### Derivative\n",
    "\n",
    "$$\n",
    "    f^\\prime(z) = \\begin{cases}\n",
    "    0.01 & \\text{if } z < 0\\\\\n",
    "    1 & \\text{if } z \\geq 0\n",
    "    \\end{cases}\n",
    "$$"
   ]
  },
  {
   "cell_type": "code",
   "execution_count": 22,
   "id": "052eb975-b100-47a8-96f0-194c5d8c5cdf",
   "metadata": {},
   "outputs": [],
   "source": [
    "z = [0.01 * x if x < 0 else x for x in X]"
   ]
  },
  {
   "cell_type": "code",
   "execution_count": 23,
   "id": "fef75392-df47-472d-ae2c-32a8e18467d5",
   "metadata": {},
   "outputs": [
    {
     "data": {
      "image/png": "[encoded data removed]",
      "text/plain": [
       "<Figure size 360x360 with 1 Axes>"
      ]
     },
     "metadata": {},
     "output_type": "display_data"
    }
   ],
   "source": [
    "cartesian_plot(X, z)"
   ]
  },
  {
   "cell_type": "markdown",
   "id": "0d055228-1818-4215-a1f1-a527a9efc2e1",
   "metadata": {},
   "source": [
    "## Parametric Rectified Linear Unit (PReLU)\n",
    "\n",
    "$$\n",
    "    f(z) = \\begin{cases}\n",
    "    \\alpha z & \\text{if } z < 0\\\\\n",
    "    z & \\text{if } z \\geq 0\n",
    "    \\end{cases}\\\\\n",
    "    \\text{with parameter } \\alpha\n",
    "$$\n",
    "\n",
    "for range $(-\\infty,\\infty)$ and order of continuity $C^0$\n",
    "\n",
    "### Derivative\n",
    "\n",
    "$$\n",
    "    f^\\prime(z) = \\begin{cases}\n",
    "    \\alpha & \\text{if } z < 0\\\\\n",
    "    1 & \\text{if } z \\geq 0\n",
    "    \\end{cases}\n",
    "$$"
   ]
  },
  {
   "cell_type": "code",
   "execution_count": 24,
   "id": "02157b99-a555-4341-a09f-a266ac6186f3",
   "metadata": {},
   "outputs": [],
   "source": [
    "a = 0.25\n",
    "z = [a * x if x < 0 else x for x in X]"
   ]
  },
  {
   "cell_type": "code",
   "execution_count": 25,
   "id": "027af141-d541-4d0a-a256-6238dd331c1f",
   "metadata": {},
   "outputs": [
    {
     "data": {
      "image/png": "[encoded data removed]",
      "text/plain": [
       "<Figure size 360x360 with 1 Axes>"
      ]
     },
     "metadata": {},
     "output_type": "display_data"
    }
   ],
   "source": [
    "cartesian_plot(X, z)"
   ]
  },
  {
   "cell_type": "markdown",
   "id": "bf17248b-125b-4a82-a509-0233446de50c",
   "metadata": {},
   "source": [
    "## Sigmoid Linear Unit (SiLU), Sigmoid Shrinkage, SiL, Swish-1\n",
    "\n",
    "$$\n",
    "    f(z) = \\frac{z}{1 + e^{-z}}\n",
    "$$\n",
    "\n",
    "for range $[-0.278\\ldots,\\infty)$ and order of continuity $C^\\infty$\n",
    "\n",
    "### Derivative\n",
    "\n",
    "$$\n",
    "    f^\\prime(z) = \\frac{1 = e^{-z} + ze^{-z}}{(1 + e^{-z})^2}\n",
    "$$"
   ]
  },
  {
   "cell_type": "code",
   "execution_count": 26,
   "id": "0902c34c-a2db-4e0a-b295-79cb60b3f62f",
   "metadata": {},
   "outputs": [],
   "source": [
    "z = X / (1 + np.exp(-X))"
   ]
  },
  {
   "cell_type": "code",
   "execution_count": 27,
   "id": "452d6cc3-3b3a-4728-87dc-0f87b90b4195",
   "metadata": {},
   "outputs": [
    {
     "data": {
      "image/png": "[encoded data removed]",
      "text/plain": [
       "<Figure size 360x360 with 1 Axes>"
      ]
     },
     "metadata": {},
     "output_type": "display_data"
    }
   ],
   "source": [
    "cartesian_plot(X, z)"
   ]
  },
  {
   "cell_type": "markdown",
   "id": "ba60d40b-8ef8-42ac-857c-887368d012d5",
   "metadata": {},
   "source": [
    "## Mish\n",
    "\n",
    "$$\n",
    "    f(z) = z\\tanh(\\ln(1 + e^z))\n",
    "$$\n",
    "\n",
    "for range $[-0.308\\ldots,\\infty)$ and order of continuity $C^\\infty$\n",
    "\n",
    "### Derivative\n",
    "\n",
    "$$\n",
    "    f^\\prime(z) = \\frac{(e^z(4e^{2z} + e^{3z} + 4(1 + z) + e^z(6 + 4z)))}{(2 + 2e^z + e^{2z})^2}\n",
    "$$"
   ]
  },
  {
   "cell_type": "code",
   "execution_count": 28,
   "id": "0bc5a56f-49a9-4f69-a1f3-95c54cb4759b",
   "metadata": {},
   "outputs": [],
   "source": [
    "z = X * np.tanh(np.log(1 + np.exp(X)))"
   ]
  },
  {
   "cell_type": "code",
   "execution_count": 29,
   "id": "13160834-795e-4a06-b4e9-cbdb7f4d5cb8",
   "metadata": {},
   "outputs": [
    {
     "data": {
      "image/png": "[encoded data removed]",
      "text/plain": [
       "<Figure size 360x360 with 1 Axes>"
      ]
     },
     "metadata": {},
     "output_type": "display_data"
    }
   ],
   "source": [
    "cartesian_plot(X, z)"
   ]
  },
  {
   "cell_type": "markdown",
   "id": "9955b347-87cf-4cb7-bbf6-b3efc7134d64",
   "metadata": {},
   "source": [
    "## Gaussian\n",
    "\n",
    "$$\n",
    "    f(z) = e^{-z^2}\n",
    "$$\n",
    "\n",
    "for range $(0,1]$ and order of continuity $C^\\infty$\n",
    "\n",
    "## Derivative\n",
    "\n",
    "$$\n",
    "    f^\\prime(z) = -2ze^{-z^2}\n",
    "$$"
   ]
  },
  {
   "cell_type": "code",
   "execution_count": 30,
   "id": "e15b9c33-ba57-4b66-947a-fe3ae5b65a80",
   "metadata": {},
   "outputs": [],
   "source": [
    "z = np.exp(-np.square(X))"
   ]
  },
  {
   "cell_type": "code",
   "execution_count": 31,
   "id": "b55c19ab-bffc-465a-a907-74516baab548",
   "metadata": {},
   "outputs": [
    {
     "data": {
      "image/png": "[encoded data removed]",
      "text/plain": [
       "<Figure size 360x360 with 1 Axes>"
      ]
     },
     "metadata": {},
     "output_type": "display_data"
    }
   ],
   "source": [
    "cartesian_plot(X, z)"
   ]
  },
  {
   "cell_type": "markdown",
   "id": "5094cf08-e49d-4727-a99a-54367b8c9246",
   "metadata": {},
   "source": [
    "# Neural Network with Scikit-Learn"
   ]
  },
  {
   "cell_type": "code",
   "execution_count": 32,
   "id": "65371537-7c0b-47d0-b9c3-d22c7a5ef8cb",
   "metadata": {},
   "outputs": [],
   "source": [
    "data = load_digits()"
   ]
  },
  {
   "cell_type": "code",
   "execution_count": 33,
   "id": "3da67e2e-c4bb-49ae-9cfc-8e14adb8d3e7",
   "metadata": {},
   "outputs": [],
   "source": [
    "X = pd.DataFrame(data['data'], columns=data['feature_names']) / 255.0\n",
    "y = pd.Series(data['target'])"
   ]
  },
  {
   "cell_type": "code",
   "execution_count": 34,
   "id": "e6596272-7a4f-48f5-8883-ea17bb46bf34",
   "metadata": {},
   "outputs": [
    {
     "data": {
      "text/html": [
       "<div>\n",
       "<style scoped>\n",
       "    .dataframe tbody tr th:only-of-type {\n",
       "        vertical-align: middle;\n",
       "    }\n",
       "\n",
       "    .dataframe tbody tr th {\n",
       "        vertical-align: top;\n",
       "    }\n",
       "\n",
       "    .dataframe thead th {\n",
       "        text-align: right;\n",
       "    }\n",
       "</style>\n",
       "<table border=\"1\" class=\"dataframe\">\n",
       "  <thead>\n",
       "    <tr style=\"text-align: right;\">\n",
       "      <th></th>\n",
       "      <th>pixel_0_0</th>\n",
       "      <th>pixel_0_1</th>\n",
       "      <th>pixel_0_2</th>\n",
       "      <th>pixel_0_3</th>\n",
       "      <th>pixel_0_4</th>\n",
       "      <th>pixel_0_5</th>\n",
       "      <th>pixel_0_6</th>\n",
       "      <th>pixel_0_7</th>\n",
       "      <th>pixel_1_0</th>\n",
       "      <th>pixel_1_1</th>\n",
       "      <th>...</th>\n",
       "      <th>pixel_6_6</th>\n",
       "      <th>pixel_6_7</th>\n",
       "      <th>pixel_7_0</th>\n",
       "      <th>pixel_7_1</th>\n",
       "      <th>pixel_7_2</th>\n",
       "      <th>pixel_7_3</th>\n",
       "      <th>pixel_7_4</th>\n",
       "      <th>pixel_7_5</th>\n",
       "      <th>pixel_7_6</th>\n",
       "      <th>pixel_7_7</th>\n",
       "    </tr>\n",
       "  </thead>\n",
       "  <tbody>\n",
       "    <tr>\n",
       "      <th>0</th>\n",
       "      <td>0.0</td>\n",
       "      <td>0.0</td>\n",
       "      <td>0.019608</td>\n",
       "      <td>0.050980</td>\n",
       "      <td>0.035294</td>\n",
       "      <td>0.003922</td>\n",
       "      <td>0.0</td>\n",
       "      <td>0.0</td>\n",
       "      <td>0.0</td>\n",
       "      <td>0.000000</td>\n",
       "      <td>...</td>\n",
       "      <td>0.000000</td>\n",
       "      <td>0.0</td>\n",
       "      <td>0.0</td>\n",
       "      <td>0.0</td>\n",
       "      <td>0.023529</td>\n",
       "      <td>0.050980</td>\n",
       "      <td>0.039216</td>\n",
       "      <td>0.000000</td>\n",
       "      <td>0.000000</td>\n",
       "      <td>0.0</td>\n",
       "    </tr>\n",
       "    <tr>\n",
       "      <th>1</th>\n",
       "      <td>0.0</td>\n",
       "      <td>0.0</td>\n",
       "      <td>0.000000</td>\n",
       "      <td>0.047059</td>\n",
       "      <td>0.050980</td>\n",
       "      <td>0.019608</td>\n",
       "      <td>0.0</td>\n",
       "      <td>0.0</td>\n",
       "      <td>0.0</td>\n",
       "      <td>0.000000</td>\n",
       "      <td>...</td>\n",
       "      <td>0.000000</td>\n",
       "      <td>0.0</td>\n",
       "      <td>0.0</td>\n",
       "      <td>0.0</td>\n",
       "      <td>0.000000</td>\n",
       "      <td>0.043137</td>\n",
       "      <td>0.062745</td>\n",
       "      <td>0.039216</td>\n",
       "      <td>0.000000</td>\n",
       "      <td>0.0</td>\n",
       "    </tr>\n",
       "    <tr>\n",
       "      <th>2</th>\n",
       "      <td>0.0</td>\n",
       "      <td>0.0</td>\n",
       "      <td>0.000000</td>\n",
       "      <td>0.015686</td>\n",
       "      <td>0.058824</td>\n",
       "      <td>0.047059</td>\n",
       "      <td>0.0</td>\n",
       "      <td>0.0</td>\n",
       "      <td>0.0</td>\n",
       "      <td>0.000000</td>\n",
       "      <td>...</td>\n",
       "      <td>0.019608</td>\n",
       "      <td>0.0</td>\n",
       "      <td>0.0</td>\n",
       "      <td>0.0</td>\n",
       "      <td>0.000000</td>\n",
       "      <td>0.011765</td>\n",
       "      <td>0.043137</td>\n",
       "      <td>0.062745</td>\n",
       "      <td>0.035294</td>\n",
       "      <td>0.0</td>\n",
       "    </tr>\n",
       "    <tr>\n",
       "      <th>3</th>\n",
       "      <td>0.0</td>\n",
       "      <td>0.0</td>\n",
       "      <td>0.027451</td>\n",
       "      <td>0.058824</td>\n",
       "      <td>0.050980</td>\n",
       "      <td>0.003922</td>\n",
       "      <td>0.0</td>\n",
       "      <td>0.0</td>\n",
       "      <td>0.0</td>\n",
       "      <td>0.031373</td>\n",
       "      <td>...</td>\n",
       "      <td>0.035294</td>\n",
       "      <td>0.0</td>\n",
       "      <td>0.0</td>\n",
       "      <td>0.0</td>\n",
       "      <td>0.027451</td>\n",
       "      <td>0.050980</td>\n",
       "      <td>0.050980</td>\n",
       "      <td>0.035294</td>\n",
       "      <td>0.000000</td>\n",
       "      <td>0.0</td>\n",
       "    </tr>\n",
       "    <tr>\n",
       "      <th>4</th>\n",
       "      <td>0.0</td>\n",
       "      <td>0.0</td>\n",
       "      <td>0.000000</td>\n",
       "      <td>0.003922</td>\n",
       "      <td>0.043137</td>\n",
       "      <td>0.000000</td>\n",
       "      <td>0.0</td>\n",
       "      <td>0.0</td>\n",
       "      <td>0.0</td>\n",
       "      <td>0.000000</td>\n",
       "      <td>...</td>\n",
       "      <td>0.000000</td>\n",
       "      <td>0.0</td>\n",
       "      <td>0.0</td>\n",
       "      <td>0.0</td>\n",
       "      <td>0.000000</td>\n",
       "      <td>0.007843</td>\n",
       "      <td>0.062745</td>\n",
       "      <td>0.015686</td>\n",
       "      <td>0.000000</td>\n",
       "      <td>0.0</td>\n",
       "    </tr>\n",
       "  </tbody>\n",
       "</table>\n",
       "<p>5 rows × 64 columns</p>\n",
       "</div>"
      ],
      "text/plain": [
       "   pixel_0_0  pixel_0_1  pixel_0_2  pixel_0_3  pixel_0_4  pixel_0_5  \\\n",
       "0        0.0        0.0   0.019608   0.050980   0.035294   0.003922   \n",
       "1        0.0        0.0   0.000000   0.047059   0.050980   0.019608   \n",
       "2        0.0        0.0   0.000000   0.015686   0.058824   0.047059   \n",
       "3        0.0        0.0   0.027451   0.058824   0.050980   0.003922   \n",
       "4        0.0        0.0   0.000000   0.003922   0.043137   0.000000   \n",
       "\n",
       "   pixel_0_6  pixel_0_7  pixel_1_0  pixel_1_1  ...  pixel_6_6  pixel_6_7  \\\n",
       "0        0.0        0.0        0.0   0.000000  ...   0.000000        0.0   \n",
       "1        0.0        0.0        0.0   0.000000  ...   0.000000        0.0   \n",
       "2        0.0        0.0        0.0   0.000000  ...   0.019608        0.0   \n",
       "3        0.0        0.0        0.0   0.031373  ...   0.035294        0.0   \n",
       "4        0.0        0.0        0.0   0.000000  ...   0.000000        0.0   \n",
       "\n",
       "   pixel_7_0  pixel_7_1  pixel_7_2  pixel_7_3  pixel_7_4  pixel_7_5  \\\n",
       "0        0.0        0.0   0.023529   0.050980   0.039216   0.000000   \n",
       "1        0.0        0.0   0.000000   0.043137   0.062745   0.039216   \n",
       "2        0.0        0.0   0.000000   0.011765   0.043137   0.062745   \n",
       "3        0.0        0.0   0.027451   0.050980   0.050980   0.035294   \n",
       "4        0.0        0.0   0.000000   0.007843   0.062745   0.015686   \n",
       "\n",
       "   pixel_7_6  pixel_7_7  \n",
       "0   0.000000        0.0  \n",
       "1   0.000000        0.0  \n",
       "2   0.035294        0.0  \n",
       "3   0.000000        0.0  \n",
       "4   0.000000        0.0  \n",
       "\n",
       "[5 rows x 64 columns]"
      ]
     },
     "execution_count": 34,
     "metadata": {},
     "output_type": "execute_result"
    }
   ],
   "source": [
    "X.head()"
   ]
  },
  {
   "cell_type": "code",
   "execution_count": 35,
   "id": "eb9dc026-8b0f-480e-9e0e-1c70ecc7e203",
   "metadata": {},
   "outputs": [
    {
     "data": {
      "text/plain": [
       "0    0\n",
       "1    1\n",
       "2    2\n",
       "3    3\n",
       "4    4\n",
       "dtype: int64"
      ]
     },
     "execution_count": 35,
     "metadata": {},
     "output_type": "execute_result"
    }
   ],
   "source": [
    "y.head()"
   ]
  },
  {
   "cell_type": "code",
   "execution_count": 36,
   "id": "cc60337d-3eb3-43fd-9c25-41a5b55d2a47",
   "metadata": {},
   "outputs": [],
   "source": [
    "X_train, X_test, y_train, y_test = train_test_split(X, y, test_size=0.3, random_state=0)"
   ]
  },
  {
   "cell_type": "code",
   "execution_count": 37,
   "id": "6cc059d7-bef6-4a1e-9fc6-85081d5bf0f0",
   "metadata": {
    "tags": []
   },
   "outputs": [
    {
     "data": {
      "text/plain": [
       "MLPClassifier(hidden_layer_sizes=(8,), max_iter=5000)"
      ]
     },
     "execution_count": 37,
     "metadata": {},
     "output_type": "execute_result"
    }
   ],
   "source": [
    "mlp = MLPClassifier(\n",
    "    activation='relu',\n",
    "    hidden_layer_sizes=(8,),\n",
    "    max_iter=5000,\n",
    ")\n",
    "\n",
    "mlp.fit(X_train, y_train)"
   ]
  },
  {
   "cell_type": "code",
   "execution_count": 38,
   "id": "a434ea26-a748-41da-914f-7461cfb9e080",
   "metadata": {},
   "outputs": [],
   "source": [
    "y_pred = mlp.predict(X_test)"
   ]
  },
  {
   "cell_type": "code",
   "execution_count": 39,
   "id": "3a730976-efef-416e-bc82-b4da7d9755a2",
   "metadata": {},
   "outputs": [
    {
     "data": {
      "text/plain": [
       "0.9388888888888889"
      ]
     },
     "execution_count": 39,
     "metadata": {},
     "output_type": "execute_result"
    }
   ],
   "source": [
    "accuracy_score(y_test, y_pred)"
   ]
  },
  {
   "cell_type": "code",
   "execution_count": 40,
   "id": "212731ec-d996-422c-8937-db0fcfc56f62",
   "metadata": {},
   "outputs": [
    {
     "data": {
      "image/png": "[encoded data removed]",
      "text/plain": [
       "<Figure size 576x396 with 1 Axes>"
      ]
     },
     "metadata": {},
     "output_type": "display_data"
    }
   ],
   "source": [
    "sns.heatmap(\n",
    "    confusion_matrix(y_test, y_pred),\n",
    "    annot=True,\n",
    "    cbar=False,\n",
    "    cmap=sns.light_palette('seagreen')\n",
    ")\n",
    "plt.xlabel('Predicted')\n",
    "plt.ylabel('True')\n",
    "plt.title('Confusion Matrix')\n",
    "plt.show()"
   ]
  },
  {
   "cell_type": "code",
   "execution_count": 41,
   "id": "294e74de-f651-4a3f-9d7a-4e96f518c1dc",
   "metadata": {},
   "outputs": [
    {
     "name": "stdout",
     "output_type": "stream",
     "text": [
      "              precision    recall  f1-score   support\n",
      "\n",
      "           0       0.98      0.98      0.98        45\n",
      "           1       0.85      0.90      0.88        52\n",
      "           2       0.96      0.87      0.91        53\n",
      "           3       0.98      0.93      0.95        54\n",
      "           4       0.96      1.00      0.98        48\n",
      "           5       0.95      0.98      0.97        57\n",
      "           6       0.95      0.98      0.97        60\n",
      "           7       0.93      0.96      0.94        53\n",
      "           8       0.95      0.85      0.90        61\n",
      "           9       0.90      0.95      0.92        57\n",
      "\n",
      "    accuracy                           0.94       540\n",
      "   macro avg       0.94      0.94      0.94       540\n",
      "weighted avg       0.94      0.94      0.94       540\n",
      "\n"
     ]
    }
   ],
   "source": [
    "print(classification_report(y_test, y_pred))"
   ]
  },
  {
   "cell_type": "code",
   "execution_count": 42,
   "id": "65de8d03-cd2b-406e-b831-56e4d1f919e8",
   "metadata": {},
   "outputs": [
    {
     "data": {
      "image/png": "[encoded data removed]",
      "text/plain": [
       "<Figure size 576x396 with 1 Axes>"
      ]
     },
     "metadata": {},
     "output_type": "display_data"
    },
    {
     "data": {
      "text/plain": [
       "<AxesSubplot:title={'center':'ROC Curves for MLPClassifier'}, xlabel='False Positive Rate', ylabel='True Positive Rate'>"
      ]
     },
     "execution_count": 42,
     "metadata": {},
     "output_type": "execute_result"
    }
   ],
   "source": [
    "viz = ybc.ROCAUC(mlp)\n",
    "viz.fit(X_train, y_train)\n",
    "viz.score(X_test, y_test)\n",
    "viz.show()"
   ]
  },
  {
   "cell_type": "code",
   "execution_count": 43,
   "id": "d93ea894-8b40-45f8-9196-35fbc9a4d27a",
   "metadata": {
    "tags": []
   },
   "outputs": [
    {
     "data": {
      "image/png": "[encoded data removed]",
      "text/plain": [
       "<Figure size 576x396 with 1 Axes>"
      ]
     },
     "metadata": {},
     "output_type": "display_data"
    },
    {
     "data": {
      "text/plain": [
       "<AxesSubplot:title={'center':'Precision-Recall Curve for MLPClassifier'}, xlabel='Recall', ylabel='Precision'>"
      ]
     },
     "execution_count": 43,
     "metadata": {},
     "output_type": "execute_result"
    }
   ],
   "source": [
    "viz = ybc.PrecisionRecallCurve(mlp)\n",
    "viz.fit(X_train, y_train)\n",
    "viz.score(X_test, y_test)\n",
    "viz.show()"
   ]
  },
  {
   "cell_type": "code",
   "execution_count": 44,
   "id": "06f893ae-f77c-42ab-8ac5-1e54bab49db5",
   "metadata": {
    "tags": []
   },
   "outputs": [
    {
     "data": {
      "image/png": "[encoded data removed]",
      "text/plain": [
       "<Figure size 576x396 with 1 Axes>"
      ]
     },
     "metadata": {},
     "output_type": "display_data"
    },
    {
     "data": {
      "text/plain": [
       "<AxesSubplot:title={'center':'Class Prediction Error for MLPClassifier'}, xlabel='actual class', ylabel='number of predicted class'>"
      ]
     },
     "execution_count": 44,
     "metadata": {},
     "output_type": "execute_result"
    }
   ],
   "source": [
    "viz = ybc.ClassPredictionError(mlp)\n",
    "viz.fit(X_train, y_train)\n",
    "viz.score(X_test, y_test)\n",
    "viz.show()"
   ]
  },
  {
   "cell_type": "markdown",
   "id": "74d48e51-05a4-42b4-a266-f3a635b20576",
   "metadata": {},
   "source": [
    "# Neural Network with TensorFlow and Keras"
   ]
  },
  {
   "cell_type": "code",
   "execution_count": 45,
   "id": "a102dafa-bc33-4c50-8098-80103202eaa1",
   "metadata": {},
   "outputs": [],
   "source": [
    "model = keras.Sequential([\n",
    "    keras.layers.InputLayer(64), # Input layer matches MNIST features\n",
    "    keras.layers.Dense(128, activation=keras.activations.relu),\n",
    "    keras.layers.Dense(32, activation=keras.activations.relu),\n",
    "    keras.layers.Dense(10, activation=keras.activations.softmax)\n",
    "])"
   ]
  },
  {
   "cell_type": "code",
   "execution_count": 46,
   "id": "a294b91a-4592-4433-8e26-c820589725f9",
   "metadata": {},
   "outputs": [
    {
     "name": "stdout",
     "output_type": "stream",
     "text": [
      "Model: \"sequential\"\n",
      "_________________________________________________________________\n",
      "Layer (type)                 Output Shape              Param #   \n",
      "=================================================================\n",
      "dense (Dense)                (None, 128)               8320      \n",
      "_________________________________________________________________\n",
      "dense_1 (Dense)              (None, 32)                4128      \n",
      "_________________________________________________________________\n",
      "dense_2 (Dense)              (None, 10)                330       \n",
      "=================================================================\n",
      "Total params: 12,778\n",
      "Trainable params: 12,778\n",
      "Non-trainable params: 0\n",
      "_________________________________________________________________\n"
     ]
    }
   ],
   "source": [
    "model.summary()"
   ]
  },
  {
   "cell_type": "code",
   "execution_count": 47,
   "id": "f7fda081-24bc-459f-853d-6252fa450b9d",
   "metadata": {},
   "outputs": [],
   "source": [
    "model.compile(\n",
    "    optimizer='adam', \n",
    "    loss='sparse_categorical_crossentropy',\n",
    "    metrics=['accuracy']\n",
    ")"
   ]
  },
  {
   "cell_type": "code",
   "execution_count": 48,
   "id": "5b91ffbd-86e3-4b03-a39c-cd5e1473d908",
   "metadata": {
    "scrolled": true,
    "tags": []
   },
   "outputs": [
    {
     "name": "stdout",
     "output_type": "stream",
     "text": [
      "Epoch 1/100\n",
      "20/20 [==============================] - 6s 2ms/step - loss: 2.2936 - accuracy: 0.1739\n",
      "Epoch 2/100\n",
      "20/20 [==============================] - 0s 2ms/step - loss: 2.2572 - accuracy: 0.4938\n",
      "Epoch 3/100\n",
      "20/20 [==============================] - 0s 2ms/step - loss: 2.1979 - accuracy: 0.4949\n",
      "Epoch 4/100\n",
      "20/20 [==============================] - 0s 2ms/step - loss: 2.1023 - accuracy: 0.5697\n",
      "Epoch 5/100\n",
      "20/20 [==============================] - 0s 2ms/step - loss: 1.9671 - accuracy: 0.6126\n",
      "Epoch 6/100\n",
      "20/20 [==============================] - 0s 2ms/step - loss: 1.7645 - accuracy: 0.6557\n",
      "Epoch 7/100\n",
      "20/20 [==============================] - 0s 2ms/step - loss: 1.5608 - accuracy: 0.7469\n",
      "Epoch 8/100\n",
      "20/20 [==============================] - 0s 2ms/step - loss: 1.3242 - accuracy: 0.7782\n",
      "Epoch 9/100\n",
      "20/20 [==============================] - 0s 2ms/step - loss: 1.1246 - accuracy: 0.7799\n",
      "Epoch 10/100\n",
      "20/20 [==============================] - 0s 2ms/step - loss: 0.9274 - accuracy: 0.8056\n",
      "Epoch 11/100\n",
      "20/20 [==============================] - 0s 2ms/step - loss: 0.8283 - accuracy: 0.8223\n",
      "Epoch 12/100\n",
      "20/20 [==============================] - 0s 2ms/step - loss: 0.7133 - accuracy: 0.8489\n",
      "Epoch 13/100\n",
      "20/20 [==============================] - 0s 2ms/step - loss: 0.6679 - accuracy: 0.8246\n",
      "Epoch 14/100\n",
      "20/20 [==============================] - 0s 2ms/step - loss: 0.5836 - accuracy: 0.8781\n",
      "Epoch 15/100\n",
      "20/20 [==============================] - 0s 2ms/step - loss: 0.5450 - accuracy: 0.8772\n",
      "Epoch 16/100\n",
      "20/20 [==============================] - 0s 2ms/step - loss: 0.4861 - accuracy: 0.8954\n",
      "Epoch 17/100\n",
      "20/20 [==============================] - 0s 2ms/step - loss: 0.4372 - accuracy: 0.9088\n",
      "Epoch 18/100\n",
      "20/20 [==============================] - 0s 2ms/step - loss: 0.4227 - accuracy: 0.8915\n",
      "Epoch 19/100\n",
      "20/20 [==============================] - 0s 2ms/step - loss: 0.4269 - accuracy: 0.8922\n",
      "Epoch 20/100\n",
      "20/20 [==============================] - 0s 2ms/step - loss: 0.4032 - accuracy: 0.9018\n",
      "Epoch 21/100\n",
      "20/20 [==============================] - 0s 2ms/step - loss: 0.3467 - accuracy: 0.9072\n",
      "Epoch 22/100\n",
      "20/20 [==============================] - 0s 2ms/step - loss: 0.3590 - accuracy: 0.9163\n",
      "Epoch 23/100\n",
      "20/20 [==============================] - 0s 2ms/step - loss: 0.3160 - accuracy: 0.9244\n",
      "Epoch 24/100\n",
      "20/20 [==============================] - 0s 2ms/step - loss: 0.3121 - accuracy: 0.9279\n",
      "Epoch 25/100\n",
      "20/20 [==============================] - 0s 2ms/step - loss: 0.2893 - accuracy: 0.9214\n",
      "Epoch 26/100\n",
      "20/20 [==============================] - 0s 2ms/step - loss: 0.2751 - accuracy: 0.9336\n",
      "Epoch 27/100\n",
      "20/20 [==============================] - 0s 2ms/step - loss: 0.2722 - accuracy: 0.9340\n",
      "Epoch 28/100\n",
      "20/20 [==============================] - 0s 2ms/step - loss: 0.2772 - accuracy: 0.9327\n",
      "Epoch 29/100\n",
      "20/20 [==============================] - 0s 2ms/step - loss: 0.2357 - accuracy: 0.9442\n",
      "Epoch 30/100\n",
      "20/20 [==============================] - 0s 2ms/step - loss: 0.2481 - accuracy: 0.9383\n",
      "Epoch 31/100\n",
      "20/20 [==============================] - 0s 2ms/step - loss: 0.2393 - accuracy: 0.9353\n",
      "Epoch 32/100\n",
      "20/20 [==============================] - 0s 2ms/step - loss: 0.2376 - accuracy: 0.9492\n",
      "Epoch 33/100\n",
      "20/20 [==============================] - 0s 2ms/step - loss: 0.2126 - accuracy: 0.9487\n",
      "Epoch 34/100\n",
      "20/20 [==============================] - 0s 2ms/step - loss: 0.2145 - accuracy: 0.9499\n",
      "Epoch 35/100\n",
      "20/20 [==============================] - 0s 2ms/step - loss: 0.2189 - accuracy: 0.9464\n",
      "Epoch 36/100\n",
      "20/20 [==============================] - 0s 2ms/step - loss: 0.1952 - accuracy: 0.9602\n",
      "Epoch 37/100\n",
      "20/20 [==============================] - 0s 2ms/step - loss: 0.1993 - accuracy: 0.9475\n",
      "Epoch 38/100\n",
      "20/20 [==============================] - 0s 2ms/step - loss: 0.2009 - accuracy: 0.9558\n",
      "Epoch 39/100\n",
      "20/20 [==============================] - 0s 2ms/step - loss: 0.1984 - accuracy: 0.9485\n",
      "Epoch 40/100\n",
      "20/20 [==============================] - 0s 2ms/step - loss: 0.2048 - accuracy: 0.9420\n",
      "Epoch 41/100\n",
      "20/20 [==============================] - 0s 2ms/step - loss: 0.1782 - accuracy: 0.9610\n",
      "Epoch 42/100\n",
      "20/20 [==============================] - 0s 2ms/step - loss: 0.1577 - accuracy: 0.9657\n",
      "Epoch 43/100\n",
      "20/20 [==============================] - 0s 2ms/step - loss: 0.1557 - accuracy: 0.9605\n",
      "Epoch 44/100\n",
      "20/20 [==============================] - 0s 2ms/step - loss: 0.1645 - accuracy: 0.9593\n",
      "Epoch 45/100\n",
      "20/20 [==============================] - 0s 2ms/step - loss: 0.1689 - accuracy: 0.9628\n",
      "Epoch 46/100\n",
      "20/20 [==============================] - 0s 2ms/step - loss: 0.1623 - accuracy: 0.9571\n",
      "Epoch 47/100\n",
      "20/20 [==============================] - 0s 2ms/step - loss: 0.1940 - accuracy: 0.9568\n",
      "Epoch 48/100\n",
      "20/20 [==============================] - 0s 2ms/step - loss: 0.1481 - accuracy: 0.9674\n",
      "Epoch 49/100\n",
      "20/20 [==============================] - 0s 2ms/step - loss: 0.1411 - accuracy: 0.9675\n",
      "Epoch 50/100\n",
      "20/20 [==============================] - 0s 2ms/step - loss: 0.1428 - accuracy: 0.9690\n",
      "Epoch 51/100\n",
      "20/20 [==============================] - 0s 2ms/step - loss: 0.1545 - accuracy: 0.9664\n",
      "Epoch 52/100\n",
      "20/20 [==============================] - 0s 2ms/step - loss: 0.1469 - accuracy: 0.9631\n",
      "Epoch 53/100\n",
      "20/20 [==============================] - 0s 2ms/step - loss: 0.1327 - accuracy: 0.9654\n",
      "Epoch 54/100\n",
      "20/20 [==============================] - 0s 2ms/step - loss: 0.1449 - accuracy: 0.9700\n",
      "Epoch 55/100\n",
      "20/20 [==============================] - 0s 2ms/step - loss: 0.1249 - accuracy: 0.9724\n",
      "Epoch 56/100\n",
      "20/20 [==============================] - 0s 2ms/step - loss: 0.1318 - accuracy: 0.9697\n",
      "Epoch 57/100\n",
      "20/20 [==============================] - 0s 2ms/step - loss: 0.1428 - accuracy: 0.9666\n",
      "Epoch 58/100\n",
      "20/20 [==============================] - 0s 2ms/step - loss: 0.1294 - accuracy: 0.9699\n",
      "Epoch 59/100\n",
      "20/20 [==============================] - 0s 2ms/step - loss: 0.1158 - accuracy: 0.9728\n",
      "Epoch 60/100\n",
      "20/20 [==============================] - 0s 2ms/step - loss: 0.1154 - accuracy: 0.9750\n",
      "Epoch 61/100\n",
      "20/20 [==============================] - 0s 2ms/step - loss: 0.1177 - accuracy: 0.9763\n",
      "Epoch 62/100\n",
      "20/20 [==============================] - 0s 2ms/step - loss: 0.1221 - accuracy: 0.9744\n",
      "Epoch 63/100\n",
      "20/20 [==============================] - 0s 2ms/step - loss: 0.0963 - accuracy: 0.9841\n",
      "Epoch 64/100\n",
      "20/20 [==============================] - 0s 2ms/step - loss: 0.1125 - accuracy: 0.9769\n",
      "Epoch 65/100\n",
      "20/20 [==============================] - 0s 2ms/step - loss: 0.1035 - accuracy: 0.9756\n",
      "Epoch 66/100\n",
      "20/20 [==============================] - 0s 2ms/step - loss: 0.1110 - accuracy: 0.9768\n",
      "Epoch 67/100\n",
      "20/20 [==============================] - 0s 2ms/step - loss: 0.1116 - accuracy: 0.9729\n",
      "Epoch 68/100\n",
      "20/20 [==============================] - 0s 2ms/step - loss: 0.1078 - accuracy: 0.9742\n",
      "Epoch 69/100\n",
      "20/20 [==============================] - 0s 2ms/step - loss: 0.0954 - accuracy: 0.9779\n",
      "Epoch 70/100\n",
      "20/20 [==============================] - 0s 2ms/step - loss: 0.0889 - accuracy: 0.9815\n",
      "Epoch 71/100\n",
      "20/20 [==============================] - 0s 2ms/step - loss: 0.0970 - accuracy: 0.9764\n",
      "Epoch 72/100\n",
      "20/20 [==============================] - 0s 2ms/step - loss: 0.0958 - accuracy: 0.9774\n",
      "Epoch 73/100\n",
      "20/20 [==============================] - 0s 2ms/step - loss: 0.0882 - accuracy: 0.9864\n",
      "Epoch 74/100\n",
      "20/20 [==============================] - 0s 2ms/step - loss: 0.0904 - accuracy: 0.9828\n",
      "Epoch 75/100\n",
      "20/20 [==============================] - 0s 2ms/step - loss: 0.0935 - accuracy: 0.9845\n",
      "Epoch 76/100\n",
      "20/20 [==============================] - 0s 2ms/step - loss: 0.0945 - accuracy: 0.9816\n",
      "Epoch 77/100\n",
      "20/20 [==============================] - 0s 2ms/step - loss: 0.0880 - accuracy: 0.9806\n",
      "Epoch 78/100\n",
      "20/20 [==============================] - 0s 2ms/step - loss: 0.0828 - accuracy: 0.9877\n",
      "Epoch 79/100\n",
      "20/20 [==============================] - 0s 2ms/step - loss: 0.0729 - accuracy: 0.9870\n",
      "Epoch 80/100\n",
      "20/20 [==============================] - 0s 2ms/step - loss: 0.0843 - accuracy: 0.9851\n",
      "Epoch 81/100\n",
      "20/20 [==============================] - 0s 2ms/step - loss: 0.0867 - accuracy: 0.9825\n",
      "Epoch 82/100\n",
      "20/20 [==============================] - 0s 2ms/step - loss: 0.0839 - accuracy: 0.9866\n",
      "Epoch 83/100\n",
      "20/20 [==============================] - 0s 2ms/step - loss: 0.0674 - accuracy: 0.9880\n",
      "Epoch 84/100\n",
      "20/20 [==============================] - 0s 2ms/step - loss: 0.0733 - accuracy: 0.9855\n",
      "Epoch 85/100\n",
      "20/20 [==============================] - 0s 2ms/step - loss: 0.0725 - accuracy: 0.9899\n",
      "Epoch 86/100\n",
      "20/20 [==============================] - 0s 2ms/step - loss: 0.0692 - accuracy: 0.9894\n",
      "Epoch 87/100\n",
      "20/20 [==============================] - 0s 2ms/step - loss: 0.0701 - accuracy: 0.9854\n",
      "Epoch 88/100\n",
      "20/20 [==============================] - 0s 2ms/step - loss: 0.0729 - accuracy: 0.9871\n",
      "Epoch 89/100\n",
      "20/20 [==============================] - 0s 2ms/step - loss: 0.0654 - accuracy: 0.9841\n",
      "Epoch 90/100\n",
      "20/20 [==============================] - 0s 2ms/step - loss: 0.0717 - accuracy: 0.9869\n",
      "Epoch 91/100\n",
      "20/20 [==============================] - 0s 2ms/step - loss: 0.0597 - accuracy: 0.9879\n",
      "Epoch 92/100\n",
      "20/20 [==============================] - 0s 2ms/step - loss: 0.0675 - accuracy: 0.9892\n",
      "Epoch 93/100\n",
      "20/20 [==============================] - 0s 2ms/step - loss: 0.0617 - accuracy: 0.9904\n",
      "Epoch 94/100\n",
      "20/20 [==============================] - 0s 2ms/step - loss: 0.0704 - accuracy: 0.9841\n",
      "Epoch 95/100\n",
      "20/20 [==============================] - 0s 2ms/step - loss: 0.0570 - accuracy: 0.9896\n",
      "Epoch 96/100\n",
      "20/20 [==============================] - 0s 2ms/step - loss: 0.0674 - accuracy: 0.9858\n",
      "Epoch 97/100\n",
      "20/20 [==============================] - 0s 2ms/step - loss: 0.0611 - accuracy: 0.9906\n",
      "Epoch 98/100\n",
      "20/20 [==============================] - 0s 2ms/step - loss: 0.0640 - accuracy: 0.9862\n",
      "Epoch 99/100\n",
      "20/20 [==============================] - 0s 2ms/step - loss: 0.0585 - accuracy: 0.9933\n",
      "Epoch 100/100\n",
      "20/20 [==============================] - 0s 2ms/step - loss: 0.0556 - accuracy: 0.9896\n",
      "CPU times: user 11 s, sys: 2.46 s, total: 13.5 s\n",
      "Wall time: 9.55 s\n"
     ]
    },
    {
     "data": {
      "text/plain": [
       "<tensorflow.python.keras.callbacks.History at 0x7f2de3fbc070>"
      ]
     },
     "execution_count": 48,
     "metadata": {},
     "output_type": "execute_result"
    }
   ],
   "source": [
    "%%time\n",
    "model.fit(X_train, y_train, batch_size=64, epochs=100)"
   ]
  },
  {
   "cell_type": "code",
   "execution_count": 49,
   "id": "47a5cf6d-8ed1-4609-85d1-0501e7f4e8ce",
   "metadata": {
    "scrolled": true,
    "tags": []
   },
   "outputs": [
    {
     "data": {
      "text/plain": [
       "{'loss': [2.2864623069763184,\n",
       "  2.2471776008605957,\n",
       "  2.182868242263794,\n",
       "  2.0804667472839355,\n",
       "  1.9279124736785889,\n",
       "  1.7330756187438965,\n",
       "  1.5084047317504883,\n",
       "  1.2804837226867676,\n",
       "  1.083606243133545,\n",
       "  0.9222303628921509,\n",
       "  0.7992786765098572,\n",
       "  0.708823561668396,\n",
       "  0.634022057056427,\n",
       "  0.5727623701095581,\n",
       "  0.5281940698623657,\n",
       "  0.48805564641952515,\n",
       "  0.4573718309402466,\n",
       "  0.42917242646217346,\n",
       "  0.4034980535507202,\n",
       "  0.3780553638935089,\n",
       "  0.3603597581386566,\n",
       "  0.34399229288101196,\n",
       "  0.3277203440666199,\n",
       "  0.3169056177139282,\n",
       "  0.30277106165885925,\n",
       "  0.29182761907577515,\n",
       "  0.2762097418308258,\n",
       "  0.2682807147502899,\n",
       "  0.25799840688705444,\n",
       "  0.24806544184684753,\n",
       "  0.24241627752780914,\n",
       "  0.23618067800998688,\n",
       "  0.2243577092885971,\n",
       "  0.2174319177865982,\n",
       "  0.21363972127437592,\n",
       "  0.20469574630260468,\n",
       "  0.19869810342788696,\n",
       "  0.1935155838727951,\n",
       "  0.18965809047222137,\n",
       "  0.18658170104026794,\n",
       "  0.17903950810432434,\n",
       "  0.17336851358413696,\n",
       "  0.17229418456554413,\n",
       "  0.16727158427238464,\n",
       "  0.1624571830034256,\n",
       "  0.16001127660274506,\n",
       "  0.1547870934009552,\n",
       "  0.15107344090938568,\n",
       "  0.14891761541366577,\n",
       "  0.14787329733371735,\n",
       "  0.1429159939289093,\n",
       "  0.14003528654575348,\n",
       "  0.1365249752998352,\n",
       "  0.13425588607788086,\n",
       "  0.130819171667099,\n",
       "  0.1305324286222458,\n",
       "  0.12503698468208313,\n",
       "  0.12241639941930771,\n",
       "  0.11944933235645294,\n",
       "  0.11824307590723038,\n",
       "  0.11550363153219223,\n",
       "  0.11358997970819473,\n",
       "  0.11220312863588333,\n",
       "  0.11094624549150467,\n",
       "  0.10793548822402954,\n",
       "  0.10931846499443054,\n",
       "  0.10861674696207047,\n",
       "  0.10241419076919556,\n",
       "  0.10027095675468445,\n",
       "  0.09771741181612015,\n",
       "  0.0979238823056221,\n",
       "  0.0966227576136589,\n",
       "  0.09238128364086151,\n",
       "  0.09097504615783691,\n",
       "  0.09290366619825363,\n",
       "  0.08980321884155273,\n",
       "  0.08618432283401489,\n",
       "  0.08595315366983414,\n",
       "  0.08487140387296677,\n",
       "  0.08339325338602066,\n",
       "  0.08089806884527206,\n",
       "  0.08147113025188446,\n",
       "  0.07854193449020386,\n",
       "  0.07838179171085358,\n",
       "  0.0762120932340622,\n",
       "  0.07524364441633224,\n",
       "  0.074814572930336,\n",
       "  0.07424352318048477,\n",
       "  0.071226567029953,\n",
       "  0.07123906165361404,\n",
       "  0.06906299293041229,\n",
       "  0.06914830952882767,\n",
       "  0.06908205151557922,\n",
       "  0.06650237739086151,\n",
       "  0.06472735106945038,\n",
       "  0.06401367485523224,\n",
       "  0.06309778243303299,\n",
       "  0.06445565074682236,\n",
       "  0.0614364929497242,\n",
       "  0.06061865761876106],\n",
       " 'accuracy': [0.26491647958755493,\n",
       "  0.500397801399231,\n",
       "  0.49960222840309143,\n",
       "  0.5648369193077087,\n",
       "  0.6221161484718323,\n",
       "  0.6587111949920654,\n",
       "  0.7358790636062622,\n",
       "  0.7812251448631287,\n",
       "  0.7915672063827515,\n",
       "  0.8058870434761047,\n",
       "  0.831344485282898,\n",
       "  0.8456642627716064,\n",
       "  0.8520286679267883,\n",
       "  0.8719172477722168,\n",
       "  0.8822593688964844,\n",
       "  0.8886237144470215,\n",
       "  0.8957836031913757,\n",
       "  0.89180588722229,\n",
       "  0.9005568623542786,\n",
       "  0.910103440284729,\n",
       "  0.9116945266723633,\n",
       "  0.9180588722229004,\n",
       "  0.9196499586105347,\n",
       "  0.9220365881919861,\n",
       "  0.9172633290290833,\n",
       "  0.9268098473548889,\n",
       "  0.9291964769363403,\n",
       "  0.9355608820915222,\n",
       "  0.9339697957038879,\n",
       "  0.9387430548667908,\n",
       "  0.9371519684791565,\n",
       "  0.9466984868049622,\n",
       "  0.9482895731925964,\n",
       "  0.945902943611145,\n",
       "  0.9482895731925964,\n",
       "  0.9522672891616821,\n",
       "  0.9538583755493164,\n",
       "  0.9538583755493164,\n",
       "  0.951471745967865,\n",
       "  0.9530628323554993,\n",
       "  0.957040548324585,\n",
       "  0.9586316347122192,\n",
       "  0.957040548324585,\n",
       "  0.9602227807044983,\n",
       "  0.9634049534797668,\n",
       "  0.9610183238983154,\n",
       "  0.9657915830612183,\n",
       "  0.9657915830612183,\n",
       "  0.9649960398674011,\n",
       "  0.9665871262550354,\n",
       "  0.9673826694488525,\n",
       "  0.9673826694488525,\n",
       "  0.9681782126426697,\n",
       "  0.969769299030304,\n",
       "  0.9705648422241211,\n",
       "  0.969769299030304,\n",
       "  0.9729514718055725,\n",
       "  0.9729514718055725,\n",
       "  0.9705648422241211,\n",
       "  0.9737470149993896,\n",
       "  0.9737470149993896,\n",
       "  0.9745425581932068,\n",
       "  0.9777247309684753,\n",
       "  0.9753381013870239,\n",
       "  0.9721559286117554,\n",
       "  0.9761336445808411,\n",
       "  0.9729514718055725,\n",
       "  0.9769291877746582,\n",
       "  0.9793158173561096,\n",
       "  0.9793158173561096,\n",
       "  0.9785202741622925,\n",
       "  0.9777247309684753,\n",
       "  0.9824979901313782,\n",
       "  0.9824979901313782,\n",
       "  0.981702446937561,\n",
       "  0.9832935333251953,\n",
       "  0.9832935333251953,\n",
       "  0.9832935333251953,\n",
       "  0.9832935333251953,\n",
       "  0.9840890765190125,\n",
       "  0.9856801629066467,\n",
       "  0.9848846197128296,\n",
       "  0.9864757061004639,\n",
       "  0.9824979901313782,\n",
       "  0.9864757061004639,\n",
       "  0.9872713088989258,\n",
       "  0.9840890765190125,\n",
       "  0.9856801629066467,\n",
       "  0.9856801629066467,\n",
       "  0.9872713088989258,\n",
       "  0.9864757061004639,\n",
       "  0.9864757061004639,\n",
       "  0.9872713088989258,\n",
       "  0.9872713088989258,\n",
       "  0.9872713088989258,\n",
       "  0.9872713088989258,\n",
       "  0.9864757061004639,\n",
       "  0.9848846197128296,\n",
       "  0.9896579384803772,\n",
       "  0.9872713088989258]}"
      ]
     },
     "execution_count": 49,
     "metadata": {},
     "output_type": "execute_result"
    }
   ],
   "source": [
    "model.history.history"
   ]
  },
  {
   "cell_type": "code",
   "execution_count": 50,
   "id": "a54ac647-f6cd-4a86-928f-6f074b401a69",
   "metadata": {},
   "outputs": [
    {
     "name": "stdout",
     "output_type": "stream",
     "text": [
      "5/5 [==============================] - 0s 2ms/step - loss: 0.1494 - accuracy: 0.9574\n",
      "test loss, test acc: [0.1494182050228119, 0.9574074149131775]\n"
     ]
    }
   ],
   "source": [
    "results = model.evaluate(X_test, y_test, batch_size=128)\n",
    "print(\"test loss, test acc:\", results)"
   ]
  },
  {
   "cell_type": "code",
   "execution_count": 51,
   "id": "7d38f8e3-277f-4eb3-b9e9-cc583cb70ec2",
   "metadata": {},
   "outputs": [
    {
     "name": "stdout",
     "output_type": "stream",
     "text": [
      "predictions shape: (540, 10)\n"
     ]
    }
   ],
   "source": [
    "y_pred = model.predict(X_test)\n",
    "print(\"predictions shape:\", y_pred.shape)"
   ]
  },
  {
   "cell_type": "code",
   "execution_count": 52,
   "id": "5d232cef-7188-421c-9233-597e6f536d89",
   "metadata": {},
   "outputs": [
    {
     "data": {
      "text/plain": [
       "0.9574074074074074"
      ]
     },
     "execution_count": 52,
     "metadata": {},
     "output_type": "execute_result"
    }
   ],
   "source": [
    "accuracy_score(y_test, np.argmax(y_pred, axis=1))"
   ]
  },
  {
   "cell_type": "code",
   "execution_count": 53,
   "id": "4d7e7c64-1b70-4f36-a7f0-60ffcaf02cb9",
   "metadata": {},
   "outputs": [
    {
     "name": "stdout",
     "output_type": "stream",
     "text": [
      "              precision    recall  f1-score   support\n",
      "\n",
      "           0       1.00      0.98      0.99        45\n",
      "           1       0.89      0.92      0.91        52\n",
      "           2       1.00      0.94      0.97        53\n",
      "           3       0.96      1.00      0.98        54\n",
      "           4       0.96      1.00      0.98        48\n",
      "           5       0.95      0.96      0.96        57\n",
      "           6       0.98      0.98      0.98        60\n",
      "           7       0.98      0.92      0.95        53\n",
      "           8       0.96      0.90      0.93        61\n",
      "           9       0.90      0.96      0.93        57\n",
      "\n",
      "    accuracy                           0.96       540\n",
      "   macro avg       0.96      0.96      0.96       540\n",
      "weighted avg       0.96      0.96      0.96       540\n",
      "\n"
     ]
    }
   ],
   "source": [
    "print(classification_report(y_test, np.argmax(y_pred, axis=1)))"
   ]
  },
  {
   "cell_type": "code",
   "execution_count": 54,
   "id": "12b590c9-d213-4fb1-b0ca-c34ede70306a",
   "metadata": {},
   "outputs": [
    {
     "data": {
      "image/png": "[encoded data removed]",
      "text/plain": [
       "<Figure size 576x396 with 1 Axes>"
      ]
     },
     "metadata": {},
     "output_type": "display_data"
    }
   ],
   "source": [
    "sns.heatmap(\n",
    "    confusion_matrix(y_test, np.argmax(y_pred, axis=1)),\n",
    "    annot=True,\n",
    "    cbar=False,\n",
    "    cmap=sns.light_palette('seagreen')\n",
    ")\n",
    "plt.xlabel('Predicted')\n",
    "plt.ylabel('True')\n",
    "plt.title('Confusion Matrix')\n",
    "plt.show()"
   ]
  }
 ],
 "metadata": {
  "kernelspec": {
   "display_name": "Python [conda env:datascience]",
   "language": "python",
   "name": "conda-env-datascience-py"
  },
  "language_info": {
   "codemirror_mode": {
    "name": "ipython",
    "version": 3
   },
   "file_extension": ".py",
   "mimetype": "text/x-python",
   "name": "python",
   "nbconvert_exporter": "python",
   "pygments_lexer": "ipython3",
   "version": "3.8.10"
  }
 },
 "nbformat": 4,
 "nbformat_minor": 5
}
