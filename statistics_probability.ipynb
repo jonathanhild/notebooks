{
 "cells": [
  {
   "cell_type": "markdown",
   "metadata": {},
   "source": [
    "# Probability Statistics"
   ]
  },
  {
   "cell_type": "code",
   "execution_count": 2,
   "metadata": {},
   "outputs": [
    {
     "ename": "ModuleNotFoundError",
     "evalue": "No module named 'matplotlib_venn'",
     "output_type": "error",
     "traceback": [
      "\u001b[0;31m---------------------------------------------------------------------------\u001b[0m",
      "\u001b[0;31mModuleNotFoundError\u001b[0m                       Traceback (most recent call last)",
      "\u001b[0;32m<ipython-input-2-904dd6c1960a>\u001b[0m in \u001b[0;36m<module>\u001b[0;34m\u001b[0m\n\u001b[1;32m      1\u001b[0m \u001b[0;32mimport\u001b[0m \u001b[0mmatplotlib\u001b[0m\u001b[0;34m.\u001b[0m\u001b[0mpyplot\u001b[0m \u001b[0;32mas\u001b[0m \u001b[0mplt\u001b[0m\u001b[0;34m\u001b[0m\u001b[0;34m\u001b[0m\u001b[0m\n\u001b[0;32m----> 2\u001b[0;31m \u001b[0;32mfrom\u001b[0m \u001b[0mmatplotlib_venn\u001b[0m \u001b[0;32mimport\u001b[0m \u001b[0mvenn2\u001b[0m\u001b[0;34m,\u001b[0m \u001b[0mvenn2_circles\u001b[0m\u001b[0;34m\u001b[0m\u001b[0;34m\u001b[0m\u001b[0m\n\u001b[0m\u001b[1;32m      3\u001b[0m \u001b[0mget_ipython\u001b[0m\u001b[0;34m(\u001b[0m\u001b[0;34m)\u001b[0m\u001b[0;34m.\u001b[0m\u001b[0mrun_line_magic\u001b[0m\u001b[0;34m(\u001b[0m\u001b[0;34m'matplotlib'\u001b[0m\u001b[0;34m,\u001b[0m \u001b[0;34m'inline'\u001b[0m\u001b[0;34m)\u001b[0m\u001b[0;34m\u001b[0m\u001b[0;34m\u001b[0m\u001b[0m\n",
      "\u001b[0;31mModuleNotFoundError\u001b[0m: No module named 'matplotlib_venn'"
     ]
    }
   ],
   "source": [
    "import matplotlib.pyplot as plt\n",
    "from matplotlib_venn import venn2, venn2_circles\n",
    "%matplotlib inline"
   ]
  },
  {
   "cell_type": "markdown",
   "metadata": {},
   "source": [
    "## Basics of Probability\n",
    "Sample space: set of all possible outcomes from an experiment.  \n",
    "Event: a subset of sample space.  \n",
    "Disjoint: mutually exclusive events that cannot occur at the same time.  \n",
    "Independent: unrelated events.\n",
    "### Probability of an event\n",
    "$$\n",
    "    P(E)=\\frac{\\mbox{Total number of outcomes for event E}}{\\mbox{Number of total outcomes in sample space}}=\\frac{E}{S}\n",
    "$$\n",
    "### Axioms of Probability\n",
    "Probability is bounded: $0\\leq P(A) \\leq1$  \n",
    "Probability of the sample space: $P(S)=1$  \n",
    "Probability of $P(A)+P(\\sim{A})=1$  \n",
    "The probability of finite **mutually exclusive** (disjoint = cannot occur at same time) unions is the sum of their probabilities.\n",
    "\n",
    "$$\n",
    "    P(A\\cup B)=P(A)+P(B),  \\mbox{If A and B are mutually exclusive}\n",
    "$$\n",
    "### Sample Space\n",
    "Sample Space is the set of all possible elementary outcomes of a trial.\n",
    "\n",
    "The sample space for flipping two coins: $S={(H,H),(H,T),(T,H),(T,T)}$\n",
    "\n",
    "The sample space for rolling two dice are: $S={2,3,4,5,6,7,8,9,10,11,12}$\n",
    "### Set Permutation\n",
    "In probability theory, Permutatons are the possible ways elements in a set can be arranged. Permutations can be calculated by:\n",
    "\n",
    "$$\n",
    "    P=n!\n",
    "$$\n",
    "\n",
    "The number of permutations of subsets of size $k$ drawn from a set of size $n$ is calculated:\n",
    "\n",
    "$$\n",
    "    nPk=\\frac{n!}{(n-k)!}\n",
    "$$\n",
    "\n",
    "### Set Combination\n",
    "Combinations are similar to permutations with the difference that the order of elements is not significant in combinations. The formula for calculating a combination:\n",
    "\n",
    "$$\n",
    "    nCk=\\frac{n!}{k!(n-k)!}=\\frac{nPk}{k!}\n",
    "$$"
   ]
  },
  {
   "cell_type": "markdown",
   "metadata": {},
   "source": [
    "## Independence\n",
    "To show events are independent, on or more must be true:\n",
    "\n",
    "$P(A|B)=P(A)$\n",
    "\n",
    "$P(B|A=P(B)$\n",
    "\n",
    "$P(A \\cap B) = P(A) \\times P(B)$"
   ]
  },
  {
   "cell_type": "markdown",
   "metadata": {},
   "source": [
    "## Intersection\n",
    "For independent events,\n",
    "$$\n",
    "    P(A \\cap B)=P(A) \\times P(B)\n",
    "$$\n",
    "\n",
    "For non-independent events,\n",
    "$$\n",
    "    P(A \\cap B)=P(A) \\times P(B|A)\n",
    "$$"
   ]
  },
  {
   "cell_type": "code",
   "execution_count": null,
   "metadata": {},
   "outputs": [],
   "source": [
    "plt.figure(figsize=(6,6))\n",
    "v = venn2(subsets=(0.5, 0.5, 0.5*0.5))\n",
    "venn2_circles(subsets = (0.5, 0.5, 0.5*0.5))\n",
    "v.get_patch_by_id('10').set_color('white')\n",
    "v.get_patch_by_id('01').set_color('white')\n",
    "v.get_patch_by_id('11').set_color('green')\n",
    "plt.show()"
   ]
  },
  {
   "cell_type": "markdown",
   "metadata": {},
   "source": [
    "## Union (Mutually Exclusive)\n",
    "**Addition Rule 1**: When two events, A and B, are mutually exclusive, the probability that A or B will occur is:\n",
    "\n",
    "$$\n",
    "    P(A \\cup B) = P(A) + P(B)\n",
    "$$"
   ]
  },
  {
   "cell_type": "code",
   "execution_count": null,
   "metadata": {
    "scrolled": false
   },
   "outputs": [],
   "source": [
    "plt.figure(figsize=(6,6))\n",
    "v = venn2(subsets=(0.5, 0.5, 0))\n",
    "venn2_circles(subsets = (1, 1, 0))\n",
    "v.get_patch_by_id('10').set_color('green')\n",
    "v.get_patch_by_id('01').set_color('green')\n",
    "plt.show()"
   ]
  },
  {
   "cell_type": "markdown",
   "metadata": {},
   "source": [
    "## Union (Not Mutually Exclusive)\n",
    "**Addition Rule 2**: When two events, A and B, are non-mutually exclusive, the probability that A or B will occur is:\n",
    "\n",
    "$$\n",
    "    P(A \\cup B) = P(A) + P(B) - P(A \\cap B)\n",
    "$$"
   ]
  },
  {
   "cell_type": "code",
   "execution_count": 3,
   "metadata": {
    "scrolled": true
   },
   "outputs": [
    {
     "ename": "NameError",
     "evalue": "name 'venn2' is not defined",
     "output_type": "error",
     "traceback": [
      "\u001b[0;31m---------------------------------------------------------------------------\u001b[0m",
      "\u001b[0;31mNameError\u001b[0m                                 Traceback (most recent call last)",
      "\u001b[0;32m<ipython-input-3-80f258237f5b>\u001b[0m in \u001b[0;36m<module>\u001b[0;34m\u001b[0m\n\u001b[1;32m      1\u001b[0m \u001b[0mplt\u001b[0m\u001b[0;34m.\u001b[0m\u001b[0mfigure\u001b[0m\u001b[0;34m(\u001b[0m\u001b[0mfigsize\u001b[0m\u001b[0;34m=\u001b[0m\u001b[0;34m(\u001b[0m\u001b[0;36m6\u001b[0m\u001b[0;34m,\u001b[0m\u001b[0;36m6\u001b[0m\u001b[0;34m)\u001b[0m\u001b[0;34m)\u001b[0m\u001b[0;34m\u001b[0m\u001b[0;34m\u001b[0m\u001b[0m\n\u001b[0;32m----> 2\u001b[0;31m \u001b[0mv\u001b[0m \u001b[0;34m=\u001b[0m \u001b[0mvenn2\u001b[0m\u001b[0;34m(\u001b[0m\u001b[0msubsets\u001b[0m\u001b[0;34m=\u001b[0m\u001b[0;34m(\u001b[0m\u001b[0;36m0.5\u001b[0m\u001b[0;34m,\u001b[0m \u001b[0;36m0.5\u001b[0m\u001b[0;34m,\u001b[0m \u001b[0;36m0.5\u001b[0m\u001b[0;34m*\u001b[0m\u001b[0;36m0.5\u001b[0m\u001b[0;34m)\u001b[0m\u001b[0;34m)\u001b[0m\u001b[0;34m\u001b[0m\u001b[0;34m\u001b[0m\u001b[0m\n\u001b[0m\u001b[1;32m      3\u001b[0m \u001b[0mvenn2_circles\u001b[0m\u001b[0;34m(\u001b[0m\u001b[0msubsets\u001b[0m \u001b[0;34m=\u001b[0m \u001b[0;34m(\u001b[0m\u001b[0;36m0.5\u001b[0m\u001b[0;34m,\u001b[0m \u001b[0;36m0.5\u001b[0m\u001b[0;34m,\u001b[0m \u001b[0;36m0.5\u001b[0m\u001b[0;34m*\u001b[0m\u001b[0;36m0.5\u001b[0m\u001b[0;34m)\u001b[0m\u001b[0;34m)\u001b[0m\u001b[0;34m\u001b[0m\u001b[0;34m\u001b[0m\u001b[0m\n\u001b[1;32m      4\u001b[0m \u001b[0mv\u001b[0m\u001b[0;34m.\u001b[0m\u001b[0mget_patch_by_id\u001b[0m\u001b[0;34m(\u001b[0m\u001b[0;34m'10'\u001b[0m\u001b[0;34m)\u001b[0m\u001b[0;34m.\u001b[0m\u001b[0mset_color\u001b[0m\u001b[0;34m(\u001b[0m\u001b[0;34m'green'\u001b[0m\u001b[0;34m)\u001b[0m\u001b[0;34m\u001b[0m\u001b[0;34m\u001b[0m\u001b[0m\n\u001b[1;32m      5\u001b[0m \u001b[0mv\u001b[0m\u001b[0;34m.\u001b[0m\u001b[0mget_patch_by_id\u001b[0m\u001b[0;34m(\u001b[0m\u001b[0;34m'01'\u001b[0m\u001b[0;34m)\u001b[0m\u001b[0;34m.\u001b[0m\u001b[0mset_color\u001b[0m\u001b[0;34m(\u001b[0m\u001b[0;34m'green'\u001b[0m\u001b[0;34m)\u001b[0m\u001b[0;34m\u001b[0m\u001b[0;34m\u001b[0m\u001b[0m\n",
      "\u001b[0;31mNameError\u001b[0m: name 'venn2' is not defined"
     ]
    },
    {
     "data": {
      "text/plain": [
       "<Figure size 432x432 with 0 Axes>"
      ]
     },
     "metadata": {},
     "output_type": "display_data"
    }
   ],
   "source": [
    "plt.figure(figsize=(6,6))\n",
    "v = venn2(subsets=(0.5, 0.5, 0.5*0.5))\n",
    "venn2_circles(subsets = (0.5, 0.5, 0.5*0.5))\n",
    "v.get_patch_by_id('10').set_color('green')\n",
    "v.get_patch_by_id('01').set_color('green')\n",
    "v.get_patch_by_id('11').set_color('white')\n",
    "plt.show()"
   ]
  },
  {
   "cell_type": "markdown",
   "metadata": {},
   "source": [
    "## Complement\n",
    "\n",
    "$$\n",
    "    P(\\sim{A}) = 1 - P(A)\n",
    "$$"
   ]
  },
  {
   "cell_type": "code",
   "execution_count": null,
   "metadata": {},
   "outputs": [],
   "source": [
    "fig = plt.figure(figsize=(6,6))\n",
    "v = venn2(subsets=(0.5, 0.5, 0.5*0.5))\n",
    "venn2_circles(subsets = (0.5, 0.5, 0.5*0.5))\n",
    "v.get_patch_by_id('10').set_color('white')\n",
    "v.get_patch_by_id('01').set_color('green')\n",
    "v.get_patch_by_id('11').set_color('green')\n",
    "plt.show()"
   ]
  },
  {
   "cell_type": "markdown",
   "metadata": {},
   "source": [
    "## Conditional Probability\n",
    "If $P(A)$ and $P(B)$ are independent, then the conditional probability of event B given event A is simply the probability of event B, that is $P(B)$.\n",
    "\n",
    "If $P(A)$ and $P(B)$ are not independent, then The probability that A will occur given that B has already occured (for $P(B)>0$):\n",
    "\n",
    "$$\n",
    "    P(A|B) = \\frac{P(A \\cap B)}{P(B)}\n",
    "$$\n",
    "### Baye's Theorem\n",
    "Another important method for calculating conditional probabilities is given by Bayes's formula. The formula is based on the expression $P(B) = P(B|A)P(A) + P(B|\\sim A)P(\\sim A)$, which simply states that the probability of event B is the sum of the conditional probabilities of event B given that event A has or has not occurred.\n",
    "\n",
    "For independent events A and B, this is equal to $P(B)P(A) + P(B)P(\\sim A) = P(B)(P(A) + P(\\sim A)) = P(B)(1) = P(B)$, since the probability of an event and its complement must always sum to 1. Bayes's formula is defined as follows:\n",
    "\n",
    "$$\n",
    "    P(A|B) = \\frac{P(B|A)P(A)}{P(B|A)P(A)+P(B|\\sim A)P(\\sim A)}\n",
    "$$"
   ]
  },
  {
   "cell_type": "code",
   "execution_count": null,
   "metadata": {
    "scrolled": true
   },
   "outputs": [],
   "source": [
    "fig = plt.figure(figsize=(6,6))\n",
    "v = venn2(subsets=(0.5, 0.5, 0.5*0.5))\n",
    "venn2_circles(subsets = (0.5, 0.5, 0.5*0.5))\n",
    "v.get_patch_by_id('10').set_color('white')\n",
    "v.get_patch_by_id('01').set_color('yellow')\n",
    "v.get_patch_by_id('11').set_color('green')\n",
    "plt.show()"
   ]
  },
  {
   "cell_type": "markdown",
   "metadata": {},
   "source": [
    "$P(A|B)=\\frac{0.25}{0.5}=0.125=\\frac{1}{8}$"
   ]
  }
 ],
 "metadata": {
  "kernelspec": {
   "display_name": "Python 3",
   "language": "python",
   "name": "python3"
  },
  "language_info": {
   "codemirror_mode": {
    "name": "ipython",
    "version": 3
   },
   "file_extension": ".py",
   "mimetype": "text/x-python",
   "name": "python",
   "nbconvert_exporter": "python",
   "pygments_lexer": "ipython3",
   "version": "3.7.6"
  },
  "toc": {
   "base_numbering": 1,
   "nav_menu": {},
   "number_sections": true,
   "sideBar": true,
   "skip_h1_title": true,
   "title_cell": "Table of Contents",
   "title_sidebar": "Contents",
   "toc_cell": false,
   "toc_position": {},
   "toc_section_display": true,
   "toc_window_display": false
  },
  "varInspector": {
   "cols": {
    "lenName": 16,
    "lenType": 16,
    "lenVar": 40
   },
   "kernels_config": {
    "python": {
     "delete_cmd_postfix": "",
     "delete_cmd_prefix": "del ",
     "library": "var_list.py",
     "varRefreshCmd": "print(var_dic_list())"
    },
    "r": {
     "delete_cmd_postfix": ") ",
     "delete_cmd_prefix": "rm(",
     "library": "var_list.r",
     "varRefreshCmd": "cat(var_dic_list()) "
    }
   },
   "types_to_exclude": [
    "module",
    "function",
    "builtin_function_or_method",
    "instance",
    "_Feature"
   ],
   "window_display": false
  }
 },
 "nbformat": 4,
 "nbformat_minor": 4
}
