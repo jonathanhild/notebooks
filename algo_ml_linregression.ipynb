{
 "cells": [
  {
   "cell_type": "markdown",
   "id": "controlling-genius",
   "metadata": {},
   "source": [
    "# Linear Regression"
   ]
  },
  {
   "cell_type": "markdown",
   "id": "affiliated-innocent",
   "metadata": {},
   "source": [
    "## L1 Regularization (Lasso)\n",
    "\n",
    "## L2 Regularization (Ridge)\n",
    "\n",
    "## Elastic Net (Lasso + Ridge)\n",
    "\n",
    "Weighs both L1 and L2 together"
   ]
  }
 ],
 "metadata": {
  "kernelspec": {
   "display_name": "Python [conda env:datascience]",
   "language": "python",
   "name": "conda-env-datascience-py"
  },
  "language_info": {
   "codemirror_mode": {
    "name": "ipython",
    "version": 3
   },
   "file_extension": ".py",
   "mimetype": "text/x-python",
   "name": "python",
   "nbconvert_exporter": "python",
   "pygments_lexer": "ipython3",
   "version": "3.8.8"
  }
 },
 "nbformat": 4,
 "nbformat_minor": 5
}
