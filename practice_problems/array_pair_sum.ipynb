{
 "cells": [
  {
   "cell_type": "markdown",
   "metadata": {},
   "source": [
    "# Array Pair Sum\n",
    "\n",
    "## Problem\n",
    "\n",
    "Given an integer array, output all the ** *unique* ** pairs that sum up to a specific value **k**.\n",
    "\n",
    "So the input:\n",
    "    \n",
    "    pair_sum([1,3,2,2],4)\n",
    "\n",
    "would return **2** pairs:\n",
    "\n",
    "     (1,3)\n",
    "     (2,2)\n",
    "\n",
    "**NOTE: FOR TESTING PURPOSES CHANGE YOUR FUNCTION SO IT OUTPUTS THE NUMBER OF PAIRS**\n",
    "\n",
    "## Solution\n",
    "\n",
    "Fill out your solution below:"
   ]
  },
  {
   "cell_type": "code",
   "execution_count": null,
   "metadata": {},
   "outputs": [],
   "source": [
    "def pair_sum(arr, k):\n",
    "    # Edge-case check\n",
    "    if len(arr) < 2:\n",
    "        return\n",
    "    \n",
    "    seen = set()\n",
    "    unique_pairs = set()\n",
    "    \n",
    "    for num in arr:\n",
    "        target = k - num\n",
    "        \n",
    "        if target not in seen:\n",
    "            seen.add(num)\n",
    "        else:\n",
    "            unique_pairs.add( ((min(num, target), max(num, target))) ) # creates a tuple of the pairs\n",
    "            \n",
    "    for pair in unique_pairs:\n",
    "        print(pair)\n",
    "            \n",
    "    return len(unique_pairs)"
   ]
  },
  {
   "cell_type": "code",
   "execution_count": null,
   "metadata": {
    "collapsed": false,
    "jupyter": {
     "outputs_hidden": false
    }
   },
   "outputs": [],
   "source": [
    "pair_sum([1,3,2,2], 4)"
   ]
  },
  {
   "cell_type": "markdown",
   "metadata": {},
   "source": [
    "# Test Your Solution"
   ]
  },
  {
   "cell_type": "code",
   "execution_count": null,
   "metadata": {
    "collapsed": false,
    "jupyter": {
     "outputs_hidden": false
    }
   },
   "outputs": [],
   "source": [
    "\"\"\"\n",
    "RUN THIS CELL TO TEST YOUR SOLUTION\n",
    "\"\"\"\n",
    "from nose.tools import assert_equal\n",
    "\n",
    "class TestPair(object):\n",
    "    \n",
    "    def test(self, sol):\n",
    "        assert_equal(sol([1,9,2,8,3,7,4,6,5,5,13,14,11,13,-1], 10), 6)\n",
    "        assert_equal(sol([1,2,3,1], 3), 1)\n",
    "        assert_equal(sol([1,3,2,2], 4), 2)\n",
    "        print('ALL TEST CASES PASSED')\n",
    "        \n",
    "#Run tests\n",
    "t = TestPair()\n",
    "t.test(pair_sum)\n",
    "    "
   ]
  },
  {
   "cell_type": "markdown",
   "metadata": {},
   "source": [
    "## Good Job!"
   ]
  }
 ],
 "metadata": {
  "kernelspec": {
   "display_name": "Python [conda env:datascience]",
   "language": "python",
   "name": "conda-env-datascience-py"
  },
  "language_info": {
   "codemirror_mode": {
    "name": "ipython",
    "version": 3
   },
   "file_extension": ".py",
   "mimetype": "text/x-python",
   "name": "python",
   "nbconvert_exporter": "python",
   "pygments_lexer": "ipython3",
   "version": "3.8.8"
  }
 },
 "nbformat": 4,
 "nbformat_minor": 4
}
