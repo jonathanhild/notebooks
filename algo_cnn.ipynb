{
 "cells": [
  {
   "cell_type": "markdown",
   "id": "71c2721b-b6ce-4d27-a91b-f0eec70a06cd",
   "metadata": {},
   "source": [
    "# Convolution Neural Networks (CNNs)\n",
    "\n",
    "## Pros\n",
    "\n",
    "- Used in image classification: facial recognition, satellite analysis, optical character recognition, sound analysis through audiograms, image tagging, anomaly detection in video images.\n",
    "- Can use large, full-color images.\n",
    "- CNNs preserve **locality** of pixels in an image (all the pixels in a small vicinity have relationships with each other).\n",
    "- CNNs reduces the connections so we can go deeper: done through shared weights used by **filters** (aka **kernels**).\n",
    "- **Transfer learning** can be used to extend a model to new image classification with small amount of retraining.\n",
    "\n",
    "## Cons\n",
    "\n",
    "- Sames as general neural network disadvantages.\n",
    "\n",
    "## References\n",
    "\n",
    "1. Hands-On Machine Learning, Chapter 14, 15.\n",
    "1. Fundamentals of Deep Learning, Chapter 5.\n",
    "1. Deep Learning, Chapter 9.\n",
    "1. A Comprehensive Guide to Convolutional Neural Networks — the ELI5 way: [https://towardsdatascience.com/a-comprehensive-guide-to-convolutional-neural-networks-the-eli5-way-3bd2b1164a53](https://towardsdatascience.com/a-comprehensive-guide-to-convolutional-neural-networks-the-eli5-way-3bd2b1164a53)\n",
    "1. Wikipedia: Convolutional Neural Network: [https://en.wikipedia.org/wiki/Convolutional_neural_network](https://en.wikipedia.org/wiki/Convolutional_neural_network)\n",
    "1. StatQuest: Convolutional Neural Networks: [https://www.youtube.com/watch?v=HGwBXDKFk9I](https://www.youtube.com/watch?v=HGwBXDKFk9I)"
   ]
  },
  {
   "cell_type": "markdown",
   "id": "7a253bfc-5f02-4aab-abd4-f9c33d8dfadb",
   "metadata": {},
   "source": [
    "# Convolutional Layers\n",
    "\n",
    "## Filters\n",
    "\n",
    "A **convolutional layer** takes a subsample of a matrix by applying a **filter** or **kernel**. The filter is commonly a 3x3, 5x5, or 7x7 grid. The filter is overlayed onto the full matrix the dot product is made. A bias is then added.\n",
    "\n",
    "For a 3x3 filter,\n",
    "\n",
    "$$\n",
    "    z = w_1x_1 + w_2x_2 + \\ldots + w_9x_9 + \\beta\n",
    "$$\n",
    "\n",
    "## Feature Map\n",
    "\n",
    "A **feature map** is the composition of all filter dot products over the entire matrix. The feature map is then run through a ReLU activation function.\n",
    "\n",
    "## Max Pooling\n",
    "\n",
    "**Max pooling** uses a new filter on the feature map and selects the region(s) with the highest possible values. In other words, max pooling identifies which mapped features most closely matched the input.\n",
    "\n",
    "Alternatively, **mean pooling** calculates the average for each region.\n",
    "\n",
    "## Neural Network\n",
    "\n",
    "The pooled feature map become the inputs for a classification neural network."
   ]
  }
 ],
 "metadata": {
  "kernelspec": {
   "display_name": "Python [conda env:datascience]",
   "language": "python",
   "name": "conda-env-datascience-py"
  },
  "language_info": {
   "codemirror_mode": {
    "name": "ipython",
    "version": 3
   },
   "file_extension": ".py",
   "mimetype": "text/x-python",
   "name": "python",
   "nbconvert_exporter": "python",
   "pygments_lexer": "ipython3",
   "version": "3.8.2"
  }
 },
 "nbformat": 4,
 "nbformat_minor": 5
}
