{
 "cells": [
  {
   "cell_type": "markdown",
   "metadata": {},
   "source": [
    "# Python Cheat Sheet\n",
    "This notebook includes toy examples of Python and its built-in libraries"
   ]
  },
  {
   "cell_type": "markdown",
   "metadata": {},
   "source": [
    "## List Comprehension"
   ]
  },
  {
   "cell_type": "code",
   "execution_count": 4,
   "metadata": {
    "execution": {
     "iopub.execute_input": "2020-07-29T15:28:10.864840Z",
     "iopub.status.busy": "2020-07-29T15:28:10.864571Z",
     "iopub.status.idle": "2020-07-29T15:28:10.870337Z",
     "shell.execute_reply": "2020-07-29T15:28:10.869611Z",
     "shell.execute_reply.started": "2020-07-29T15:28:10.864809Z"
    }
   },
   "outputs": [
    {
     "data": {
      "text/plain": [
       "[2, 4, 6, 8, 10]"
      ]
     },
     "execution_count": 4,
     "metadata": {},
     "output_type": "execute_result"
    }
   ],
   "source": [
    "comp_seq = [1, 2, 3, 4, 5]\n",
    "[i * 2 for i in comp_seq]"
   ]
  },
  {
   "cell_type": "markdown",
   "metadata": {},
   "source": [
    "## Lambda function with `map()`\n",
    "`map()` performs a function operation on all items in an iterable"
   ]
  },
  {
   "cell_type": "code",
   "execution_count": 2,
   "metadata": {
    "execution": {
     "iopub.execute_input": "2020-07-29T15:26:58.256236Z",
     "iopub.status.busy": "2020-07-29T15:26:58.255967Z",
     "iopub.status.idle": "2020-07-29T15:26:58.261107Z",
     "shell.execute_reply": "2020-07-29T15:26:58.260700Z",
     "shell.execute_reply.started": "2020-07-29T15:26:58.256205Z"
    }
   },
   "outputs": [
    {
     "data": {
      "text/plain": [
       "[2, 4, 6, 8, 10]"
      ]
     },
     "execution_count": 2,
     "metadata": {},
     "output_type": "execute_result"
    }
   ],
   "source": [
    "lambda_seq = [1, 2, 3, 4, 5]\n",
    "list(map(lambda num: num * 2, lambda_seq))"
   ]
  },
  {
   "cell_type": "markdown",
   "metadata": {},
   "source": [
    "## Lambda function with `filter()`\n",
    "`filter()` returns only matching items in an iterable, based on a function"
   ]
  },
  {
   "cell_type": "code",
   "execution_count": 8,
   "metadata": {
    "execution": {
     "iopub.execute_input": "2020-07-29T15:38:44.747348Z",
     "iopub.status.busy": "2020-07-29T15:38:44.747110Z",
     "iopub.status.idle": "2020-07-29T15:38:44.752273Z",
     "shell.execute_reply": "2020-07-29T15:38:44.751540Z",
     "shell.execute_reply.started": "2020-07-29T15:38:44.747322Z"
    }
   },
   "outputs": [
    {
     "data": {
      "text/plain": [
       "[2, 4]"
      ]
     },
     "execution_count": 8,
     "metadata": {},
     "output_type": "execute_result"
    }
   ],
   "source": [
    "list(filter(lambda num: num % 2 == 0, lambda_seq))"
   ]
  }
 ],
 "metadata": {
  "kernelspec": {
   "display_name": "Python [conda env:datascience]",
   "language": "python",
   "name": "conda-env-datascience-py"
  },
  "language_info": {
   "codemirror_mode": {
    "name": "ipython",
    "version": 3
   },
   "file_extension": ".py",
   "mimetype": "text/x-python",
   "name": "python",
   "nbconvert_exporter": "python",
   "pygments_lexer": "ipython3",
   "version": "3.8.3"
  }
 },
 "nbformat": 4,
 "nbformat_minor": 4
}
