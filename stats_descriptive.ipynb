{
 "cells": [
  {
   "cell_type": "markdown",
   "metadata": {},
   "source": [
    "# Descriptive Statistics"
   ]
  },
  {
   "cell_type": "markdown",
   "metadata": {},
   "source": [
    "## Estimates of Location\n",
    "### Mean\n",
    "$$\n",
    "    \\bar{x}=\\frac{1}{n}\\sum_{i=1}^n x_i\n",
    "$$\n",
    "### Trimmed Mean\n",
    "$$\n",
    "    \\bar{x}_t=\\frac{1}{n-2p}\\sum_{i=p+1^{x_{(i)}}}^{n-p}\n",
    "$$\n",
    "### Weighted Mean\n",
    "$$\n",
    "    \\bar{x}_w=\\frac{1}{\\sum_{i}^{n}w_i}\\sum_{i=1}^{n}w_ix_i\n",
    "$$\n",
    "### Median\n",
    "When an ordered list of numbers: $x_1 \\leq x_2\\leq x_3...x_n$,\n",
    "\n",
    "If there is an odd number of observations,\n",
    "\n",
    "$$\n",
    "      \\tilde{x} = x_{\\lfloor(n + 1)/2\\rfloor}\n",
    "$$\n",
    "\n",
    "If there is an even number of observations,\n",
    "\n",
    "$$\n",
    "    \\tilde{x} = \\frac{(x_{\\lfloor(n+1)/2\\rfloor} + x_{\\lceil(n+1)/2\\rceil})}{2}\n",
    "$$\n",
    "### Mode\n",
    "The mode is the most frequent value in a set of observations.\n",
    "### Degrees of Freedom\n"
   ]
  },
  {
   "cell_type": "markdown",
   "metadata": {},
   "source": [
    "## Estimates of Variability\n",
    "### Variance\n",
    "$$\n",
    "    s^2=\\frac{1}{n-1}\\sum_{i=1}^{n}(x_i-\\bar{x})^2\n",
    "$$\n",
    "### Standard Deviation\n",
    "$$\n",
    "  s=\\sqrt{s^2}=\\sqrt{\\frac{1}{n-1}\\sum_{i=1}^{n}(x_i-\\bar{x})^2}\n",
    "$$\n",
    "### Mean Absolute Deviation\n",
    "$$\n",
    "    D_{med}=\\frac{1}{n}\\sum_{i=1}^{n}|x_i-\\bar{x}|\n",
    "$$\n",
    "### Median Absolute Deviation\n",
    "$$\n",
    "    MAD=\\tilde{x}(|x_i-\\tilde{x}|)\n",
    "$$\n",
    "### Range\n",
    "$$\n",
    "    R=x_{max}-x_{min}\n",
    "$$\n",
    "### Quartiles\n",
    "$Q_1$: The 25th percentile  \n",
    "$M$: The median  \n",
    "$Q_3$: The 75th percentile\n",
    "### Percentiles\n",
    "Formally, percentile is the weighted average,\n",
    "$$\n",
    "  0 \\leq w \\leq 1  \n",
    "$$\n",
    "\n",
    "$$\n",
    "    P=(1-w)x_{(j)}+wx_{(j+1)}\n",
    "$$\n",
    "### Interquartile Range\n",
    "Measurement of the middle 50% of the data.\n",
    "\n",
    "With an ordered list of numbers: $x_1 \\leq x_2\\leq x_3...x_n$,\n",
    "$$\n",
    "    IQR=Q_3-Q_1\n",
    "$$\n",
    "### Sample Skewness\n",
    "$$\n",
    "    g_1=\\frac{1}{n}\\frac{\\sum_{i=1}^{n}(x_i-\\bar{x})^3}{s^3}\n",
    "$$\n",
    "### Sample Excess Kurtosis\n",
    "$$\n",
    "    g_2=\\frac{1}{n}\\frac{\\sum_{i=1}^{n}(x_i-\\bar{x})^4}{s^4}-3\n",
    "$$\n",
    "### Hinges and 5 Number Summary (5NS)\n",
    "$$\n",
    "    h_L: L=\\lfloor(n+3)/2\\rfloor/2\n",
    "$$\n",
    "$$\n",
    "    h_U: U=n+1-L\n",
    "$$\n",
    "$$\n",
    "    5NS: (x_1, h_L, \\tilde{x}, h_U, x_n)\n",
    "$$\n",
    "### Potential Outliers\n",
    "$$ \n",
    "    [h_L-1.5(h_U-h_L), h_U+1.5(h_U-h_L)]\n",
    "$$\n",
    "### Suspected Outliers\n",
    "$$ \n",
    "    [h_L-3(h_U-h_L), h_U+3(h_U-h_L)]\n",
    "$$"
   ]
  }
 ],
 "metadata": {
  "kernelspec": {
   "display_name": "Python [conda env:datascience]",
   "language": "python",
   "name": "conda-env-datascience-py"
  },
  "language_info": {
   "codemirror_mode": {
    "name": "ipython",
    "version": 3
   },
   "file_extension": ".py",
   "mimetype": "text/x-python",
   "name": "python",
   "nbconvert_exporter": "python",
   "pygments_lexer": "ipython3",
<<<<<<< HEAD:stats_descriptive.ipynb
   "version": "3.7.7"
=======
   "version": "3.7.6"
>>>>>>> f0d357bce59d46e4384924cb852aad8af4c41777:statistics_descriptive.ipynb
  },
  "toc": {
   "base_numbering": 1,
   "nav_menu": {},
   "number_sections": true,
   "sideBar": true,
   "skip_h1_title": true,
   "title_cell": "Table of Contents",
   "title_sidebar": "Contents",
   "toc_cell": false,
   "toc_position": {},
   "toc_section_display": true,
   "toc_window_display": false
  },
  "varInspector": {
   "cols": {
    "lenName": 16,
    "lenType": 16,
    "lenVar": 40
   },
   "kernels_config": {
    "python": {
     "delete_cmd_postfix": "",
     "delete_cmd_prefix": "del ",
     "library": "var_list.py",
     "varRefreshCmd": "print(var_dic_list())"
    },
    "r": {
     "delete_cmd_postfix": ") ",
     "delete_cmd_prefix": "rm(",
     "library": "var_list.r",
     "varRefreshCmd": "cat(var_dic_list()) "
    }
   },
   "types_to_exclude": [
    "module",
    "function",
    "builtin_function_or_method",
    "instance",
    "_Feature"
   ],
   "window_display": false
  }
 },
 "nbformat": 4,
 "nbformat_minor": 4
}
