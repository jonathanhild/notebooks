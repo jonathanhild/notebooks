{
 "cells": [
  {
   "cell_type": "markdown",
   "metadata": {},
   "source": [
    "# Linear Regression"
   ]
  },
  {
   "cell_type": "code",
   "execution_count": 1,
   "metadata": {},
   "outputs": [],
   "source": [
    "import pandas as pd\n",
    "import numpy as np\n",
    "from matplotlib import pyplot as plt\n",
    "%matplotlib inline\n",
    "import seaborn as sns\n",
    "from sklearn.linear_model import LinearRegression\n",
    "from sklearn.metrics import mean_absolute_error, mean_squared_error, r2_score"
   ]
  },
  {
   "cell_type": "markdown",
   "metadata": {},
   "source": [
    "## Simple Linear Regression\n",
    "Linear regression is used to analyze the relationship between two variables, $y~x$, where $x$ is the independent variable and $y$ is the dependent variable.\n",
    "\n",
    "In a deterministic model:\n",
    "\n",
    "$$\n",
    "    y = mx + b\n",
    "$$\n",
    "\n",
    "For a population, in a probabilistic model:\n",
    "\n",
    "$$\n",
    "    y = \\beta_0 + \\beta_1x + \\epsilon\n",
    "$$\n",
    "\n",
    "$\\beta_0$: population y-intercept of the line.  \n",
    "$\\beta_1$: population slope of the line.  \n",
    "$\\epsilon$: random error component.\n",
    "\n",
    "For a sample:\n",
    "\n",
    "$$\n",
    "    y = b_0 + b_1x + e_i\n",
    "$$\n",
    "\n",
    "### Model development\n",
    "1. Hypothesize the deterministic component of the model that relates the mean, $E(y|x)$ to the independent variable $x$.\n",
    "\n",
    "$$\n",
    "    E(y|x) = \\beta_0 + \\beta_1x\n",
    "$$\n",
    "\n",
    "1. Use sample data to estimate unknown model parameters: $\\hat{\\beta_0}$ or $b_0$, and $\\hat{\\beta_1}$ or $b_1$.\n",
    "1. Specify the probability distribution of the random error term and estimate SD of the distribution.  \n",
    "    $\\epsilon_i~N(0,\\sigma)$  \n",
    "   This means that the residual error are assumed to follow a standard normal distribution.\n",
    "1. Statistically evaluate the usefulness of the model.\n",
    "1. Use model for prediction, estimation or other purposes.\n",
    "\n",
    "### Assumptions of Linear Regression\n",
    "Check before modeling:\n",
    "- A Linear relationship between the dependent (target) and independent (features) variables.\n",
    "- No Multicollinearity: The independent variable does not have a strong correlation with other variables in the dataset.\n",
    "\n",
    "Check after modeling:\n",
    "- Homoscedasticity: Error is independent and random.\n",
    "- Residual- Measured error terms are normally distributed. This can be assured with enough data points thanks to the Central Limit Theorum."
   ]
  },
  {
   "cell_type": "markdown",
   "metadata": {},
   "source": [
    "### Scatterplot"
   ]
  },
  {
   "cell_type": "code",
   "execution_count": 2,
   "metadata": {
    "scrolled": true
   },
   "outputs": [
    {
     "data": {
      "text/html": [
       "<div>\n",
       "<style scoped>\n",
       "    .dataframe tbody tr th:only-of-type {\n",
       "        vertical-align: middle;\n",
       "    }\n",
       "\n",
       "    .dataframe tbody tr th {\n",
       "        vertical-align: top;\n",
       "    }\n",
       "\n",
       "    .dataframe thead th {\n",
       "        text-align: right;\n",
       "    }\n",
       "</style>\n",
       "<table border=\"1\" class=\"dataframe\">\n",
       "  <thead>\n",
       "    <tr style=\"text-align: right;\">\n",
       "      <th></th>\n",
       "      <th>Australia</th>\n",
       "      <th>Canada</th>\n",
       "      <th>France</th>\n",
       "      <th>Germany</th>\n",
       "      <th>Italy</th>\n",
       "      <th>Japan</th>\n",
       "      <th>Mexico</th>\n",
       "      <th>South Korea</th>\n",
       "      <th>UK</th>\n",
       "      <th>USA</th>\n",
       "    </tr>\n",
       "    <tr>\n",
       "      <th>Year</th>\n",
       "      <th></th>\n",
       "      <th></th>\n",
       "      <th></th>\n",
       "      <th></th>\n",
       "      <th></th>\n",
       "      <th></th>\n",
       "      <th></th>\n",
       "      <th></th>\n",
       "      <th></th>\n",
       "      <th></th>\n",
       "    </tr>\n",
       "  </thead>\n",
       "  <tbody>\n",
       "    <tr>\n",
       "      <th>1990</th>\n",
       "      <td>NaN</td>\n",
       "      <td>1.87</td>\n",
       "      <td>3.63</td>\n",
       "      <td>2.65</td>\n",
       "      <td>4.59</td>\n",
       "      <td>3.16</td>\n",
       "      <td>1.00</td>\n",
       "      <td>2.05</td>\n",
       "      <td>2.82</td>\n",
       "      <td>1.16</td>\n",
       "    </tr>\n",
       "    <tr>\n",
       "      <th>1991</th>\n",
       "      <td>1.96</td>\n",
       "      <td>1.92</td>\n",
       "      <td>3.45</td>\n",
       "      <td>2.90</td>\n",
       "      <td>4.50</td>\n",
       "      <td>3.46</td>\n",
       "      <td>1.30</td>\n",
       "      <td>2.49</td>\n",
       "      <td>3.01</td>\n",
       "      <td>1.14</td>\n",
       "    </tr>\n",
       "    <tr>\n",
       "      <th>1992</th>\n",
       "      <td>1.89</td>\n",
       "      <td>1.73</td>\n",
       "      <td>3.56</td>\n",
       "      <td>3.27</td>\n",
       "      <td>4.53</td>\n",
       "      <td>3.58</td>\n",
       "      <td>1.50</td>\n",
       "      <td>2.65</td>\n",
       "      <td>3.06</td>\n",
       "      <td>1.13</td>\n",
       "    </tr>\n",
       "    <tr>\n",
       "      <th>1993</th>\n",
       "      <td>1.73</td>\n",
       "      <td>1.57</td>\n",
       "      <td>3.41</td>\n",
       "      <td>3.07</td>\n",
       "      <td>3.68</td>\n",
       "      <td>4.16</td>\n",
       "      <td>1.56</td>\n",
       "      <td>2.88</td>\n",
       "      <td>2.84</td>\n",
       "      <td>1.11</td>\n",
       "    </tr>\n",
       "    <tr>\n",
       "      <th>1994</th>\n",
       "      <td>1.84</td>\n",
       "      <td>1.45</td>\n",
       "      <td>3.59</td>\n",
       "      <td>3.52</td>\n",
       "      <td>3.70</td>\n",
       "      <td>4.36</td>\n",
       "      <td>1.48</td>\n",
       "      <td>2.87</td>\n",
       "      <td>2.99</td>\n",
       "      <td>1.11</td>\n",
       "    </tr>\n",
       "  </tbody>\n",
       "</table>\n",
       "</div>"
      ],
      "text/plain": [
       "      Australia  Canada  France  Germany  Italy  Japan  Mexico  South Korea  \\\n",
       "Year                                                                          \n",
       "1990        NaN    1.87    3.63     2.65   4.59   3.16    1.00         2.05   \n",
       "1991       1.96    1.92    3.45     2.90   4.50   3.46    1.30         2.49   \n",
       "1992       1.89    1.73    3.56     3.27   4.53   3.58    1.50         2.65   \n",
       "1993       1.73    1.57    3.41     3.07   3.68   4.16    1.56         2.88   \n",
       "1994       1.84    1.45    3.59     3.52   3.70   4.36    1.48         2.87   \n",
       "\n",
       "        UK   USA  \n",
       "Year              \n",
       "1990  2.82  1.16  \n",
       "1991  3.01  1.14  \n",
       "1992  3.06  1.13  \n",
       "1993  2.84  1.11  \n",
       "1994  2.99  1.11  "
      ]
     },
     "execution_count": 2,
     "metadata": {},
     "output_type": "execute_result"
    }
   ],
   "source": [
    "gas_prices = pd.read_csv('./data/gas_prices.csv', index_col='Year')\n",
    "gas_prices.head()"
   ]
  },
  {
   "cell_type": "code",
   "execution_count": 3,
   "metadata": {},
   "outputs": [
    {
     "data": {
      "image/png": "[encoded data removed]",
      "text/plain": [
       "<Figure size 1152x648 with 1 Axes>"
      ]
     },
     "metadata": {
      "needs_background": "light"
     },
     "output_type": "display_data"
    }
   ],
   "source": [
    "plt.figure(figsize=(16,9))\n",
    "sns.scatterplot(data=gas_prices, x='USA', y='Canada')\n",
    "plt.show()"
   ]
  },
  {
   "cell_type": "markdown",
   "metadata": {},
   "source": [
    "### Linear Model Plot"
   ]
  },
  {
   "cell_type": "code",
   "execution_count": 4,
   "metadata": {
    "scrolled": false
   },
   "outputs": [
    {
     "data": {
      "image/png": "[encoded data removed]",
      "text/plain": [
       "<Figure size 1152x648 with 1 Axes>"
      ]
     },
     "metadata": {
      "needs_background": "light"
     },
     "output_type": "display_data"
    }
   ],
   "source": [
    "sns.lmplot(x='USA', y='Canada', data=gas_prices, height=9, aspect=16/9)\n",
    "plt.show()"
   ]
  },
  {
   "cell_type": "markdown",
   "metadata": {},
   "source": [
    "### Least Squares Regression (Ordinary Least Squares)\n",
    "How is the linear regression line fitted?\n",
    "\n",
    "The regression line is the estimate that minimizes the the sum of squared residual values, also called *residual sum of squares* or RSS.\n",
    "\n",
    "$$\n",
    "    RSS = \\sum_{i=1}^{n}(y_i-\\hat{y}_i)^2 = \\sum_{i=1}^{n}(y_i-\\hat{b}_0-\\hat{b}_1x_i)^2\n",
    "$$\n",
    "\n",
    "The estimates $\\hat{b}_0$ and $\\hat{b}_1$ are the values that minimize RSS.\n",
    "\n",
    "The formulas to calculate the coefficients are:\n",
    "$$\n",
    "    \\hat{b}_0 = \\frac{\\sum_{i=1}^{n}(y_i-\\bar{y})(x_i-\\bar{x})}{\\sum_{i=1}^{n}(x_i-\\bar{x})^2}\n",
    "$$\n",
    "\n",
    "$$\n",
    "    \\hat{b}_1 = \\bar{y}-\\hat{b}_1\\bar{x}\n",
    "$$"
   ]
  },
  {
   "cell_type": "code",
   "execution_count": 5,
   "metadata": {
    "scrolled": false
   },
   "outputs": [],
   "source": [
    "# Calculating a linear regression\n",
    "x = gas_prices['USA'].values.reshape(-1, 1)\n",
    "y = gas_prices['Canada'].values.reshape(-1, 1)\n",
    "\n",
    "reg = LinearRegression().fit(x, y)"
   ]
  },
  {
   "cell_type": "code",
   "execution_count": 6,
   "metadata": {},
   "outputs": [
    {
     "name": "stdout",
     "output_type": "stream",
     "text": [
      "Y int., b0: 0.23083496573940665\n",
      "Coeff. regression, b1: 1.16575655044467\n"
     ]
    }
   ],
   "source": [
    "print('Y int., b0: {0}'.format(reg.intercept_[0]))\n",
    "print('Coeff. regression, b1: {0}'.format(reg.coef_[0][0]))"
   ]
  },
  {
   "cell_type": "code",
   "execution_count": 7,
   "metadata": {},
   "outputs": [
    {
     "data": {
      "text/plain": [
       "array([[1.58311256],\n",
       "       [1.55979743],\n",
       "       [1.54813987],\n",
       "       [1.52482474],\n",
       "       [1.52482474],\n",
       "       [1.571455  ],\n",
       "       [1.66471552],\n",
       "       [1.66471552],\n",
       "       [1.46653691],\n",
       "       [1.59477013],\n",
       "       [1.99112736],\n",
       "       [1.93283953],\n",
       "       [1.81626387],\n",
       "       [2.08438788],\n",
       "       [2.42245728],\n",
       "       [2.91207503],\n",
       "       [3.25014443],\n",
       "       [3.49495331],\n",
       "       [4.04285889]])"
      ]
     },
     "execution_count": 7,
     "metadata": {},
     "output_type": "execute_result"
    }
   ],
   "source": [
    "y_predict = reg.predict(x)\n",
    "y_predict"
   ]
  },
  {
   "cell_type": "markdown",
   "metadata": {},
   "source": [
    "## Coefficient of Determination\n",
    "A measurement in the proportion of $x$ in predicting $y$.\n",
    "### R-squared\n",
    "How well does a change in $x$ explain a change in $y$? How strong is the relationship between two variables?\n",
    "\n",
    "R-squared is calculated by:\n",
    "\n",
    "$$\n",
    "    r^2 = 1-\\frac{\\sum_{i=1}^{n}(y_i-\\hat{y}_i)^2}{\\sum_{i=1}^{n}(y_i-\\bar{y}_i)^2}\n",
    "$$\n",
    "\n",
    "### R-squared Explained\n",
    "\n",
    "Defining r-squared with sum of squares as:  \n",
    "\n",
    "$$  \n",
    "    r^2 = \\frac{SSTot-SSRes}{SSTot} = 1-\\frac{SSRes}{SSTot}\n",
    "$$\n",
    "\n",
    "Total sample variation around mean  \n",
    "$$  \n",
    "    SSTot = SS_{yy} = \\sum_{i=1}^{n}(y_i-\\bar{y})^2\n",
    "$$\n",
    "\n",
    "Unexplained sample variability after fitting  \n",
    "\n",
    "$$  \n",
    "    SSReg = \\sum_{i=1}^{n}(\\hat{y}_i-\\bar{y})^2\n",
    "$$\n",
    "\n",
    "Explained sample variability attributable to the linear relationship\n",
    "\n",
    "$$  \n",
    "    SSRes = SSE = \\sum_{i=1}^{n}(y_i-\\hat{y})^2\n",
    "$$\n",
    "\n",
    "Proportion of total sample variability explained by the linear relationship  \n",
    "\n",
    "$$\n",
    "    \\frac{SSTot-SSRes}{SSTot} = \\frac{SS_{yy}-SSE}{SS_{yy}} = \\frac{SSReg}{SSTot}\n",
    "$$\n",
    "\n",
    "### Adjusted R-squared\n",
    "Better measurement that takes into account, because:\n",
    "1. Number of samples.\n",
    "1. Penalizes data points that don't fit the model.\n",
    "1. Adjusted R-squared only improves by adding relevant data points (not just throwing extra data at the problem).\n",
    "\n",
    "$$\n",
    "    R_{adj}^{2} = 1-\\left[\\frac{(1-R^2)(n-1)}{n-k-1}\\right]\n",
    "$$\n",
    "\n",
    "where,  \n",
    "$n$: number of samples  \n",
    "$k$: independent variables (penalty)\n",
    "\n",
    "Although, the difference to R-squared becomes insignificant when working with large datasets."
   ]
  },
  {
   "cell_type": "code",
   "execution_count": 8,
   "metadata": {},
   "outputs": [
    {
     "data": {
      "text/plain": [
       "0.9664520990509683"
      ]
     },
     "execution_count": 8,
     "metadata": {},
     "output_type": "execute_result"
    }
   ],
   "source": [
    "#R2 Score\n",
    "reg.score(x, y)"
   ]
  },
  {
   "cell_type": "markdown",
   "metadata": {},
   "source": [
    "## Mean Absolute Error\n",
    "Measures errors between paired observations expressing the same phenomenon (independent variable and dependent variable).\n",
    "\n",
    "$$\n",
    "    MAE = \\frac{\\sum_{i=1}^{n}|y_i-x_i|}{n} = \\frac{\\sum_{i=1}^{n}|e_i|}{n}\n",
    "$$"
   ]
  },
  {
   "cell_type": "code",
   "execution_count": 9,
   "metadata": {},
   "outputs": [
    {
     "data": {
      "text/plain": [
       "0.10696513410047437"
      ]
     },
     "execution_count": 9,
     "metadata": {},
     "output_type": "execute_result"
    }
   ],
   "source": [
    "mean_absolute_error(y_true=y, y_pred=y_predict)"
   ]
  },
  {
   "cell_type": "markdown",
   "metadata": {},
   "source": [
    "## Root Mean Squared Error\n",
    "Measures the overall accuracy of a regression model, and is the basis for comparing it to other models.\n",
    "\n",
    "$$\n",
    "    RMSE = \\sqrt{\\frac{\\sum_{i=1}^{n}(y_i-\\hat{y}_i)^2}{n}}\n",
    "$$"
   ]
  },
  {
   "cell_type": "code",
   "execution_count": 10,
   "metadata": {},
   "outputs": [
    {
     "data": {
      "text/plain": [
       "0.14023479640380665"
      ]
     },
     "execution_count": 10,
     "metadata": {},
     "output_type": "execute_result"
    }
   ],
   "source": [
    "np.sqrt(mean_squared_error(y_true=y, y_pred=y_predict))"
   ]
  },
  {
   "cell_type": "markdown",
   "metadata": {},
   "source": [
    "## Residual Standard Error\n",
    "Similar to $RMSE$, with degrees of freedom under the denominator. In practice, the difference between $RMSE$ and $RSE$ is small with large datasets.\n",
    "\n",
    "$$\n",
    "    RSE = \\sqrt{\\frac{\\sum_{i=1}^{n}(y_i-\\hat{y}_i)^2}{(n-p-1)}}\n",
    "$$\n",
    "\n",
    "Where,  \n",
    "$p$: # of predictor variables"
   ]
  },
  {
   "cell_type": "markdown",
   "metadata": {},
   "source": [
    "## Residual Standard Error"
   ]
  },
  {
   "cell_type": "code",
   "execution_count": 11,
   "metadata": {},
   "outputs": [
    {
     "data": {
      "text/plain": [
       "0.14825458317008874"
      ]
     },
     "execution_count": 11,
     "metadata": {},
     "output_type": "execute_result"
    }
   ],
   "source": [
    "# RSE is not built into sklearn.metrics\n",
    "np.sqrt(np.sum((y - y_predict)**2) / (len(y) - 2))"
   ]
  },
  {
   "cell_type": "markdown",
   "metadata": {},
   "source": [
    "## Residuals\n",
    "Residuals are the differences between the observed and estimated values in a regression. Computed by,\n",
    "\n",
    "$$\n",
    "    \\hat{e}_i = y_i - \\hat{y}_i\n",
    "$$"
   ]
  },
  {
   "cell_type": "markdown",
   "metadata": {},
   "source": [
    "### Residuals Plot"
   ]
  },
  {
   "cell_type": "code",
   "execution_count": 12,
   "metadata": {
    "scrolled": false
   },
   "outputs": [
    {
     "data": {
      "image/png": "[encoded data removed]",
      "text/plain": [
       "<Figure size 1152x648 with 1 Axes>"
      ]
     },
     "metadata": {
      "needs_background": "light"
     },
     "output_type": "display_data"
    }
   ],
   "source": [
    "plt.figure(figsize=(16,9))\n",
    "sns.residplot(x='USA', y='Canada', data=gas_prices)\n",
    "plt.show()"
   ]
  },
  {
   "cell_type": "markdown",
   "metadata": {},
   "source": [
    "## Multiple Linear Regression\n",
    "*MLE* is used to extend a linear regression model to multiple predictors.\n",
    "\n",
    "MLE can be determined in a population by:\n",
    "$$\n",
    "    y = \\beta_0+\\beta_1x_1+\\beta_2x_2+...+\\beta_px_p\n",
    "$$\n",
    "\n",
    "For a sample:\n",
    "$$\n",
    "    y = b_0+b_1x_1+b_2x_2+...+b_px_p+e\n",
    "$$\n",
    "\n",
    "$$\n",
    "    y_i = b_0+\\sum_{j=1}^{p}b_jx_{ij}+e_i\n",
    "$$"
   ]
  },
  {
   "cell_type": "code",
   "execution_count": 13,
   "metadata": {},
   "outputs": [],
   "source": [
    "x_m = gas_prices[['Canada', 'Mexico']]\n",
    "y_m = gas_prices['USA']\n",
    "\n",
    "mreg = LinearRegression().fit(x_m, y_m)"
   ]
  },
  {
   "cell_type": "code",
   "execution_count": 25,
   "metadata": {},
   "outputs": [
    {
     "name": "stdout",
     "output_type": "stream",
     "text": [
      "Y int., b0: -0.388529919097518\n",
      "Coeff. regression, Canada, b1: 0.7200982950259981\n",
      "Coeff. regression, Mexico, b2: 0.2682472988204437\n"
     ]
    }
   ],
   "source": [
    "print('Y int., b0: {0}'.format(mreg.intercept_))\n",
    "print('Coeff. regression, {0}, b1: {1}'.format(gas_prices['Canada'].name, mreg.coef_[0]))\n",
    "print('Coeff. regression, {0}, b2: {1}'.format(gas_prices['Mexico'].name, mreg.coef_[1]))"
   ]
  }
 ],
 "metadata": {
  "kernelspec": {
   "display_name": "Python [conda env:datascience]",
   "language": "python",
   "name": "conda-env-datascience-py"
  },
  "language_info": {
   "codemirror_mode": {
    "name": "ipython",
    "version": 3
   },
   "file_extension": ".py",
   "mimetype": "text/x-python",
   "name": "python",
   "nbconvert_exporter": "python",
   "pygments_lexer": "ipython3",
   "version": "3.7.7"
  },
  "toc": {
   "base_numbering": 1,
   "nav_menu": {},
   "number_sections": true,
   "sideBar": true,
   "skip_h1_title": true,
   "title_cell": "Table of Contents",
   "title_sidebar": "Contents",
   "toc_cell": false,
   "toc_position": {},
   "toc_section_display": true,
   "toc_window_display": false
  }
 },
 "nbformat": 4,
 "nbformat_minor": 4
}
