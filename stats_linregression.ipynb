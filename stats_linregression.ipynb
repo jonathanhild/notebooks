{
 "cells": [
  {
   "cell_type": "markdown",
   "metadata": {},
   "source": [
    "# Linear Regression"
   ]
  },
  {
   "cell_type": "code",
   "execution_count": 1,
   "metadata": {},
   "outputs": [],
   "source": [
    "import pandas as pd\n",
    "from matplotlib import pyplot as plt\n",
    "%matplotlib inline\n",
    "import seaborn as sns"
   ]
  },
  {
   "cell_type": "markdown",
   "metadata": {},
   "source": [
    "## Simple Linear Regression\n",
    "Linear regression is used to analyze the relationship between two variables, $y~x$, where $x$ is the independent variable and $y$ is the dependent variable.\n",
    "\n",
    "In a deterministic model:\n",
    "\n",
    "$$\n",
    "    y = mx + b\n",
    "$$\n",
    "\n",
    "In a probabilistic model:\n",
    "\n",
    "$$\n",
    "    y = \\beta_0 + \\beta_1x + \\epsilon\n",
    "$$\n",
    "\n",
    "$\\beta_0$: population y-intercept of the line.  \n",
    "$\\beta_1$: population slope of the line.  \n",
    "$\\epsilon$: random error component.  \n",
    "\n",
    "### Model development\n",
    "1. Hypothesize the deterministic component of the model that relates the mean, $E(y|x)$ to the independent variable $x$.\n",
    "\n",
    "$$\n",
    "    E(y|x) = \\beta_0 + \\beta_1x\n",
    "$$\n",
    "\n",
    "1. Use sample data to estimate unknown model parameters: $\\hat{\\beta_0}$ or $b_0$, and $\\hat{\\beta_1}$ or $b_1$.\n",
    "1. Specify the probability distribution of the random error term and estimate SD of the distribution.  \n",
    "    $\\epsilon_i~N(0,\\sigma)$  \n",
    "   This means that the residual error are assumed to follow a standard normal distribution.\n",
    "1. Statistically evaluate the usefulness of the model.\n",
    "1. Use model for prediction, estimation or other purposes.\n",
    "\n",
    "### Assumptions of Linear Regression\n",
    "Check before modeling:\n",
    "- A Linear relationship between the dependent (target) and independent (features) variables.\n",
    "- No Multicollinearity: The independent variable does not have a strong correlation with other variables in the dataset.\n",
    "\n",
    "Check after modeling:\n",
    "- Homoscedasticity: Error is independent and random.\n",
    "- Residual- Measured error terms are normally distributed. This can be assured with enough data points thanks to the Central Limit Theorum."
   ]
  },
  {
   "cell_type": "markdown",
   "metadata": {},
   "source": [
    "### Scatterplot"
   ]
  },
  {
   "cell_type": "code",
   "execution_count": 2,
   "metadata": {},
   "outputs": [
    {
     "data": {
      "text/html": [
       "<div>\n",
       "<style scoped>\n",
       "    .dataframe tbody tr th:only-of-type {\n",
       "        vertical-align: middle;\n",
       "    }\n",
       "\n",
       "    .dataframe tbody tr th {\n",
       "        vertical-align: top;\n",
       "    }\n",
       "\n",
       "    .dataframe thead th {\n",
       "        text-align: right;\n",
       "    }\n",
       "</style>\n",
       "<table border=\"1\" class=\"dataframe\">\n",
       "  <thead>\n",
       "    <tr style=\"text-align: right;\">\n",
       "      <th></th>\n",
       "      <th>Australia</th>\n",
       "      <th>Canada</th>\n",
       "      <th>France</th>\n",
       "      <th>Germany</th>\n",
       "      <th>Italy</th>\n",
       "      <th>Japan</th>\n",
       "      <th>Mexico</th>\n",
       "      <th>South Korea</th>\n",
       "      <th>UK</th>\n",
       "      <th>USA</th>\n",
       "    </tr>\n",
       "    <tr>\n",
       "      <th>Year</th>\n",
       "      <th></th>\n",
       "      <th></th>\n",
       "      <th></th>\n",
       "      <th></th>\n",
       "      <th></th>\n",
       "      <th></th>\n",
       "      <th></th>\n",
       "      <th></th>\n",
       "      <th></th>\n",
       "      <th></th>\n",
       "    </tr>\n",
       "  </thead>\n",
       "  <tbody>\n",
       "    <tr>\n",
       "      <th>1990</th>\n",
       "      <td>NaN</td>\n",
       "      <td>1.87</td>\n",
       "      <td>3.63</td>\n",
       "      <td>2.65</td>\n",
       "      <td>4.59</td>\n",
       "      <td>3.16</td>\n",
       "      <td>1.00</td>\n",
       "      <td>2.05</td>\n",
       "      <td>2.82</td>\n",
       "      <td>1.16</td>\n",
       "    </tr>\n",
       "    <tr>\n",
       "      <th>1991</th>\n",
       "      <td>1.96</td>\n",
       "      <td>1.92</td>\n",
       "      <td>3.45</td>\n",
       "      <td>2.90</td>\n",
       "      <td>4.50</td>\n",
       "      <td>3.46</td>\n",
       "      <td>1.30</td>\n",
       "      <td>2.49</td>\n",
       "      <td>3.01</td>\n",
       "      <td>1.14</td>\n",
       "    </tr>\n",
       "    <tr>\n",
       "      <th>1992</th>\n",
       "      <td>1.89</td>\n",
       "      <td>1.73</td>\n",
       "      <td>3.56</td>\n",
       "      <td>3.27</td>\n",
       "      <td>4.53</td>\n",
       "      <td>3.58</td>\n",
       "      <td>1.50</td>\n",
       "      <td>2.65</td>\n",
       "      <td>3.06</td>\n",
       "      <td>1.13</td>\n",
       "    </tr>\n",
       "    <tr>\n",
       "      <th>1993</th>\n",
       "      <td>1.73</td>\n",
       "      <td>1.57</td>\n",
       "      <td>3.41</td>\n",
       "      <td>3.07</td>\n",
       "      <td>3.68</td>\n",
       "      <td>4.16</td>\n",
       "      <td>1.56</td>\n",
       "      <td>2.88</td>\n",
       "      <td>2.84</td>\n",
       "      <td>1.11</td>\n",
       "    </tr>\n",
       "    <tr>\n",
       "      <th>1994</th>\n",
       "      <td>1.84</td>\n",
       "      <td>1.45</td>\n",
       "      <td>3.59</td>\n",
       "      <td>3.52</td>\n",
       "      <td>3.70</td>\n",
       "      <td>4.36</td>\n",
       "      <td>1.48</td>\n",
       "      <td>2.87</td>\n",
       "      <td>2.99</td>\n",
       "      <td>1.11</td>\n",
       "    </tr>\n",
       "  </tbody>\n",
       "</table>\n",
       "</div>"
      ],
      "text/plain": [
       "      Australia  Canada  France  Germany  Italy  Japan  Mexico  South Korea  \\\n",
       "Year                                                                          \n",
       "1990        NaN    1.87    3.63     2.65   4.59   3.16    1.00         2.05   \n",
       "1991       1.96    1.92    3.45     2.90   4.50   3.46    1.30         2.49   \n",
       "1992       1.89    1.73    3.56     3.27   4.53   3.58    1.50         2.65   \n",
       "1993       1.73    1.57    3.41     3.07   3.68   4.16    1.56         2.88   \n",
       "1994       1.84    1.45    3.59     3.52   3.70   4.36    1.48         2.87   \n",
       "\n",
       "        UK   USA  \n",
       "Year              \n",
       "1990  2.82  1.16  \n",
       "1991  3.01  1.14  \n",
       "1992  3.06  1.13  \n",
       "1993  2.84  1.11  \n",
       "1994  2.99  1.11  "
      ]
     },
     "execution_count": 2,
     "metadata": {},
     "output_type": "execute_result"
    }
   ],
   "source": [
    "gas_prices = pd.read_csv('./data/gas_prices.csv', index_col='Year')\n",
    "gas_prices.head()"
   ]
  },
  {
   "cell_type": "code",
   "execution_count": 3,
   "metadata": {},
   "outputs": [
    {
     "data": {
      "image/png": "[encoded data removed]",
      "text/plain": [
       "<Figure size 1152x648 with 1 Axes>"
      ]
     },
     "metadata": {
      "needs_background": "light"
     },
     "output_type": "display_data"
    }
   ],
   "source": [
    "plt.figure(figsize=(16,9))\n",
    "sns.scatterplot(data=gas_prices, x='USA', y='Canada')\n",
    "plt.show()"
   ]
  },
  {
   "cell_type": "markdown",
   "metadata": {},
   "source": [
    "### Linear Model Plot"
   ]
  },
  {
   "cell_type": "code",
   "execution_count": 4,
   "metadata": {},
   "outputs": [
    {
     "data": {
      "image/png": "[encoded data removed]",
      "text/plain": [
       "<Figure size 1152x648 with 1 Axes>"
      ]
     },
     "metadata": {
      "needs_background": "light"
     },
     "output_type": "display_data"
    }
   ],
   "source": [
    "sns.lmplot(data=gas_prices, x='USA', y='Canada', height=9, aspect=16/9)\n",
    "plt.show()"
   ]
  },
  {
   "cell_type": "markdown",
   "metadata": {},
   "source": [
    "## Coefficient of Determination\n",
    "A measurement in the contribution of $x$ in predicting $y$.\n",
    "### R-squared\n",
    "How well does a change in $x$ explain a change in $y$? How strong is the relationship between two variables?\n",
    "\n",
    "$$\n",
    "    r^2 = \\left(\\frac{n(\\sum{xy})-(\\sum{x})(\\sum{y})}{\\sqrt{[n\\sum{x^2}-(\\sum{x})^2][n\\sum{y^2}-(\\sum{y})^2]}}\\right)^2\n",
    "$$\n",
    "\n",
    "### R-squared Explained\n",
    "\n",
    "Defining r-squared with sum of squares as:  \n",
    "\n",
    "$$  \n",
    "    r^2 = \\frac{SSTot-SSRes}{SSTot} = 1-\\frac{SSRes}{SSTot}\n",
    "$$\n",
    "\n",
    "Total sample variation around mean  \n",
    "$$  \n",
    "    SSTot = SS_{yy} = \\sum_{i=1}^{n}(y_i-\\bar{y})^2\n",
    "$$\n",
    "\n",
    "Unexplained sample variability after fitting  \n",
    "\n",
    "$$  \n",
    "    SSReg = \\sum_{i=1}^{n}(\\hat{y_i}-\\bar{y})^2\n",
    "$$\n",
    "\n",
    "Explained sample variability attributable to the linear relationship\n",
    "\n",
    "$$  \n",
    "    SSRes = SSE = \\sum_{i=1}^{n}(y_i-\\hat{y})^2\n",
    "$$\n",
    "\n",
    "Proportion of total sample variability explained by the linear relationship  \n",
    "\n",
    "$$\n",
    "    \\frac{SSTot-SSRes}{SSTot} = \\frac{SS_{yy}-SSE}{SS_{yy}} = \\frac{SSReg}{SSTot}\n",
    "$$\n",
    "\n",
    "### Adjusted R-squared\n",
    "Better measurement that takes into account:\n",
    "1. Number of samples.\n",
    "1. Penalizes data points that don't fit the model.\n",
    "1. Adjusted R-squared only improves by adding relevant data points (not just throwing extra data at the problem).\n",
    "\n",
    "$$\n",
    "    R_{adj}^{2} = 1-\\left[\\frac{(1-R^2)(n-1)}{n-k-1}\\right]\n",
    "$$\n",
    "\n",
    "where,  \n",
    "$n$: number of samples  \n",
    "$k$: independent variables (penalty)"
   ]
  },
  {
   "cell_type": "markdown",
   "metadata": {},
   "source": [
    "## Residual Standard Error\n",
    "\n",
    "\n",
    "$$\n",
    "    S_e = \\sqrt{\\frac{SSRes}{n-2}} = \\sqrt{\\frac{SSE}{n-2}}\n",
    "$$\n",
    "\n",
    "- $S_e$ is the amount by which an observation deviates from the least squares regression line.\n",
    "- $S_e$ is an estimate of $\\sigma$ in the distribution of the errors $\\epsilon_i~N(0,\\sigma)$\n",
    "- Both $r^2$ and $S_e$ are useful as initial indicators of the utility of the linear regression model."
   ]
  },
  {
   "cell_type": "markdown",
   "metadata": {},
   "source": [
    "## Residual Standard Error"
   ]
  },
  {
   "cell_type": "markdown",
   "metadata": {},
   "source": [
    "## Transformation"
   ]
  },
  {
   "cell_type": "markdown",
   "metadata": {},
   "source": [
    "## Standardization"
   ]
  },
  {
   "cell_type": "markdown",
   "metadata": {},
   "source": [
    "## Outliers, Leverage & Influence"
   ]
  }
 ],
 "metadata": {
  "kernelspec": {
   "display_name": "Python [conda env:datascience]",
   "language": "python",
   "name": "conda-env-datascience-py"
  },
  "language_info": {
   "codemirror_mode": {
    "name": "ipython",
    "version": 3
   },
   "file_extension": ".py",
   "mimetype": "text/x-python",
   "name": "python",
   "nbconvert_exporter": "python",
   "pygments_lexer": "ipython3",
   "version": "3.7.7"
  },
  "toc": {
   "base_numbering": 1,
   "nav_menu": {},
   "number_sections": true,
   "sideBar": true,
   "skip_h1_title": true,
   "title_cell": "Table of Contents",
   "title_sidebar": "Contents",
   "toc_cell": false,
   "toc_position": {},
   "toc_section_display": true,
   "toc_window_display": false
  }
 },
 "nbformat": 4,
 "nbformat_minor": 4
}
