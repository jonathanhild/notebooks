{
 "cells": [
  {
   "cell_type": "markdown",
   "metadata": {},
   "source": [
    "# Naive Baye's"
   ]
  },
  {
   "cell_type": "markdown",
   "metadata": {},
   "source": [
    "$$\n",
    "    P(A|B) \\propto \\prod^{n}_{i=1}P(B_i|A)\n",
    "$$\n",
    "\n",
    "$$\n",
    "    P(A^C|B) \\propto \\prod^{n}_{i=1}P(B_i|A^C)\n",
    "$$"
   ]
  },
  {
   "cell_type": "markdown",
   "metadata": {},
   "source": [
    "## Additive Smoothing / Laplace Smoothing\n",
    "\n",
    "Where $\\alpha = 1$:\n",
    "\n",
    "$$\n",
    "    P(class|word) = \\frac{N_{word|class} + \\alpha}{N_{class} + N_{vocabulary}}\n",
    "$$\n",
    "\n",
    "## Lidstone Smoothing\n",
    "Where $\\alpha < 1$:\n",
    "\n",
    "$$\n",
    "    P(class|word) = \\frac{N_{word|class} + \\alpha}{N_{class} + N_{vocabulary}}\n",
    "$$"
   ]
  }
 ],
 "metadata": {
  "kernelspec": {
   "display_name": "Python [conda env:datascience]",
   "language": "python",
   "name": "conda-env-datascience-py"
  },
  "language_info": {
   "codemirror_mode": {
    "name": "ipython",
    "version": 3
   },
   "file_extension": ".py",
   "mimetype": "text/x-python",
   "name": "python",
   "nbconvert_exporter": "python",
   "pygments_lexer": "ipython3",
   "version": "3.8.5"
  }
 },
 "nbformat": 4,
 "nbformat_minor": 4
}
