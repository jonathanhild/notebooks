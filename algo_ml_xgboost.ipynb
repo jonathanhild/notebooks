{
    "cells": [
        {
            "cell_type": "markdown",
            "source": [
                "# XGBoost\n",
                "\n",
                "## Advantages\n",
                "- Can handle missing data without preparation.\n",
                "\n",
                "## Disadvantages\n",
                "- \n",
                "\n",
                "## References\n",
                "1. \n",
                "\n",
                "## The Model\n"
            ],
            "metadata": {}
        },
        {
            "cell_type": "markdown",
            "source": [],
            "metadata": {}
        }
    ],
    "metadata": {
        "orig_nbformat": 4,
        "language_info": {
            "name": "python"
        }
    },
    "nbformat": 4,
    "nbformat_minor": 2
}