{
 "cells": [
  {
   "cell_type": "markdown",
   "metadata": {},
   "source": [
    "# Calculus"
   ]
  },
  {
   "cell_type": "code",
   "execution_count": 1,
   "metadata": {},
   "outputs": [],
   "source": [
    "import numpy as np\n",
    "from matplotlib import pyplot as plt"
   ]
  },
  {
   "cell_type": "markdown",
   "metadata": {},
   "source": [
    "## What is a function?\n",
    "\n",
    "A function describes a relation, causality or change. A function is expressed in the following form:\n",
    "\n",
    "$$\n",
    "    y = f(x)\n",
    "$$\n",
    "\n",
    "e.g. the conversion from $x$ degrees Fahrenheit to $y$ degrees Celcius\n",
    "\n",
    "$$\n",
    "    y = f(x) = \\frac{5}{9}(x - 32)\n",
    "$$"
   ]
  },
  {
   "cell_type": "markdown",
   "metadata": {},
   "source": [
    "## Slope\n",
    "\n",
    "If we have a function $f(x) = x^2$ and we want to find the slope $k$ between two points $a$ and $b$ (the average slope):\n",
    "\n",
    "$$\n",
    "   k = \\frac{\\Delta y}{\\Delta x} = \\frac{y_b - y_a}{x_b - x_a}\n",
    "$$"
   ]
  },
  {
   "cell_type": "code",
   "execution_count": 13,
   "metadata": {},
   "outputs": [
    {
     "data": {
      "image/png": "[encoded data removed]",
      "text/plain": [
       "<Figure size 432x288 with 1 Axes>"
      ]
     },
     "metadata": {
      "needs_background": "light"
     },
     "output_type": "display_data"
    }
   ],
   "source": [
    "x = np.linspace(0, 5, num=50)\n",
    "y = x ** 2\n",
    "\n",
    "plt.plot(x, y, label='x^2')\n",
    "plt.plot((1,2), (1,4), 'r')\n",
    "plt.plot(1, 1, 'ok')\n",
    "plt.plot(2, 4, 'ok')\n",
    "plt.text(0.8, 1.2, 'a')\n",
    "plt.text(1.8, 4.2, 'b')\n",
    "plt.axvline(2, ymin=2 / 25, ymax=4 / 25, ls='--', c='k', alpha=0.5)\n",
    "plt.axhline(1, xmin=1 / 5, xmax=2 / 5, ls='--', c='k', alpha=0.5)\n",
    "plt.show()"
   ]
  },
  {
   "cell_type": "markdown",
   "metadata": {},
   "source": [
    "For $ a = (1,1)$ and $b = (2,4)$, $k = \\frac{4 - 1}{2 - 1} = 3$"
   ]
  },
  {
   "cell_type": "markdown",
   "metadata": {},
   "source": [
    "## Limits\n",
    "\n",
    "But, if we want to find the slope $k$ at a single point $a$, we don't have a 2nd point to take the difference. \n",
    "\n",
    "We can approach from the left: $\\lim\\limits_{x\\to a^-}f(x) = 4$.\n",
    "\n",
    "We can approach from the right: $\\lim\\limits_{x\\to a^+}f(x) = 4$.\n",
    "\n",
    "In general, from both sides: $\\lim\\limits_{x\\to a}f(x) = 4$.\n",
    "\n",
    "Instantaneous slope can be approximated using close intervals of point $a$."
   ]
  },
  {
   "cell_type": "code",
   "execution_count": 17,
   "metadata": {},
   "outputs": [
    {
     "data": {
      "image/png": "[encoded data removed]",
      "text/plain": [
       "<Figure size 432x288 with 1 Axes>"
      ]
     },
     "metadata": {
      "needs_background": "light"
     },
     "output_type": "display_data"
    }
   ],
   "source": [
    "# The function of x ** 2 and its approx. 4 * x - 4 at x = a\n",
    "\n",
    "x = np.linspace(0, 5, num=50)\n",
    "y = x ** 2\n",
    "g = 4 * x - 4\n",
    "\n",
    "plt.plot(x, y, label='x^2')\n",
    "plt.plot(x, g, 'r', label='4x-4')\n",
    "plt.plot(2, 4, 'ok')\n",
    "plt.ylim((0,25))\n",
    "plt.text(1.9, 4.6, 'a')\n",
    "plt.axvline(2, ymax=0.16, ls='--', c='k', alpha=0.5)\n",
    "plt.axhline(4, xmax=0.4, ls='--', c='k', alpha=0.5)\n",
    "plt.legend()\n",
    "plt.show()"
   ]
  },
  {
   "cell_type": "markdown",
   "metadata": {},
   "source": [
    "## Derivatives\n",
    "\n",
    "The approximating linear function is $g(x) = kx + l$:\n",
    "\n",
    "$$\n",
    "    g(x) = k(x - a) + f(a)\n",
    "$$\n",
    "\n",
    "When $g(x)$ coincides with $f(a)$ when $x = a$.\n",
    "\n",
    "Now we calculate the relative error when $x$ changes from $x = a$ to $x = a + \\epsilon$.\n",
    "\n",
    "$$\n",
    "    \\text{Relative error} = \\frac{\\text{difference between } f(x) \\text{ and } g(x)}{\\text{change of } x}\\\\\n",
    "    = \\frac{f(a + \\epsilon) - g(a + \\epsilon)}{\\epsilon}\\\\\n",
    "    = \\frac{f(a + \\epsilon) - (k\\epsilon + f(a))}{\\epsilon}\\\\\n",
    "    = \\frac{f(a + \\epsilon) - f(a)}{\\epsilon} - k\\underset{\\epsilon\\to0}{\\to}0\n",
    "$$\n",
    "\n",
    "The $\\lim$ notation expresses the operation that obtains the value when $\\epsilon$ approaches 0.\n",
    "\n",
    "The linear function $g(x)$ with $k$ is an approximate function of $f(x)$. $k$ is the differential coefficient of $f(x)$ at $x = a$.\n",
    "$$\n",
    "    k = \\lim\\limits_{\\epsilon\\to0}\\frac{f(a + \\epsilon) - f(a)}{\\epsilon}\n",
    "$$\n",
    "\n",
    "We have the derivative $f^\\prime(x)$:\n",
    "\n",
    "$$\n",
    "    f^\\prime(x) = \\lim\\limits_{\\epsilon\\to0}\\frac{f(x + \\epsilon) - f(x)}{\\epsilon}\n",
    "$$"
   ]
  },
  {
   "cell_type": "markdown",
   "metadata": {},
   "source": [
    "For $f(x) = x^2$:\n",
    "\n",
    "$$\n",
    "    f^\\prime(x) = \\lim\\limits_{\\epsilon\\to0}\\frac{f(a + \\epsilon)^2 - f(a)^2}{\\epsilon} = \\lim\\limits_{\\epsilon\\to0}\\frac{2a\\epsilon + \\epsilon^2}{\\epsilon} = \\lim\\limits_{\\epsilon\\to0}(2a\\epsilon + \\epsilon) = 2a\n",
    "$$\n",
    "\n",
    "Thus, the differential coefficient of $f(x)$ at $x = a$ is:\n",
    "$$\n",
    "    f^\\prime(a) = 2a\n",
    "$$\n",
    "\n",
    "Therefore, the derivative of f(x) is:\n",
    "\n",
    "$$\n",
    "    f^\\prime(x) = 2x\n",
    "$$"
   ]
  },
  {
   "cell_type": "code",
   "execution_count": 19,
   "metadata": {},
   "outputs": [
    {
     "data": {
      "image/png": "[encoded data removed]",
      "text/plain": [
       "<Figure size 432x288 with 1 Axes>"
      ]
     },
     "metadata": {
      "needs_background": "light"
     },
     "output_type": "display_data"
    }
   ],
   "source": [
    "x = np.linspace(0, 5, num=50)\n",
    "y = x ** 2\n",
    "g = 2 * x\n",
    "\n",
    "plt.plot(x, y, label='x^2')\n",
    "plt.plot(x, g, 'r', label='2x')\n",
    "plt.plot(2, 4, 'ok')\n",
    "plt.ylim((0,25))\n",
    "plt.text(1.9, 4.6, 'a')\n",
    "plt.axvline(2, ymax=0.16, ls='--', c='k', alpha=0.5)\n",
    "plt.axhline(4, xmax=0.4, ls='--', c='k', alpha=0.5)\n",
    "plt.legend()\n",
    "plt.show()"
   ]
  },
  {
   "cell_type": "markdown",
   "metadata": {},
   "source": [
    "## Differentiation rules\n",
    "\n",
    "### Differentiation is linear\n",
    "\n",
    "For any functions $f$ and $g$ and any real numbers $a$ and $b$, the derivative of the function $h(x) = af(x) + bg(x)$ with respect to $x$ is\n",
    "\n",
    "$$\n",
    "    h^\\prime(x) = af^\\prime(x) + bg^\\prime(x)\\\\\n",
    "    \\frac{d(af + bg)}{dx} = a\\frac{df}{dx} + b\\frac{dg}{dx}\n",
    "$$\n",
    "\n",
    "Special cases include:\n",
    "\n",
    "The constant factor rule: $(af)^\\prime = af^\\prime$\n",
    "\n",
    "The sum rule: $(f + g)^\\prime = f^\\prime + g^\\prime$\n",
    "\n",
    "The subtraction rule: $(f - g)^\\prime = f^\\prime - g^\\prime$\n",
    "\n",
    "### Product rule\n",
    "\n",
    "For the functions $f$ and $g$, the derivative of the function $h(x) = f(x) g(x)$ with respect to $x$ is \n",
    "\n",
    "$$\n",
    "    h^\\prime(x) = (fg)^\\prime(x) = f^\\prime(x)g(x) + f(x)g^\\prime(x)\\\\\n",
    "    \\frac{d(fg)}{dx} = \\frac{df}{dx}g + f\\frac{dg}{dx}\n",
    "$$\n",
    "\n",
    "### Chain rule\n",
    "\n",
    "The derivative of the function $h(x) = f(g(x))$ is\n",
    "\n",
    "$$\n",
    "    h^\\prime(x) = f^\\prime(g(x))g^\\prime(x)\\\\\n",
    "    \\frac{dx}{dy} = \\frac{1}{\\frac{dy}{dx}}\n",
    "$$\n",
    "\n",
    "### Inverse function rule\n",
    "\n",
    "If the function $f$ has an inverse function $g$, meaning that $g(f(x)) = x$ and $f(g(y)) = y$ then \n",
    "\n",
    "$$\n",
    "    g^\\prime = \\frac{1}{f^\\prime \\circ g}\\\\\n",
    "    \\frac{dx}{dy} = \\frac{1}{\\frac{dy}{dx}}    \n",
    "$$\n",
    "\n",
    "### Power rule\n",
    "\n",
    "If $f(x) = x^r$, for any real number $r \\neq 0$, then\n",
    "\n",
    "$$\n",
    "    f^\\prime(x) = rx^{r-1}\n",
    "$$\n",
    "\n",
    "When $r = 1$, this becomes the special case that if $f(x) = x$, then $f^\\prime(x) = 1$\n",
    "\n",
    "Combining the power rule with the sum and constant multiple rules permits the computation of the derivative of any polynomial.\n",
    "\n",
    "### Reciprocal rule\n",
    "\n",
    "The derivative of $h(x) = \\frac{1}{f(x)}$ for any (nonvanishing) function $f$ is:\n",
    "\n",
    "$$\n",
    "    h^\\prime(x) = -\\frac{f^\\prime(x)}{(f(x))^2}\\\\\n",
    "    \\frac{d(1/f)}{dx} = -\\frac{1}{f^2}\\frac{df}{dx}\n",
    "$$\n",
    "\n",
    "### Quotient rule\n",
    "\n",
    "If $f$ and $g$ are functions, then:\n",
    "\n",
    "$$\n",
    "    \\left(\\frac{f}{g}\\right)^\\prime = \\frac{f^\\prime g - g^\\prime f}{g^2}\n",
    "$$\n",
    "\n",
    "Whenever $g$ is non-zero.\n",
    "\n",
    "This can be derived from the product rule and the reciprocal rule.\n",
    "\n",
    "### Generalized power rule\n",
    "\n",
    "The elementary power rule generalizes considerably. The most general power rule is the functional power rule: for any functions $f$ and $g$,  \n",
    "\n",
    "$$\n",
    "    \\left(f^g\\right)^\\prime = \\left(e^g\\ln f\\right)^prime = f^g\\left(f^prime\\frac{g}{f} + g^\\prime\\ln f\\right)\n",
    "$$\n",
    "\n",
    "Whenever both sides are well defined.\n",
    "\n",
    "Special cases\n",
    "\n",
    "If $f(x) = x^2$, then $f^\\prime(x) = ax^{a-1}$ when $a$ is any non-zero real number and $x$ is positive.\n",
    "\n",
    "The reciprocal rule may be derived as the special case where $g(x) = -1$.\n",
    "\n",
    "### Exponential derivatives\n",
    "\n",
    "When $c > 0$,\n",
    "\n",
    "$$\n",
    "    \\frac{d}{dx}(c^{ax}) = ac^{ax}\\ln c\n",
    "$$\n",
    "\n",
    "The equation above is true for all $c$, but the derivative for $c < 0$ yields a complex number.\n",
    "\n",
    "$$\n",
    "    \\frac{d}{dx}(e^{ax}) = ae^{ax}\\\\\n",
    "    \\frac{d}{dx}(\\log_c x) = \\frac{1}{x\\ln c},    c > 0, c\\neq1\n",
    "$$\n",
    "\n",
    "The equation above is also true for all $c$, but yields a complex number if $c < 0$.\n",
    "\n",
    "### Logarithmic derivatives\n",
    "\n",
    "The logarithmic derivative is another way of stating the rule for differentiating the logarithm of a function (using the chain rule): \n",
    "\n",
    "$$\n",
    "    (\\ln f)^\\prime = \\frac{f^\\prime}{f}\n",
    "$$\n",
    "\n",
    "whenever possible.\n",
    "\n",
    "### Trigonometric derivatives\n",
    "\n",
    "$$\n",
    "    (\\sin x)^\\prime = \\cos x\\\\\n",
    "    (\\cos x)^\\prime = -\\sin x\\\\\n",
    "    (\\tan x)^\\prime = \\sec^2 x = \\frac{1}{\\cos^2 x} = 1 + \\tan^2 x\n",
    "$$\n",
    "\n",
    "It is common to additionally define an inverse tangent function with two arguments, arctan ⁡ $(y,x)$. Its value lies in the range $[−π,π]$ and reflects the quadrant of the point $(x,y)$. For the first and fourth quadrant (i.e. $x > 0$ one has arctan ⁡ $(y,x > 0) = \\arctan⁡(y/x)$. Its partial derivatives are \n",
    "\n",
    "$$\n",
    "    \\frac{d\\arctan(y,x)}{dy} = \\frac{x}{x^2 + y^2}\\\\\n",
    "    \\frac{d\\arctan(y,x)}{dx} = \\frac{-y}{x^2 + y^2}\n",
    "$$\n",
    "\n",
    "### Hyperbolic derivatives\n",
    "\n",
    "$$\n",
    "    (\\sinh x)^\\prime = \\cosh x = \\frac{e^x + e^{-x}}{2}\\\\\n",
    "    (\\cosh x)^\\prime = \\sinh x = \\frac{e^x - e^{-x}}{2}\\\\\n",
    "    (\\tanh x)^\\prime = \\text{sech}^2 x\n",
    "$$\n"
   ]
  },
  {
   "cell_type": "markdown",
   "metadata": {},
   "source": [
    "## Integration\n",
    "\n",
    "### Definite integrals\n",
    "\n",
    "Whe $F^\\prime(x) = f(x)$\n",
    "\n",
    "$$\n",
    "    \\int_{a}^{b}f(x)dx = F(b) - F(a)\n",
    "$$\n",
    "\n",
    "### Connection of intervals\n",
    "\n",
    "$$\n",
    "    \\int_{a}^{b}f(x)dx + \\int_{b}^{c}f(x)dx = \\int_{a}^{c}f(x)dx  \n",
    "$$\n",
    "\n",
    "### Sum\n",
    "\n",
    "$$\n",
    "    \\int_{a}^{b}(f(x) + g(x))dx = \\int_{a}^{b}f(x)dx + \\int_{a}^{b}g(x)dx\n",
    "$$\n",
    "\n",
    "### Constant multiples\n",
    "\n",
    "$$\n",
    "    a\\int_{a}^{b}f(x)dx = \\int_{a}^{b}af(x)dx\n",
    "$$\n",
    "\n",
    "### Substitution\n",
    "\n",
    "When $x = g(y)$, $b = g(\\beta)$, $a = g(\\alpha)$\n",
    "\n",
    "$$\n",
    "    \\int_{b}^{a}f(x)dx = \\int_{\\beta}^{\\alpha}f(g(y))g^\\prime(y)dy\n",
    "$$\n",
    "\n",
    "### Integration by parts\n",
    "\n",
    "$$\n",
    "    \\int_{a}^{b}f^\\prime(x)g(x)dx + \\int_{a}^{b}f(x)g^\\prime(x)dx = f(b)g(b) - f(a)g(a)\n",
    "$$"
   ]
  },
  {
   "cell_type": "markdown",
   "metadata": {},
   "source": [
    "## Taylor expansion\n",
    "\n",
    "When $f(x)$ has a Taylor expansion near $x = a$\n",
    "\n",
    "$$\n",
    "    f(x) = f(a) + \\frac{1}{1!}f^\\prime(a)(x - a) + \\frac{1}{2!}f^{\\prime\\prime}(a)(x - a)^2 + \\frac{1}{3!}f^{\\prime\\prime\\prime}(a)(x - a)^3 + \\ldots + \\frac{1}{2!}f^{(n)}(a)(x - a)^{(n)} + \\ldots\n",
    "$$\n",
    "\n",
    "### Taylor expansion of various functions\n",
    "\n",
    "$$\n",
    "    \\cos x = 1 - \\frac{1}{2!}x^2 + \\frac{1}{4!}x^4 + \\ldots + (-1)^{n}\\frac{1}{(2n)!}x^{2n} + \\ldots\\\\\n",
    "    \\sin x = x - \\frac{1}{3!}x^3 + \\frac{1}{5!}x^5 + \\ldots + (-1)^{n - 1}\\frac{1}{(2n - 1)!}x^{2n - 1} + \\ldots\\\\\n",
    "    e^x = 1 + \\frac{1}{1!}x + \\frac{1}{2!}x^2 + \\frac{1}{3!}x^3 + \\ldots + \\frac{1}{n!}x^n + \\ldots\\\\\n",
    "    \\ln(1 + x) = x - \\frac{1}{2}x^2 + \\frac{1}{3}x^3 - \\frac{1}{4}x^4 + \\ldots + (-1)^{n + 1}\\frac{1}{n}x^n + \\ldots\n",
    "$$"
   ]
  },
  {
   "cell_type": "markdown",
   "metadata": {},
   "source": [
    "## Partial derivatives\n",
    "\n",
    "$$\n",
    "    \\frac{\\partial f}{\\partial x} = \\lim\\limits_{h\\to0}\\frac{f(x + h,y) - f(x,y)}{h}\\\\\n",
    "    \\frac{\\partial f}{\\partial y} = \\lim\\limits_{k\\to0}\\frac{f(x + y,k) - f(x,y)}{k}\n",
    "$$\n",
    "\n",
    "### Total differentials\n",
    "\n",
    "$$\n",
    "    dz = \\frac{\\partial z}{\\partial x}dx + \\frac{\\partial z}{\\partial y}dy\n",
    "$$\n",
    "\n",
    "### Formula of chain rule\n",
    "\n",
    "When $z = f(x,y)$, $x = a(t)$, $y = b(t)$\n",
    "\n",
    "$$\n",
    "    \\frac{dz}{dt} = \\frac{\\partial f}{\\partial x}\\frac{da}{dt} + \\frac{\\partial f}{\\partial y}\\frac{db}{dt}\n",
    "$$"
   ]
  }
 ],
 "metadata": {
  "kernelspec": {
   "display_name": "Python [conda env:datascience]",
   "language": "python",
   "name": "conda-env-datascience-py"
  },
  "language_info": {
   "codemirror_mode": {
    "name": "ipython",
    "version": 3
   },
   "file_extension": ".py",
   "mimetype": "text/x-python",
   "name": "python",
   "nbconvert_exporter": "python",
   "pygments_lexer": "ipython3",
   "version": "3.8.8"
  }
 },
 "nbformat": 4,
 "nbformat_minor": 4
}
