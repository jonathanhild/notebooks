{
 "cells": [
  {
   "cell_type": "markdown",
   "id": "b055c75a-7546-4e19-8181-94c7930b0a00",
   "metadata": {},
   "source": [
    "# K-Means Clustering\n",
    "\n",
    "## Advantages\n",
    "- Arbitrary labeling of unlabeled data.\n",
    "- Useful in iterative \n",
    "\n",
    "## Disadvantages\n",
    "- Requires careful feature engineering and normalization \n",
    "- Works better with numeric features; categorical features can skew results.\n",
    "\n",
    "## References\n",
    "\n",
    "## The Model"
   ]
  },
  {
   "cell_type": "code",
   "execution_count": null,
   "id": "6beb0e17-5ad1-410b-9c13-58a091f09862",
   "metadata": {},
   "outputs": [],
   "source": []
  }
 ],
 "metadata": {
  "kernelspec": {
   "display_name": "Python [conda env:datascience]",
   "language": "python",
   "name": "conda-env-datascience-py"
  },
  "language_info": {
   "codemirror_mode": {
    "name": "ipython",
    "version": 3
   },
   "file_extension": ".py",
   "mimetype": "text/x-python",
   "name": "python",
   "nbconvert_exporter": "python",
   "pygments_lexer": "ipython3",
   "version": "3.8.10"
  }
 },
 "nbformat": 4,
 "nbformat_minor": 5
}
