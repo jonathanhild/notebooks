{
 "cells": [
  {
   "cell_type": "markdown",
   "id": "883de6d3-4d55-409b-9590-aeb69a796f10",
   "metadata": {},
   "source": [
    "# Neural Networks\n",
    "\n",
    "## References\n",
    "\n",
    "1. Hands-On Machine Learning: Chapter 10 - Introduction to Artificial Neural Networks, Chapter 11 - Training Deep Neural Nets\n",
    "1. Deep Learning from Scratch\n",
    "1. Programming PyTorch for Deep Learning\n",
    "1. Deep Learning with Python\n",
    "1. Fundamentals of Deep Learning\n",
    "1. How to build your own neural network from scratch using Python: [https://towardsdatascience.com/how-to-build-your-own-neural-network-from-scratch-in-python-68998a08e4f6](https://towardsdatascience.com/how-to-build-your-own-neural-network-from-scratch-in-python-68998a08e4f6)\n",
    "1. Creating a neural network from scratch in Python: [https://stackabuse.com/creating-a-neural-network-from-scratch-in-python/](https://stackabuse.com/creating-a-neural-network-from-scratch-in-python/)\n",
    "1. How to use data scaling to improve deep learning model stability and performance [https://machinelearningmastery.com/how-to-improve-neural-network-stability-and-modeling-performance-with-data-scaling/](https://machinelearningmastery.com/how-to-improve-neural-network-stability-and-modeling-performance-with-data-scaling/)\n",
    "1. Wikipedia: Artificial Neural Network [https://en.wikipedia.org/wiki/Artificial_neural_network](https://en.wikipedia.org/wiki/Artificial_neural_network)"
   ]
  },
  {
   "cell_type": "code",
   "execution_count": 1,
   "id": "012c843c-cff0-4ffe-8fa9-b21e43ce95b2",
   "metadata": {},
   "outputs": [],
   "source": [
    "import numpy as np\n",
    "import pandas as pd\n",
    "from scipy.special import erf\n",
    "from matplotlib import pyplot as plt\n",
    "from matplotlib import patches\n",
    "import seaborn as sns\n",
    "import yellowbrick as yb\n",
    "from sklearn.neural_network import MLPClassifier\n",
    "from sklearn.metrics import confusion_matrix, classification_report"
   ]
  },
  {
   "cell_type": "markdown",
   "id": "046b55b4-9d52-47b9-9705-c4de0b69fa50",
   "metadata": {},
   "source": [
    "# Basics of Neural Networks\n",
    "\n",
    "A **neural network** is made of multiple layers, represented as a graph with nodes and vertices.\n",
    "\n",
    "## Input Layer\n",
    "\n",
    "The **input layer** is made of the dataset features.\n",
    "\n",
    "## Hidden Layers\n",
    "\n",
    "One or more **hidden layers** are calculated using **activation functions**.\n",
    "\n",
    "## Output Layer\n",
    "\n"
   ]
  },
  {
   "cell_type": "markdown",
   "id": "9ba9772a-a8bb-4b2a-bc79-acdf4021a267",
   "metadata": {},
   "source": [
    "# Backpropagation\n",
    "\n",
    "## Softmax\n",
    "\n",
    "$$\n",
    "    f_i(\\vec{x}) = \\frac{e^{x_i}}{\\sum_{j=1}^{J}e^{x_j}}\n",
    "$$"
   ]
  },
  {
   "cell_type": "markdown",
   "id": "8e90c9a9-653e-4f30-a3cc-36680db6ed88",
   "metadata": {},
   "source": [
    "# Activation Functions"
   ]
  },
  {
   "cell_type": "code",
   "execution_count": 2,
   "id": "a8866448-90f6-4c0e-84fa-1ec9e4139262",
   "metadata": {},
   "outputs": [],
   "source": [
    "X = np.arange(-5, 5.01, 0.01)"
   ]
  },
  {
   "cell_type": "code",
   "execution_count": 3,
   "id": "a53d938d-e0c3-43ae-8f94-5f4506a8f3df",
   "metadata": {},
   "outputs": [],
   "source": [
    "def cartesian_plot(x, y):\n",
    "    fig, ax = plt.subplots(figsize=(5,5))\n",
    "    ax.arrow(0, -5, 0, 10, color='k', head_width=0.2, head_length=0.2)\n",
    "    ax.arrow(0, 5, 0, -10, color='k', head_width=0.2, head_length=0.2)\n",
    "    ax.arrow(-5, 0, 10, 0, color='k', head_width=0.2, head_length=0.2)\n",
    "    ax.arrow(5, 0, -10, 0, color='k', head_width=0.2, head_length=0.2)\n",
    "    ax = sns.lineplot(x=x, y=y)\n",
    "    ax.grid(b=True, linewidth=1)\n",
    "    ax.autoscale(tight=True)\n",
    "    ax.set_xlabel('x')\n",
    "    ax.set_ylabel('y')\n",
    "    plt.show()"
   ]
  },
  {
   "cell_type": "markdown",
   "id": "5051dd0b-5bd4-4970-b643-9ba2b943dcf1",
   "metadata": {},
   "source": [
    "## Identity\n",
    "\n",
    "$$\n",
    "    f(x) = x\n",
    "$$\n",
    "\n",
    "### Derivative\n",
    "\n",
    "$$\n",
    "    f^\\prime(x) = 1\n",
    "$$\n",
    "\n",
    "for range $(-\\infty,\\infty)$ and order of continuity $C^\\infty$"
   ]
  },
  {
   "cell_type": "code",
   "execution_count": 4,
   "id": "9e5b89ef-81b1-459d-b1b4-bf1f6f3d1783",
   "metadata": {},
   "outputs": [],
   "source": [
    "y = X"
   ]
  },
  {
   "cell_type": "code",
   "execution_count": 5,
   "id": "804d0596-c253-48c8-9d58-a247c36b8374",
   "metadata": {},
   "outputs": [
    {
     "data": {
      "image/png": "[encoded data removed]",
      "text/plain": [
       "<Figure size 360x360 with 1 Axes>"
      ]
     },
     "metadata": {},
     "output_type": "display_data"
    }
   ],
   "source": [
    "cartesian_plot(X, y)"
   ]
  },
  {
   "cell_type": "markdown",
   "id": "b9c0879b-d572-4af4-98e9-dd929e9b6535",
   "metadata": {},
   "source": [
    "## Binary Step\n",
    "\n",
    "\n",
    "$$\n",
    "    f(x) = \\begin{cases}\n",
    "    0 & \\text{if } x < 0\\\\\n",
    "    1 & \\text{if } x \\geq 0\n",
    "    \\end{cases}\n",
    "$$\n",
    "\n",
    "### Derivative\n",
    "\n",
    "$$\n",
    "    f^\\prime(x) = \\begin{cases}\n",
    "    0 & \\text{if } x \\neq 0\\\\\n",
    "    undefined & \\text{if } x = 0\n",
    "    \\end{cases}\n",
    "$$\n",
    "\n",
    "for range $\\{0,1\\}$ and order of continuity $C^{-1}$"
   ]
  },
  {
   "cell_type": "code",
   "execution_count": 6,
   "id": "001558b9-b0eb-46cc-a41b-96f6ca928443",
   "metadata": {},
   "outputs": [],
   "source": [
    "y = [0 if x < 0 else 1 for x in X]"
   ]
  },
  {
   "cell_type": "code",
   "execution_count": 7,
   "id": "a2ac2600-de99-4948-9e95-756b1d7cd857",
   "metadata": {},
   "outputs": [
    {
     "data": {
      "image/png": "[encoded data removed]",
      "text/plain": [
       "<Figure size 360x360 with 1 Axes>"
      ]
     },
     "metadata": {},
     "output_type": "display_data"
    }
   ],
   "source": [
    "cartesian_plot(X, y)"
   ]
  },
  {
   "cell_type": "markdown",
   "id": "d5ac8fc5-3afc-47cf-86a9-feb675981616",
   "metadata": {},
   "source": [
    "## Logistic/Sigmoid Function\n",
    "\n",
    "$$\n",
    "    f(x) = \\frac{1}{1 + e^{-x}}\n",
    "$$\n",
    "\n",
    "### Derivative\n",
    "\n",
    "$$\n",
    "    f^\\prime(x) = f(x)(1 - f(x))\n",
    "$$\n",
    "\n",
    "for range $(0,1)$ and order of continuity $C^\\infty$"
   ]
  },
  {
   "cell_type": "code",
   "execution_count": 8,
   "id": "876990f6-b79a-4312-9797-22b29a92af87",
   "metadata": {},
   "outputs": [],
   "source": [
    "y = 1 / (1 + np.exp(-X))"
   ]
  },
  {
   "cell_type": "code",
   "execution_count": 9,
   "id": "31a863a2-5398-4658-9058-8c513ed05242",
   "metadata": {},
   "outputs": [
    {
     "data": {
      "image/png": "[encoded data removed]",
      "text/plain": [
       "<Figure size 360x360 with 1 Axes>"
      ]
     },
     "metadata": {},
     "output_type": "display_data"
    }
   ],
   "source": [
    "cartesian_plot(X, y)"
   ]
  },
  {
   "cell_type": "markdown",
   "id": "e9f50e88-f76d-413e-a76b-dac48137550e",
   "metadata": {},
   "source": [
    "## Hyperbolic Tangent: $tanh(x)$\n",
    "$$\n",
    "    \\cosh(x) = \\frac{e^x - e^{-x}}{2}\n",
    "$$\n",
    "\n",
    "$$\n",
    "    \\sinh(x) = \\frac{e^x + e^{-x}}{2}\n",
    "$$\n",
    "\n",
    "$$\n",
    "    f(x) = \\tanh(x) = \\frac{\\sinh(x)}{\\cosh(x)} = \\frac{e^x - e^{-x}}{e^x + e^{-x}}\n",
    "$$\n",
    "\n",
    "for range $(-1, 1)$ and order of continuity $C^\\infty$\n",
    "\n",
    "### Derivative\n",
    "\n",
    "$$\n",
    "    f^\\prime(x) = 1 - f(x)^2\n",
    "$$"
   ]
  },
  {
   "cell_type": "code",
   "execution_count": 10,
   "id": "fc8c1528-2a80-44f6-b5a6-a2041d18e56b",
   "metadata": {},
   "outputs": [],
   "source": [
    "y = (np.exp(X) - np.exp(-X)) / (np.exp(X) + np.exp(-X))"
   ]
  },
  {
   "cell_type": "code",
   "execution_count": 11,
   "id": "ce9acac5-bd58-46e4-9e30-5862916ede28",
   "metadata": {},
   "outputs": [
    {
     "data": {
      "image/png": "[encoded data removed]",
      "text/plain": [
       "<Figure size 360x360 with 1 Axes>"
      ]
     },
     "metadata": {},
     "output_type": "display_data"
    }
   ],
   "source": [
    "cartesian_plot(X, y)"
   ]
  },
  {
   "cell_type": "markdown",
   "id": "5035cbab-4bfe-49b2-a942-59cb6c9a0d20",
   "metadata": {},
   "source": [
    "## Rectified Linear Unit (ReLU)\n",
    "\n",
    "$$\n",
    "    f(x) = \\begin{cases}\n",
    "    0 & \\text{if } x \\leq 0\\\\\n",
    "    x & \\text{if } x > 0\\\\\n",
    "    = \\max\\{0,x\\} = x1_{x>0}\n",
    "    \\end{cases}\n",
    "$$\n",
    "\n",
    "for range $[0, \\infty)$ and order of continuity $C^0$\n",
    "\n",
    "### Derivative\n",
    "\n",
    "$$\n",
    "    f^\\prime(x) = \\begin{cases}\n",
    "    0 & \\text{if } x < 0\\\\\n",
    "    1 & \\text{if } x > 0\\\\\n",
    "    undefined & \\text{if } x = 0\n",
    "    \\end{cases}\n",
    "$$"
   ]
  },
  {
   "cell_type": "code",
   "execution_count": 12,
   "id": "331df923-8f4d-444f-bd44-1cbe4fad12d5",
   "metadata": {},
   "outputs": [],
   "source": [
    "y = [0 if x < 0 else x for x in X]"
   ]
  },
  {
   "cell_type": "code",
   "execution_count": 13,
   "id": "cc01abe8-2532-4dc7-b35b-1d44c4265997",
   "metadata": {},
   "outputs": [
    {
     "data": {
      "image/png": "[encoded data removed]",
      "text/plain": [
       "<Figure size 360x360 with 1 Axes>"
      ]
     },
     "metadata": {},
     "output_type": "display_data"
    }
   ],
   "source": [
    "cartesian_plot(X, y)"
   ]
  },
  {
   "cell_type": "markdown",
   "id": "78a8f3f5-193e-4d3a-a002-b3cdb8c1c61d",
   "metadata": {},
   "source": [
    "## Gaussian Error Linear Unit (GELU)\n",
    "\n",
    "$$\n",
    "    f(x) = \\frac{1}{2}x\\left(1 + \\text{erf} \\left(\\frac{x}{\\sqrt{2}}\\right)\\right) = x\\Phi(x)\n",
    "$$\n",
    "\n",
    "for range $(-0.17\\ldots, \\infty)$ and order of continuity $C^\\infty$\n",
    "\n",
    "### Derivative\n",
    "\n",
    "$$\n",
    "    f^\\prime(x) = \\Phi(x) + x\\phi(x)\n",
    "$$"
   ]
  },
  {
   "cell_type": "code",
   "execution_count": 14,
   "id": "0f205a0e-4afa-458c-9f85-7e4070443774",
   "metadata": {},
   "outputs": [],
   "source": [
    "y = 0.5 * X * (1 + erf(X / np.sqrt(2)))"
   ]
  },
  {
   "cell_type": "code",
   "execution_count": 15,
   "id": "0c2cedc1-7012-4017-be2b-e22d3d8b3d2e",
   "metadata": {},
   "outputs": [
    {
     "data": {
      "image/png": "[encoded data removed]",
      "text/plain": [
       "<Figure size 360x360 with 1 Axes>"
      ]
     },
     "metadata": {},
     "output_type": "display_data"
    }
   ],
   "source": [
    "cartesian_plot(X, y)"
   ]
  },
  {
   "cell_type": "markdown",
   "id": "e6d2b686-ef7b-4ab3-898a-488cda7cd45d",
   "metadata": {},
   "source": [
    "## Softplus\n",
    "\n",
    "$$\n",
    "    f(x) = \\ln(1 + e^x)\n",
    "$$\n",
    "\n",
    "for range $(0, \\infty)$ and order of continuity $C^\\infty$\n",
    "\n",
    "### Derivative\n",
    "\n",
    "$$\n",
    "    f^\\prime(x) = \\frac{1}{1 + e^{-x}}\n",
    "$$"
   ]
  },
  {
   "cell_type": "code",
   "execution_count": 16,
   "id": "51d9ee8d-03c8-4b6f-8171-21f822e49ffe",
   "metadata": {},
   "outputs": [],
   "source": [
    "y = np.log(1 + np.exp(X))"
   ]
  },
  {
   "cell_type": "code",
   "execution_count": 17,
   "id": "d5a4e37c-3874-4b9a-9974-98a76785d3d8",
   "metadata": {},
   "outputs": [
    {
     "data": {
      "image/png": "[encoded data removed]",
      "text/plain": [
       "<Figure size 360x360 with 1 Axes>"
      ]
     },
     "metadata": {},
     "output_type": "display_data"
    }
   ],
   "source": [
    "cartesian_plot(X, y)"
   ]
  },
  {
   "cell_type": "markdown",
   "id": "6bd449c9-4fc8-4e54-81df-40163958fe7f",
   "metadata": {},
   "source": [
    "## Exponential Linear Unit (ELU)\n",
    "\n",
    "$$\n",
    "    f(x) = \\begin{cases}\n",
    "    \\alpha(e^x -1) & \\text{if } x \\leq 0\\\\\n",
    "    x & \\text{if } x > 0\n",
    "    \\end{cases}\\\\\n",
    "    \\text{with parameter } \\alpha\n",
    "$$\n",
    "\n",
    "for range $(-\\alpha, \\infty)$ and order of continuity $\\begin{cases}C^1 & \\text{if } \\alpha=1\\\\C^0 & otherwise\\end{cases}$\n",
    "\n",
    "### Derivative\n",
    "\n",
    "$$\n",
    "    f^\\prime(x) = \\begin{cases}\n",
    "    \\alpha e^x & \\text{if } x < 0\\\\\n",
    "    1 & \\text{if } x \\geq 0\\\\\n",
    "    1 & \\text{if } x = 0 \\text{ and }\\alpha = 1\n",
    "    \\end{cases}\n",
    "$$"
   ]
  },
  {
   "cell_type": "code",
   "execution_count": 18,
   "id": "7c59137e-5238-40e0-b511-2f7560923b78",
   "metadata": {},
   "outputs": [],
   "source": [
    "a = 2\n",
    "y = [x if x > 0 else a * (np.exp(x) - 1) for x in X]"
   ]
  },
  {
   "cell_type": "code",
   "execution_count": 19,
   "id": "2d058e3a-e18e-48b3-a184-c107424aed03",
   "metadata": {},
   "outputs": [
    {
     "data": {
      "image/png": "[encoded data removed]",
      "text/plain": [
       "<Figure size 360x360 with 1 Axes>"
      ]
     },
     "metadata": {},
     "output_type": "display_data"
    }
   ],
   "source": [
    "cartesian_plot(X, y)"
   ]
  },
  {
   "cell_type": "markdown",
   "id": "298e65b7-7940-4982-bff4-b6a5ef7f1b9c",
   "metadata": {},
   "source": [
    "## Scaled Exponential Linear Unit (SELU)\n",
    "\n",
    "$$\n",
    "    f(x) = \\lambda\\begin{cases}\n",
    "    \\alpha(e^x -1) & \\text{if } x < 0\\\\\n",
    "    x & \\text{if } x \\geq 0\n",
    "    \\end{cases}\\\\\n",
    "$$\n",
    "\n",
    "with parameters $\\lambda = 1.0507$ and $\\alpha = 1.67326$\n",
    "\n",
    "for range $(-\\lambda\\alpha,\\infty)$ and order of continuity $C^0$\n",
    "\n",
    "### Derivative\n",
    "\n",
    "$$\n",
    "    f^\\prime(x) = \\lambda\\begin{cases}\n",
    "    \\alpha e^x & \\text{if } x < 0\\\\\n",
    "    1 & \\text{if } x \\geq 0\n",
    "    \\end{cases}\n",
    "$$"
   ]
  },
  {
   "cell_type": "code",
   "execution_count": 20,
   "id": "86b5bc45-fc02-4f71-8b30-673a971d4541",
   "metadata": {},
   "outputs": [],
   "source": [
    "l = 1.0507\n",
    "a = 1.67326\n",
    "y = [x * l if x >= 0 else l * a * (np.exp(x) - 1) for x in X]"
   ]
  },
  {
   "cell_type": "code",
   "execution_count": 21,
   "id": "c1b7970b-1f42-4689-a657-e658698bcb45",
   "metadata": {},
   "outputs": [
    {
     "data": {
      "image/png": "[encoded data removed]",
      "text/plain": [
       "<Figure size 360x360 with 1 Axes>"
      ]
     },
     "metadata": {},
     "output_type": "display_data"
    }
   ],
   "source": [
    "cartesian_plot(X, y)"
   ]
  },
  {
   "cell_type": "markdown",
   "id": "398525c2-6409-4076-9d61-49b364a17671",
   "metadata": {},
   "source": [
    "## Leaky Rectified Linear Unit (Leaky ReLU)\n",
    "\n",
    "$$\n",
    "    f(x) = \\begin{cases}\n",
    "    0.01x & \\text{if } x < 0\\\\\n",
    "    x & \\text{if } x \\geq 0\n",
    "    \\end{cases}\n",
    "$$\n",
    "\n",
    "for range $(-\\infty,\\infty)$ and order of continuity $C^0$\n",
    "\n",
    "### Derivative\n",
    "\n",
    "$$\n",
    "    f^\\prime(x) = \\begin{cases}\n",
    "    0.01 & \\text{if } x < 0\\\\\n",
    "    1 & \\text{if } x \\geq 0\n",
    "    \\end{cases}\n",
    "$$"
   ]
  },
  {
   "cell_type": "code",
   "execution_count": 22,
   "id": "052eb975-b100-47a8-96f0-194c5d8c5cdf",
   "metadata": {},
   "outputs": [],
   "source": [
    "y = [0.01 * x if x < 0 else x for x in X]"
   ]
  },
  {
   "cell_type": "code",
   "execution_count": 23,
   "id": "fef75392-df47-472d-ae2c-32a8e18467d5",
   "metadata": {},
   "outputs": [
    {
     "data": {
      "image/png": "[encoded data removed]",
      "text/plain": [
       "<Figure size 360x360 with 1 Axes>"
      ]
     },
     "metadata": {},
     "output_type": "display_data"
    }
   ],
   "source": [
    "cartesian_plot(X, y)"
   ]
  },
  {
   "cell_type": "markdown",
   "id": "0d055228-1818-4215-a1f1-a527a9efc2e1",
   "metadata": {},
   "source": [
    "## Parametric Rectified Linear Unit (PReLU)\n",
    "\n",
    "$$\n",
    "    f(x) = \\begin{cases}\n",
    "    \\alpha x & \\text{if } x < 0\\\\\n",
    "    x & \\text{if } x \\geq 0\n",
    "    \\end{cases}\\\\\n",
    "    \\text{with parameter } \\alpha\n",
    "$$\n",
    "\n",
    "for range $(-\\infty,\\infty)$ and order of continuity $C^0$\n",
    "\n",
    "### Derivative\n",
    "\n",
    "$$\n",
    "    f^\\prime(x) = \\begin{cases}\n",
    "    \\alpha & \\text{if } x < 0\\\\\n",
    "    1 & \\text{if } x \\geq 0\n",
    "    \\end{cases}\n",
    "$$"
   ]
  },
  {
   "cell_type": "code",
   "execution_count": 24,
   "id": "02157b99-a555-4341-a09f-a266ac6186f3",
   "metadata": {},
   "outputs": [],
   "source": [
    "a = 0.25\n",
    "y = [a * x if x < 0 else x for x in X]"
   ]
  },
  {
   "cell_type": "code",
   "execution_count": 25,
   "id": "027af141-d541-4d0a-a256-6238dd331c1f",
   "metadata": {},
   "outputs": [
    {
     "data": {
      "image/png": "[encoded data removed]",
      "text/plain": [
       "<Figure size 360x360 with 1 Axes>"
      ]
     },
     "metadata": {},
     "output_type": "display_data"
    }
   ],
   "source": [
    "cartesian_plot(X, y)"
   ]
  },
  {
   "cell_type": "markdown",
   "id": "bf17248b-125b-4a82-a509-0233446de50c",
   "metadata": {},
   "source": [
    "## Sigmoid Linear Unit (SiLU), Sigmoid Shrinkage, SiL, Swish-1\n",
    "\n",
    "$$\n",
    "    f(x) = \\frac{x}{1 + e^{-x}}\n",
    "$$\n",
    "\n",
    "for range $[-0.278\\ldots,\\infty)$ and order of continuity $C^\\infty$\n",
    "\n",
    "### Derivative\n",
    "\n",
    "$$\n",
    "    f^\\prime(x) = \\frac{1 = e^{-x} + xe^{-x}}{(1 + e^{-x})^2}\n",
    "$$"
   ]
  },
  {
   "cell_type": "code",
   "execution_count": 26,
   "id": "0902c34c-a2db-4e0a-b295-79cb60b3f62f",
   "metadata": {},
   "outputs": [],
   "source": [
    "y = X / (1 + np.exp(-X))"
   ]
  },
  {
   "cell_type": "code",
   "execution_count": 27,
   "id": "452d6cc3-3b3a-4728-87dc-0f87b90b4195",
   "metadata": {},
   "outputs": [
    {
     "data": {
      "image/png": "[encoded data removed]",
      "text/plain": [
       "<Figure size 360x360 with 1 Axes>"
      ]
     },
     "metadata": {},
     "output_type": "display_data"
    }
   ],
   "source": [
    "cartesian_plot(X, y)"
   ]
  },
  {
   "cell_type": "markdown",
   "id": "ba60d40b-8ef8-42ac-857c-887368d012d5",
   "metadata": {},
   "source": [
    "## Mish\n",
    "\n",
    "$$\n",
    "    f(x) = x\\tanh(\\ln(1 + e^x))\n",
    "$$\n",
    "\n",
    "for range $[-0.308\\ldots,\\infty)$ and order of continuity $C^\\infty$\n",
    "\n",
    "### Derivative\n",
    "\n",
    "$$\n",
    "    f^\\prime(x) = \\frac{(e^x(4e^{2x} + e^{3x} + 4(1 + x) + e^x(6 + 4x)))}{(2 + 2e^x + e^{2x})^2}\n",
    "$$"
   ]
  },
  {
   "cell_type": "code",
   "execution_count": 28,
   "id": "0bc5a56f-49a9-4f69-a1f3-95c54cb4759b",
   "metadata": {},
   "outputs": [],
   "source": [
    "y = X * np.tanh(np.log(1 + np.exp(X)))"
   ]
  },
  {
   "cell_type": "code",
   "execution_count": 29,
   "id": "13160834-795e-4a06-b4e9-cbdb7f4d5cb8",
   "metadata": {},
   "outputs": [
    {
     "data": {
      "image/png": "[encoded data removed]",
      "text/plain": [
       "<Figure size 360x360 with 1 Axes>"
      ]
     },
     "metadata": {},
     "output_type": "display_data"
    }
   ],
   "source": [
    "cartesian_plot(X, y)"
   ]
  },
  {
   "cell_type": "markdown",
   "id": "9955b347-87cf-4cb7-bbf6-b3efc7134d64",
   "metadata": {},
   "source": [
    "## Gaussian\n",
    "\n",
    "$$\n",
    "    f(x) = e^{-x^2}\n",
    "$$\n",
    "\n",
    "for range $(0,1]$ and order of continuity $C^\\infty$\n",
    "\n",
    "## Derivative\n",
    "\n",
    "$$\n",
    "    f^\\prime(x) = -2xe^{-x^2}\n",
    "$$"
   ]
  },
  {
   "cell_type": "code",
   "execution_count": 30,
   "id": "e15b9c33-ba57-4b66-947a-fe3ae5b65a80",
   "metadata": {},
   "outputs": [],
   "source": [
    "y = np.exp(-np.square(X))"
   ]
  },
  {
   "cell_type": "code",
   "execution_count": 31,
   "id": "b55c19ab-bffc-465a-a907-74516baab548",
   "metadata": {},
   "outputs": [
    {
     "data": {
      "image/png": "[encoded data removed]",
      "text/plain": [
       "<Figure size 360x360 with 1 Axes>"
      ]
     },
     "metadata": {},
     "output_type": "display_data"
    }
   ],
   "source": [
    "cartesian_plot(X, y)"
   ]
  }
 ],
 "metadata": {
  "kernelspec": {
   "display_name": "Python [conda env:datascience]",
   "language": "python",
   "name": "conda-env-datascience-py"
  },
  "language_info": {
   "codemirror_mode": {
    "name": "ipython",
    "version": 3
   },
   "file_extension": ".py",
   "mimetype": "text/x-python",
   "name": "python",
   "nbconvert_exporter": "python",
   "pygments_lexer": "ipython3",
   "version": "3.8.2"
  }
 },
 "nbformat": 4,
 "nbformat_minor": 5
}
