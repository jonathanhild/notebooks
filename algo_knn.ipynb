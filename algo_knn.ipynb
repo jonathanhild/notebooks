{
 "cells": [
  {
   "cell_type": "markdown",
   "metadata": {},
   "source": [
    "# K Nearest Neigbors\n",
    "\n",
    "https://machinelearningmastery.com/k-nearest-neighbors-for-machine-learning/\n",
    "\n",
    "### KNN for Regression\n",
    "\n",
    "When KNN is used for regression problems the prediction is based on the mean or the median of the K-most similar instances.\n",
    "\n",
    "### KNN for Classification\n",
    "\n",
    "When KNN is used for classification, the output can be calculated as the class with the highest frequency from the K-most similar instances. Each instance in essence votes for their class and the class with the most votes is taken as the prediction."
   ]
  },
  {
   "cell_type": "markdown",
   "metadata": {},
   "source": [
    "## Euclidean Distance\n",
    "\n",
    "KNN is calculated by Euclidean distance:\n",
    "\n",
    "$$\n",
    "    d = \\sqrt{(q_1 - p_1)^2 + (q_2 - p_2)^2 + \\cdots + (q_n + p_n)^2}\n",
    "$$\n",
    "\n",
    "where $q_1$ to $q_n$ represent the feature values for one observation and $p_1$ to $p_n$ represent the feature values for the other observation."
   ]
  },
  {
   "cell_type": "code",
   "execution_count": 1,
   "metadata": {},
   "outputs": [],
   "source": [
    "import pandas as pd\n",
    "import numpy as np\n",
    "\n",
    "from sklearn.model_selection import train_test_split\n",
    "from sklearn.neighbors import NearestNeighbors\n",
    "from sklearn.metrics import accuracy_score, classification_report"
   ]
  },
  {
   "cell_type": "code",
   "execution_count": 2,
   "metadata": {},
   "outputs": [
    {
     "data": {
      "text/html": [
       "<div>\n",
       "<style scoped>\n",
       "    .dataframe tbody tr th:only-of-type {\n",
       "        vertical-align: middle;\n",
       "    }\n",
       "\n",
       "    .dataframe tbody tr th {\n",
       "        vertical-align: top;\n",
       "    }\n",
       "\n",
       "    .dataframe thead th {\n",
       "        text-align: right;\n",
       "    }\n",
       "</style>\n",
       "<table border=\"1\" class=\"dataframe\">\n",
       "  <thead>\n",
       "    <tr style=\"text-align: right;\">\n",
       "      <th></th>\n",
       "      <th>host_response_rate</th>\n",
       "      <th>host_acceptance_rate</th>\n",
       "      <th>host_listings_count</th>\n",
       "      <th>accommodates</th>\n",
       "      <th>room_type</th>\n",
       "      <th>bedrooms</th>\n",
       "      <th>bathrooms</th>\n",
       "      <th>beds</th>\n",
       "      <th>price</th>\n",
       "      <th>cleaning_fee</th>\n",
       "      <th>security_deposit</th>\n",
       "      <th>minimum_nights</th>\n",
       "      <th>maximum_nights</th>\n",
       "      <th>number_of_reviews</th>\n",
       "      <th>latitude</th>\n",
       "      <th>longitude</th>\n",
       "      <th>city</th>\n",
       "      <th>zipcode</th>\n",
       "      <th>state</th>\n",
       "    </tr>\n",
       "  </thead>\n",
       "  <tbody>\n",
       "    <tr>\n",
       "      <th>0</th>\n",
       "      <td>92%</td>\n",
       "      <td>91%</td>\n",
       "      <td>26</td>\n",
       "      <td>4</td>\n",
       "      <td>Entire home/apt</td>\n",
       "      <td>1.0</td>\n",
       "      <td>1.0</td>\n",
       "      <td>2.0</td>\n",
       "      <td>$160.00</td>\n",
       "      <td>$115.00</td>\n",
       "      <td>$100.00</td>\n",
       "      <td>1</td>\n",
       "      <td>1125</td>\n",
       "      <td>0</td>\n",
       "      <td>38.890046</td>\n",
       "      <td>-77.002808</td>\n",
       "      <td>Washington</td>\n",
       "      <td>20003</td>\n",
       "      <td>DC</td>\n",
       "    </tr>\n",
       "    <tr>\n",
       "      <th>1</th>\n",
       "      <td>90%</td>\n",
       "      <td>100%</td>\n",
       "      <td>1</td>\n",
       "      <td>6</td>\n",
       "      <td>Entire home/apt</td>\n",
       "      <td>3.0</td>\n",
       "      <td>3.0</td>\n",
       "      <td>3.0</td>\n",
       "      <td>$350.00</td>\n",
       "      <td>$100.00</td>\n",
       "      <td>NaN</td>\n",
       "      <td>2</td>\n",
       "      <td>30</td>\n",
       "      <td>65</td>\n",
       "      <td>38.880413</td>\n",
       "      <td>-76.990485</td>\n",
       "      <td>Washington</td>\n",
       "      <td>20003</td>\n",
       "      <td>DC</td>\n",
       "    </tr>\n",
       "    <tr>\n",
       "      <th>2</th>\n",
       "      <td>90%</td>\n",
       "      <td>100%</td>\n",
       "      <td>2</td>\n",
       "      <td>1</td>\n",
       "      <td>Private room</td>\n",
       "      <td>1.0</td>\n",
       "      <td>2.0</td>\n",
       "      <td>1.0</td>\n",
       "      <td>$50.00</td>\n",
       "      <td>NaN</td>\n",
       "      <td>NaN</td>\n",
       "      <td>2</td>\n",
       "      <td>1125</td>\n",
       "      <td>1</td>\n",
       "      <td>38.955291</td>\n",
       "      <td>-76.986006</td>\n",
       "      <td>Hyattsville</td>\n",
       "      <td>20782</td>\n",
       "      <td>MD</td>\n",
       "    </tr>\n",
       "    <tr>\n",
       "      <th>3</th>\n",
       "      <td>100%</td>\n",
       "      <td>NaN</td>\n",
       "      <td>1</td>\n",
       "      <td>2</td>\n",
       "      <td>Private room</td>\n",
       "      <td>1.0</td>\n",
       "      <td>1.0</td>\n",
       "      <td>1.0</td>\n",
       "      <td>$95.00</td>\n",
       "      <td>NaN</td>\n",
       "      <td>NaN</td>\n",
       "      <td>1</td>\n",
       "      <td>1125</td>\n",
       "      <td>0</td>\n",
       "      <td>38.872134</td>\n",
       "      <td>-77.019639</td>\n",
       "      <td>Washington</td>\n",
       "      <td>20024</td>\n",
       "      <td>DC</td>\n",
       "    </tr>\n",
       "    <tr>\n",
       "      <th>4</th>\n",
       "      <td>92%</td>\n",
       "      <td>67%</td>\n",
       "      <td>1</td>\n",
       "      <td>4</td>\n",
       "      <td>Entire home/apt</td>\n",
       "      <td>1.0</td>\n",
       "      <td>1.0</td>\n",
       "      <td>1.0</td>\n",
       "      <td>$50.00</td>\n",
       "      <td>$15.00</td>\n",
       "      <td>$450.00</td>\n",
       "      <td>7</td>\n",
       "      <td>1125</td>\n",
       "      <td>0</td>\n",
       "      <td>38.996382</td>\n",
       "      <td>-77.041541</td>\n",
       "      <td>Silver Spring</td>\n",
       "      <td>20910</td>\n",
       "      <td>MD</td>\n",
       "    </tr>\n",
       "  </tbody>\n",
       "</table>\n",
       "</div>"
      ],
      "text/plain": [
       "  host_response_rate host_acceptance_rate  host_listings_count  accommodates  \\\n",
       "0                92%                  91%                   26             4   \n",
       "1                90%                 100%                    1             6   \n",
       "2                90%                 100%                    2             1   \n",
       "3               100%                  NaN                    1             2   \n",
       "4                92%                  67%                    1             4   \n",
       "\n",
       "         room_type  bedrooms  bathrooms  beds    price cleaning_fee  \\\n",
       "0  Entire home/apt       1.0        1.0   2.0  $160.00      $115.00   \n",
       "1  Entire home/apt       3.0        3.0   3.0  $350.00      $100.00   \n",
       "2     Private room       1.0        2.0   1.0   $50.00          NaN   \n",
       "3     Private room       1.0        1.0   1.0   $95.00          NaN   \n",
       "4  Entire home/apt       1.0        1.0   1.0   $50.00       $15.00   \n",
       "\n",
       "  security_deposit  minimum_nights  maximum_nights  number_of_reviews  \\\n",
       "0          $100.00               1            1125                  0   \n",
       "1              NaN               2              30                 65   \n",
       "2              NaN               2            1125                  1   \n",
       "3              NaN               1            1125                  0   \n",
       "4          $450.00               7            1125                  0   \n",
       "\n",
       "    latitude  longitude           city zipcode state  \n",
       "0  38.890046 -77.002808     Washington   20003    DC  \n",
       "1  38.880413 -76.990485     Washington   20003    DC  \n",
       "2  38.955291 -76.986006    Hyattsville   20782    MD  \n",
       "3  38.872134 -77.019639     Washington   20024    DC  \n",
       "4  38.996382 -77.041541  Silver Spring   20910    MD  "
      ]
     },
     "execution_count": 2,
     "metadata": {},
     "output_type": "execute_result"
    }
   ],
   "source": [
    "listings = pd.read_csv('./data/dc_airbnb.csv')\n",
    "listings.head()"
   ]
  },
  {
   "cell_type": "code",
   "execution_count": 3,
   "metadata": {},
   "outputs": [
    {
     "data": {
      "text/plain": [
       "host_response_rate       object\n",
       "host_acceptance_rate     object\n",
       "host_listings_count       int64\n",
       "accommodates              int64\n",
       "room_type                object\n",
       "bedrooms                float64\n",
       "bathrooms               float64\n",
       "beds                    float64\n",
       "price                    object\n",
       "cleaning_fee             object\n",
       "security_deposit         object\n",
       "minimum_nights            int64\n",
       "maximum_nights            int64\n",
       "number_of_reviews         int64\n",
       "latitude                float64\n",
       "longitude               float64\n",
       "city                     object\n",
       "zipcode                  object\n",
       "state                    object\n",
       "dtype: object"
      ]
     },
     "execution_count": 3,
     "metadata": {},
     "output_type": "execute_result"
    }
   ],
   "source": [
    "listings.dtypes"
   ]
  },
  {
   "cell_type": "code",
   "execution_count": 4,
   "metadata": {},
   "outputs": [
    {
     "data": {
      "text/plain": [
       "host_response_rate       434\n",
       "host_acceptance_rate     614\n",
       "host_listings_count        0\n",
       "accommodates               0\n",
       "room_type                  0\n",
       "bedrooms                  21\n",
       "bathrooms                 27\n",
       "beds                      11\n",
       "price                      0\n",
       "cleaning_fee            1388\n",
       "security_deposit        2297\n",
       "minimum_nights             0\n",
       "maximum_nights             0\n",
       "number_of_reviews          0\n",
       "latitude                   0\n",
       "longitude                  0\n",
       "city                       0\n",
       "zipcode                    9\n",
       "state                      0\n",
       "dtype: int64"
      ]
     },
     "execution_count": 4,
     "metadata": {},
     "output_type": "execute_result"
    }
   ],
   "source": [
    "listings.isna().sum()"
   ]
  },
  {
   "cell_type": "code",
   "execution_count": 5,
   "metadata": {},
   "outputs": [],
   "source": [
    "listings['price'] = listings['price'].str.replace('[,$]', '').astype('float')"
   ]
  },
  {
   "cell_type": "code",
   "execution_count": 8,
   "metadata": {},
   "outputs": [],
   "source": [
    "listings.loc[listings['bedrooms'].isna(), 'bedrooms'] = listings['bedrooms'].mean()"
   ]
  },
  {
   "cell_type": "code",
   "execution_count": 9,
   "metadata": {},
   "outputs": [],
   "source": [
    "listings.loc[listings['bathrooms'].isna(), 'bathrooms'] = listings['bathrooms'].mean()"
   ]
  },
  {
   "cell_type": "code",
   "execution_count": 10,
   "metadata": {},
   "outputs": [],
   "source": [
    "listings.loc[listings['beds'].isna(), 'beds'] = listings['beds'].mean()"
   ]
  },
  {
   "cell_type": "code",
   "execution_count": 11,
   "metadata": {},
   "outputs": [],
   "source": [
    "X = listings[['accommodates', 'bedrooms', 'bathrooms', 'beds']]\n",
    "y = listings['price']"
   ]
  },
  {
   "cell_type": "code",
   "execution_count": 12,
   "metadata": {},
   "outputs": [
    {
     "data": {
      "text/html": [
       "<div>\n",
       "<style scoped>\n",
       "    .dataframe tbody tr th:only-of-type {\n",
       "        vertical-align: middle;\n",
       "    }\n",
       "\n",
       "    .dataframe tbody tr th {\n",
       "        vertical-align: top;\n",
       "    }\n",
       "\n",
       "    .dataframe thead th {\n",
       "        text-align: right;\n",
       "    }\n",
       "</style>\n",
       "<table border=\"1\" class=\"dataframe\">\n",
       "  <thead>\n",
       "    <tr style=\"text-align: right;\">\n",
       "      <th></th>\n",
       "      <th>accommodates</th>\n",
       "      <th>bedrooms</th>\n",
       "      <th>bathrooms</th>\n",
       "      <th>beds</th>\n",
       "    </tr>\n",
       "  </thead>\n",
       "  <tbody>\n",
       "    <tr>\n",
       "      <th>0</th>\n",
       "      <td>4</td>\n",
       "      <td>1.0</td>\n",
       "      <td>1.0</td>\n",
       "      <td>2.0</td>\n",
       "    </tr>\n",
       "    <tr>\n",
       "      <th>1</th>\n",
       "      <td>6</td>\n",
       "      <td>3.0</td>\n",
       "      <td>3.0</td>\n",
       "      <td>3.0</td>\n",
       "    </tr>\n",
       "    <tr>\n",
       "      <th>2</th>\n",
       "      <td>1</td>\n",
       "      <td>1.0</td>\n",
       "      <td>2.0</td>\n",
       "      <td>1.0</td>\n",
       "    </tr>\n",
       "    <tr>\n",
       "      <th>3</th>\n",
       "      <td>2</td>\n",
       "      <td>1.0</td>\n",
       "      <td>1.0</td>\n",
       "      <td>1.0</td>\n",
       "    </tr>\n",
       "    <tr>\n",
       "      <th>4</th>\n",
       "      <td>4</td>\n",
       "      <td>1.0</td>\n",
       "      <td>1.0</td>\n",
       "      <td>1.0</td>\n",
       "    </tr>\n",
       "  </tbody>\n",
       "</table>\n",
       "</div>"
      ],
      "text/plain": [
       "   accommodates  bedrooms  bathrooms  beds\n",
       "0             4       1.0        1.0   2.0\n",
       "1             6       3.0        3.0   3.0\n",
       "2             1       1.0        2.0   1.0\n",
       "3             2       1.0        1.0   1.0\n",
       "4             4       1.0        1.0   1.0"
      ]
     },
     "execution_count": 12,
     "metadata": {},
     "output_type": "execute_result"
    }
   ],
   "source": [
    "X.head()"
   ]
  },
  {
   "cell_type": "code",
   "execution_count": 13,
   "metadata": {},
   "outputs": [
    {
     "data": {
      "text/plain": [
       "0    160.0\n",
       "1    350.0\n",
       "2     50.0\n",
       "3     95.0\n",
       "4     50.0\n",
       "Name: price, dtype: float64"
      ]
     },
     "execution_count": 13,
     "metadata": {},
     "output_type": "execute_result"
    }
   ],
   "source": [
    "y.head()"
   ]
  },
  {
   "cell_type": "markdown",
   "metadata": {},
   "source": [
    "## KNN with Scikit Learn"
   ]
  },
  {
   "cell_type": "code",
   "execution_count": 14,
   "metadata": {},
   "outputs": [],
   "source": [
    "X_train, X_test, y_train, y_test = train_test_split(X, y, test_size=0.2, random_state=42)"
   ]
  },
  {
   "cell_type": "code",
   "execution_count": 16,
   "metadata": {},
   "outputs": [],
   "source": [
    "nn = NearestNeighbors(n_neighbors=5).fit(X_train)"
   ]
  },
  {
   "cell_type": "code",
   "execution_count": 17,
   "metadata": {},
   "outputs": [],
   "source": [
    "distances, indices = nn.kneighbors(X_train)"
   ]
  },
  {
   "cell_type": "code",
   "execution_count": 18,
   "metadata": {},
   "outputs": [
    {
     "data": {
      "text/plain": [
       "array([[0., 0., 0., 0., 0.],\n",
       "       [0., 0., 0., 0., 0.],\n",
       "       [0., 0., 0., 0., 0.],\n",
       "       ...,\n",
       "       [0., 0., 0., 0., 0.],\n",
       "       [0., 0., 0., 0., 0.],\n",
       "       [0., 0., 0., 0., 0.]])"
      ]
     },
     "execution_count": 18,
     "metadata": {},
     "output_type": "execute_result"
    }
   ],
   "source": [
    "distances"
   ]
  },
  {
   "cell_type": "code",
   "execution_count": 19,
   "metadata": {},
   "outputs": [
    {
     "data": {
      "text/plain": [
       "array([[1049, 1646, 1050, 2191, 1055],\n",
       "       [2238,  640, 1544,  395, 2183],\n",
       "       [2977,  335,  334, 1529,  332],\n",
       "       ...,\n",
       "       [ 525, 1353, 1153,  343,  852],\n",
       "       [2977,  335,  334, 1529,  332],\n",
       "       [2977,  335,  334, 1529,  332]])"
      ]
     },
     "execution_count": 19,
     "metadata": {},
     "output_type": "execute_result"
    }
   ],
   "source": [
    "indices"
   ]
  },
  {
   "cell_type": "code",
   "execution_count": null,
   "metadata": {},
   "outputs": [],
   "source": []
  }
 ],
 "metadata": {
  "kernelspec": {
   "display_name": "Python [conda env:datascience]",
   "language": "python",
   "name": "conda-env-datascience-py"
  },
  "language_info": {
   "codemirror_mode": {
    "name": "ipython",
    "version": 3
   },
   "file_extension": ".py",
   "mimetype": "text/x-python",
   "name": "python",
   "nbconvert_exporter": "python",
   "pygments_lexer": "ipython3",
   "version": "3.8.5"
  }
 },
 "nbformat": 4,
 "nbformat_minor": 4
}
