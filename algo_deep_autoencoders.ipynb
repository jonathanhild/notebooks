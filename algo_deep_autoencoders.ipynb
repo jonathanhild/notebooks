{
 "cells": [
  {
   "cell_type": "markdown",
   "source": [
    "# Autoencoders\n",
    "\n",
    "## Advantages\n",
    "\n",
    "## Disadvantages\n",
    "\n",
    "## References\n",
    "\n",
    "## The Model\n",
    "\n",
    "### Encoders\n",
    "\n",
    "### Decoders\n",
    "\n",
    "### Variational Autoencoders"
   ],
   "metadata": {}
  },
  {
   "cell_type": "markdown",
   "source": [],
   "metadata": {}
  }
 ],
 "metadata": {
  "orig_nbformat": 4,
  "language_info": {
   "name": "python"
  }
 },
 "nbformat": 4,
 "nbformat_minor": 2
}