{
 "cells": [
  {
   "cell_type": "markdown",
   "id": "5cfa7fb8-cc9a-4446-bc91-a0ea38bf5575",
   "metadata": {},
   "source": [
    "# Gradient Boost Trees"
   ]
  },
  {
   "cell_type": "code",
   "execution_count": null,
   "id": "97ef1e02-255e-4aea-b9fb-728ad62db823",
   "metadata": {},
   "outputs": [],
   "source": []
  }
 ],
 "metadata": {
  "kernelspec": {
   "display_name": "Python [conda env:datascience]",
   "language": "python",
   "name": "conda-env-datascience-py"
  },
  "language_info": {
   "codemirror_mode": {
    "name": "ipython",
    "version": 3
   },
   "file_extension": ".py",
   "mimetype": "text/x-python",
   "name": "python",
   "nbconvert_exporter": "python",
   "pygments_lexer": "ipython3",
   "version": "3.8.2"
  }
 },
 "nbformat": 4,
 "nbformat_minor": 5
}
