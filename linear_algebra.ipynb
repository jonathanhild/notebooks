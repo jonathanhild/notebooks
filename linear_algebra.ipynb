{
 "cells": [
  {
   "cell_type": "markdown",
   "metadata": {},
   "source": [
    "# Linear Algebra"
   ]
  },
  {
   "cell_type": "code",
   "execution_count": 1,
   "metadata": {},
   "outputs": [],
   "source": [
    "import numpy as np"
   ]
  },
  {
   "cell_type": "markdown",
   "metadata": {},
   "source": [
    "## Implication and equivalence\n",
    "\n",
    "A *proposition* is a declarative sentence that is either true or false, like \"one plus one equals two\" is true.\n",
    "\n",
    "An *implication* is a situation where a proposition is true but the converse may not necessarily be true. For example, \"if P then Q\" does not imply \"if Q then P. We say \"P entails Q\" but not \"Q entails P\".\n",
    "\n",
    "Notation is:\n",
    "\n",
    "$$\n",
    "    P \\Rightarrow Q\\\\\n",
    "    Q \\not\\Rightarrow P\n",
    "$$\n",
    "\n",
    "A statement is *equivalent* if both \"P then Q\" and \"Q then P\" are true.\n",
    "\n",
    "$$\n",
    "    P \\Rightarrow Q\\\\\n",
    "    Q \\Rightarrow P\\\\\n",
    "    or\\\\\n",
    "    P \\Leftrightarrow Q\n",
    "$$"
   ]
  },
  {
   "cell_type": "markdown",
   "metadata": {},
   "source": [
    "## Set theory\n",
    "\n",
    "A *set* is a collection of elements. The set consisting of all even numbers between 1 and 10 is:\n",
    "\n",
    "$$\n",
    "    X = \\{2, 4, 6, 8, 10\\}\n",
    "$$\n",
    "\n",
    "Which can also be written as:\n",
    "\n",
    "$$\n",
    "    X = \\{2n|n = 1, 2, 3, 4, 5\\}\n",
    "$$\n",
    "\n",
    "Expressing \"element $x$ belongs to the set $X$\":\n",
    "\n",
    "$$\n",
    "    x \\in X\n",
    "$$\n",
    "\n",
    "Where $Y = \\{2, 4, 6\\}$ is a *subset* of $X$ and can be expressed as:\n",
    "\n",
    "$$\n",
    "    Y \\subset X\n",
    "$$"
   ]
  },
  {
   "cell_type": "markdown",
   "metadata": {},
   "source": [
    "## Range and codomain\n",
    "\n",
    "The set that encompasses the function f ’s image $\\{f(x_1), f(x_2), \\ldots, f(x_n)\\}$ is called the *range* of $f$, and the (possibly larger) set being mapped into is called its *co-romain*.\n",
    "\n",
    "The relationship between the range and the co-domain $Y$ is as follows:\n",
    "\n",
    "$$\n",
    "    \\{f(x_1), f(x_2), \\ldots, f(x_n)\\} \\subset Y\n",
    "$$\n",
    "In other words, a function’s range is a subset of its co-domain. In the special case where all elements in $Y$ are an image of some element in $X$, we have:\n",
    "\n",
    "$$\n",
    "    \\{f(x_1), f(x_2), \\ldots, f(x_n)\\} = Y\n",
    "$$"
   ]
  },
  {
   "cell_type": "markdown",
   "metadata": {},
   "source": [
    "## Linear transformation\n",
    "\n",
    "Let $x_i$ and $x_j$ be two arbitrary elements of the set $X$, $c$ be any real number, and\n",
    "$f$ be a function from $X$ to $Y$. $f$ is called a *linear transformation* from $X$ to $Y if it\n",
    "satisfies the following two conditions:\n",
    "\n",
    "$$\n",
    "    f(x_i)+ f(x_j = f(x_i+ x_j)\\\\\n",
    "    cf(x_i) = f(cx_i)\n",
    "$$"
   ]
  },
  {
   "cell_type": "markdown",
   "metadata": {},
   "source": [
    "## Matrices\n",
    "\n",
    "A *matrix* is a collection of numbers arranged in $m$ rows and $n$ columns.\n",
    "\n",
    "$$\n",
    "    X = \n",
    "    \\left(\n",
    "    \\begin{matrix}\n",
    "    a_{1,1} & a_{1,2} & \\cdots & a_{1,n}\\\\\n",
    "    a_{2,1} & a_{2,1} & \\cdots & a_{2,n}\\\\\n",
    "    \\vdots & \\vdots & \\ddots & \\vdots\\\\\n",
    "    a_{m,1} & a_{m,1} & \\cdots & a_{m,n}\\\\\n",
    "    \\end{matrix}\n",
    "    \\right)\n",
    "$$\n",
    "\n",
    "Where individual elements can be expressed as $X(2,1)$ is $a_{2,1}$.\n",
    "\n",
    "A matrix where $m = n$ is a *square matrix*."
   ]
  },
  {
   "cell_type": "code",
   "execution_count": 2,
   "metadata": {},
   "outputs": [
    {
     "data": {
      "text/plain": [
       "array([[1, 2, 3],\n",
       "       [4, 5, 6],\n",
       "       [7, 8, 9]])"
      ]
     },
     "execution_count": 2,
     "metadata": {},
     "output_type": "execute_result"
    }
   ],
   "source": [
    "matrix = np.array([[1,2,3],[4,5,6],[7,8,9]])\n",
    "matrix"
   ]
  },
  {
   "cell_type": "markdown",
   "metadata": {},
   "source": [
    "### Linear system\n",
    "\n",
    "Instead of writing:\n",
    "\n",
    "$$\n",
    "    \\begin{cases}\n",
    "    1x_1 + 2x_2 = -1\\\\\n",
    "    3x_1 + 2x_2 = 0\\\\\n",
    "    5x_1 + 6x_2 = 5\n",
    "    \\end{cases}\n",
    "$$\n",
    "\n",
    "It can be written using matrices:\n",
    "\n",
    "$$\n",
    "    \\left(\\begin{matrix}\n",
    "    1 & 2\\\\\n",
    "    3 & 4\\\\\n",
    "    5 & 6\\\\\n",
    "    \\end{matrix}\\right)    \n",
    "    \\left(\\begin{matrix}\n",
    "    x_1\\\\\n",
    "    x_2\\\\\n",
    "    \\end{matrix}\\right)\n",
    "    =\n",
    "    \\left(\\begin{matrix}\n",
    "    -1\\\\\n",
    "    0\\\\\n",
    "    5\\\\\n",
    "    \\end{matrix}\\right)\n",
    "$$"
   ]
  },
  {
   "cell_type": "markdown",
   "metadata": {},
   "source": [
    "### Matrix calculation\n",
    "\n",
    "#### Addition\n",
    "\n",
    "$$\n",
    "    \\left(\\begin{matrix}\n",
    "    1 & 2\\\\\n",
    "    3 & 4\\\\\n",
    "    5 & 6\\\\\n",
    "    \\end{matrix}\\right)\n",
    "    +\n",
    "    \\left(\\begin{matrix}\n",
    "    6 & 5\\\\\n",
    "    4 & 3\\\\\n",
    "    2 & 1\\\\\n",
    "    \\end{matrix}\\right)\n",
    "    =\n",
    "    \\left(\\begin{matrix}\n",
    "    7 & 7\\\\\n",
    "    7 & 7\\\\\n",
    "    7 & 7\\\\\n",
    "    \\end{matrix}\\right)\n",
    "$$"
   ]
  },
  {
   "cell_type": "code",
   "execution_count": 3,
   "metadata": {},
   "outputs": [
    {
     "data": {
      "text/plain": [
       "array([[7, 7],\n",
       "       [7, 7],\n",
       "       [7, 7]])"
      ]
     },
     "execution_count": 3,
     "metadata": {},
     "output_type": "execute_result"
    }
   ],
   "source": [
    "a = np.array([[1,2],[3,4],[5,6]])\n",
    "b = np.array([[6,5],[4,3],[2,1]])\n",
    "\n",
    "np.add(a, b)"
   ]
  },
  {
   "cell_type": "markdown",
   "metadata": {},
   "source": []
  },
  {
   "cell_type": "markdown",
   "metadata": {},
   "source": [
    "#### Subtraction\n",
    "\n",
    "$$\n",
    "    \\left(\\begin{matrix}\n",
    "    1 & 2\\\\\n",
    "    3 & 4\\\\\n",
    "    5 & 6\\\\\n",
    "    \\end{matrix}\\right)\n",
    "    -\n",
    "    \\left(\\begin{matrix}\n",
    "    6 & 5\\\\\n",
    "    4 & 3\\\\\n",
    "    2 & 1\\\\\n",
    "    \\end{matrix}\\right)\n",
    "    =\n",
    "    \\left(\\begin{matrix}\n",
    "    -5 & -3\\\\\n",
    "    -1 & 1\\\\\n",
    "    3 & 5\\\\\n",
    "    \\end{matrix}\\right)\n",
    "$$"
   ]
  },
  {
   "cell_type": "code",
   "execution_count": 4,
   "metadata": {},
   "outputs": [
    {
     "data": {
      "text/plain": [
       "array([[-5, -3],\n",
       "       [-1,  1],\n",
       "       [ 3,  5]])"
      ]
     },
     "execution_count": 4,
     "metadata": {},
     "output_type": "execute_result"
    }
   ],
   "source": [
    "np.subtract(a, b)"
   ]
  },
  {
   "cell_type": "markdown",
   "metadata": {},
   "source": [
    "#### Scalar multiplication\n",
    "\n",
    "$$\n",
    "    \\left(\\begin{matrix}\n",
    "    1 & 2\\\\\n",
    "    3 & 4\\\\\n",
    "    5 & 6\\\\\n",
    "    \\end{matrix}\\right)\n",
    "    \\times 10\n",
    "    =\n",
    "    \\left(\\begin{matrix}\n",
    "    10 & 20\\\\\n",
    "    30 & 40\\\\\n",
    "    50 & 60\\\\\n",
    "    \\end{matrix}\\right)\n",
    "$$"
   ]
  },
  {
   "cell_type": "code",
   "execution_count": 5,
   "metadata": {},
   "outputs": [
    {
     "data": {
      "text/plain": [
       "array([[10, 20],\n",
       "       [30, 40],\n",
       "       [50, 60]])"
      ]
     },
     "execution_count": 5,
     "metadata": {},
     "output_type": "execute_result"
    }
   ],
   "source": [
    "a * 10"
   ]
  },
  {
   "cell_type": "markdown",
   "metadata": {},
   "source": [
    "#### Matrix multiplication\n",
    "\n",
    "$$\n",
    "    \\left(\\begin{matrix}\n",
    "    1 & 2\\\\\n",
    "    3 & 4\\\\\n",
    "    \\end{matrix}\\right)\n",
    "    \\left(\\begin{matrix}\n",
    "    1 & 2\\\\\n",
    "    3 & 4\\\\\n",
    "    \\end{matrix}\\right)\n",
    "    =\n",
    "    \\left(\\begin{matrix}\n",
    "    7 & 10\\\\\n",
    "    15 & 22\\\\\n",
    "    \\end{matrix}\\right)\n",
    "$$\n",
    "\n",
    "Matrices can be multiplied only if the number of columns in the left factor matches the number of rows in the right factor."
   ]
  },
  {
   "cell_type": "code",
   "execution_count": 6,
   "metadata": {},
   "outputs": [
    {
     "data": {
      "text/plain": [
       "array([[ 7, 10],\n",
       "       [15, 22]])"
      ]
     },
     "execution_count": 6,
     "metadata": {},
     "output_type": "execute_result"
    }
   ],
   "source": [
    "c = np.array([[1,2],[3,4]])\n",
    "np.matmul(c, c)"
   ]
  },
  {
   "cell_type": "markdown",
   "metadata": {},
   "source": [
    "#### Matrix exponentiation\n",
    "\n",
    "$$\n",
    "    \\left(\\begin{matrix}\n",
    "    1 & 2\\\\\n",
    "    3 & 4\\\\\n",
    "    \\end{matrix}\\right)^3\n",
    "    =\n",
    "    \\left(\\begin{matrix}\n",
    "    1 & 2\\\\\n",
    "    3 & 4\\\\\n",
    "    \\end{matrix}\\right)\n",
    "    \\left(\\begin{matrix}\n",
    "    1 & 2\\\\\n",
    "    3 & 4\\\\\n",
    "    \\end{matrix}\\right)\n",
    "    \\left(\\begin{matrix}\n",
    "    1 & 2\\\\\n",
    "    3 & 4\\\\\n",
    "    \\end{matrix}\\right)\n",
    "    =\n",
    "    \\left(\\begin{matrix}\n",
    "    37 & 54\\\\\n",
    "    81 & 118\\\\\n",
    "    \\end{matrix}\\right)\n",
    "$$"
   ]
  },
  {
   "cell_type": "code",
   "execution_count": 7,
   "metadata": {},
   "outputs": [
    {
     "data": {
      "text/plain": [
       "array([[ 37,  54],\n",
       "       [ 81, 118]])"
      ]
     },
     "execution_count": 7,
     "metadata": {},
     "output_type": "execute_result"
    }
   ],
   "source": [
    "np.linalg.matrix_power(c, 3)"
   ]
  },
  {
   "cell_type": "markdown",
   "metadata": {},
   "source": [
    "### Special matrices\n",
    "\n",
    "#### Zero matrix\n",
    "\n",
    "A zero matrix is where all elements equal zero:\n",
    "\n",
    "$$\n",
    "    \\left(\\begin{matrix}\n",
    "    0 & 0\\\\\n",
    "    0 & 0\\\\\n",
    "    \\end{matrix}\\right)\n",
    "$$"
   ]
  },
  {
   "cell_type": "code",
   "execution_count": 8,
   "metadata": {},
   "outputs": [
    {
     "data": {
      "text/plain": [
       "array([[0., 0.],\n",
       "       [0., 0.]])"
      ]
     },
     "execution_count": 8,
     "metadata": {},
     "output_type": "execute_result"
    }
   ],
   "source": [
    "np.zeros((2,2))"
   ]
  },
  {
   "cell_type": "markdown",
   "metadata": {},
   "source": [
    "#### Transpose matrix\n",
    "\n",
    "A transpose of a matrix is where the rows and columns of a matrix are switched.\n",
    "\n",
    "$$\n",
    "    \\left(\\begin{matrix}\n",
    "    1 & 2\\\\\n",
    "    3 & 4\\\\\n",
    "    5 & 5\\\\\n",
    "    \\end{matrix}\\right)^T\n",
    "    =\n",
    "    \\left(\\begin{matrix}\n",
    "    1 & 2 & 3\\\\\n",
    "    4 & 5 & 6\\\\\n",
    "    \\end{matrix}\\right)\n",
    "$$"
   ]
  },
  {
   "cell_type": "code",
   "execution_count": 9,
   "metadata": {},
   "outputs": [
    {
     "data": {
      "text/plain": [
       "array([[1, 3, 5],\n",
       "       [2, 4, 6]])"
      ]
     },
     "execution_count": 9,
     "metadata": {},
     "output_type": "execute_result"
    }
   ],
   "source": [
    "a.T"
   ]
  },
  {
   "cell_type": "markdown",
   "metadata": {},
   "source": [
    "#### Symmetric matrix\n",
    "\n",
    "A symmetric matrix is a square matrix where elements are equal symmetrically to the main diagonal.\n",
    "\n",
    "$$\n",
    "    \\left(\\begin{matrix}\n",
    "    1 & 5 & 6 & 7\\\\\n",
    "    5 & 2 & 8 & 9\\\\\n",
    "    6 & 8 & 3 & 10\\\\\n",
    "    7 & 9 & 10 & 4\\\\\n",
    "    \\end{matrix}\\right)\n",
    "$$\n",
    "\n",
    "A symmetrical matrix is always equal to its transpose.\n",
    "\n",
    "$$\n",
    "    X^T = X\n",
    "$$"
   ]
  },
  {
   "cell_type": "markdown",
   "metadata": {},
   "source": [
    "#### Upper and lower triangular matrices\n",
    "\n",
    "Triangular matrices are square matrices in which the elements either above or below the main diagonal are all equal to zero.\n",
    "\n",
    "$$\n",
    "    \\left(\\begin{matrix}\n",
    "    1 & 5 & 6 & 7\\\\\n",
    "    0 & 2 & 8 & 9\\\\\n",
    "    0 & 0 & 3 & 10\\\\\n",
    "    0 & 0 & 0 & 4\\\\\n",
    "    \\end{matrix}\\right)\n",
    "$$\n",
    "\n",
    "$$\n",
    "    \\left(\\begin{matrix}\n",
    "    1 & 0 & 0 & 0\\\\\n",
    "    5 & 2 & 0 & 0\\\\\n",
    "    6 & 8 & 3 & 0\\\\\n",
    "    7 & 9 & 10 & 4\\\\\n",
    "    \\end{matrix}\\right)\n",
    "$$"
   ]
  },
  {
   "cell_type": "markdown",
   "metadata": {},
   "source": [
    "#### Diagonal matrices\n",
    "\n",
    "Diagonal matrices are square matrices in which the elements not part of the main diagonal are all equal to zero.\n",
    "\n",
    "$$\n",
    "    \\left(\\begin{matrix}\n",
    "    1 & 0 & 0 & 0\\\\\n",
    "    0 & 2 & 0 & 0\\\\\n",
    "    0 & 0 & 3 & 0\\\\\n",
    "    0 & 0 & 0 & 4\\\\\n",
    "    \\end{matrix}\\right)\n",
    "$$"
   ]
  },
  {
   "cell_type": "markdown",
   "metadata": {},
   "source": [
    "#### Identity matrices\n",
    "\n",
    "An identity matrix with $n$ rows where the main diagonal is equal to ones and all other elements are zero.\n",
    "\n",
    "$$\n",
    "    \\left(\\begin{matrix}\n",
    "    1 & 0 & 0 & 0\\\\\n",
    "    0 & 1 & 0 & 0\\\\\n",
    "    0 & 0 & 1 & 0\\\\\n",
    "    0 & 0 & 0 & 1\\\\\n",
    "    \\end{matrix}\\right)\n",
    "$$\n",
    "\n",
    "Multiplying with an identity matrix yields a product equal to the other factor.\n",
    "\n",
    "$$\n",
    "    \\left(\\begin{matrix}\n",
    "    1 & 2\\\\\n",
    "    3 & 4\\\\\n",
    "    5 & 6\\\\\n",
    "    \\end{matrix}\\right)\n",
    "    \\left(\\begin{matrix}\n",
    "    1 & 0\\\\\n",
    "    0 & 1\\\\\n",
    "    \\end{matrix}\\right)\n",
    "    =\n",
    "    \\left(\\begin{matrix}\n",
    "    1 & 2\\\\\n",
    "    3 & 4\\\\\n",
    "    5 & 6\\\\\n",
    "    \\end{matrix}\\right)\n",
    "$$"
   ]
  },
  {
   "cell_type": "code",
   "execution_count": 10,
   "metadata": {},
   "outputs": [
    {
     "data": {
      "text/plain": [
       "array([[1, 2],\n",
       "       [3, 4],\n",
       "       [5, 6]])"
      ]
     },
     "execution_count": 10,
     "metadata": {},
     "output_type": "execute_result"
    }
   ],
   "source": [
    "d = np.array([[1,0],[0,1]])\n",
    "np.matmul(a, d)"
   ]
  },
  {
   "cell_type": "markdown",
   "metadata": {},
   "source": [
    "### Inverse matrices\n",
    "\n",
    "If the product of two square matrices is an identity matrix, then the two factor matrices are *inverses* of each other.\n",
    "\n",
    "$$\n",
    "    \\left(\\begin{matrix}\n",
    "    1 & 2\\\\\n",
    "    3 & 4\\\\\n",
    "    \\end{matrix}\\right)\n",
    "    \\left(\\begin{matrix}\n",
    "    x_{1,1} & x_{1,2}\\\\\n",
    "    x_{2,1} & x_{2,2}\\\\\n",
    "    \\end{matrix}\\right)\n",
    "    =\n",
    "    \\left(\\begin{matrix}\n",
    "    1 & 0\\\\\n",
    "    0 & 1\\\\\n",
    "    \\end{matrix}\\right)\n",
    "$$\n",
    "\n",
    "#### Calculating an inverse matrix by *Gaussian elimination*\n",
    "\n",
    "To solve the following linear system:\n",
    "\n",
    "$$\n",
    "    \\begin{cases}\n",
    "    3x_1 + 1x_2 = 1\\\\\n",
    "    1x_1 + 2x_2 = 0\n",
    "    \\end{cases}\n",
    "$$\n",
    "\n",
    "The common method expressed with matrices:\n",
    "\n",
    "Start by multiplying the top by 2.\n",
    "\n",
    "$$\n",
    "    \\left(\\begin{matrix}\n",
    "    3 & 1\\\\\n",
    "    1 & 2\\\\\n",
    "    \\end{matrix}\\right)\n",
    "    \\left(\\begin{matrix}\n",
    "    x_{1,1} & x_{1,2}\\\\\n",
    "    x_{2,1} & x_{2,2}\\\\\n",
    "    \\end{matrix}\\right)\n",
    "    =\n",
    "    \\left(\\begin{matrix}\n",
    "    1 & 0\\\\\n",
    "    0 & 1\\\\\n",
    "    \\end{matrix}\\right)\n",
    "$$\n",
    "\n",
    "Subtract the bottom equation from the top equation.\n",
    "\n",
    "$$\n",
    "    \\left(\\begin{matrix}\n",
    "    6 & 2\\\\\n",
    "    1 & 2\\\\\n",
    "    \\end{matrix}\\right)\n",
    "    \\left(\\begin{matrix}\n",
    "    x_{1,1} & x_{1,2}\\\\\n",
    "    x_{2,1} & x_{2,2}\\\\\n",
    "    \\end{matrix}\\right)\n",
    "    =\n",
    "    \\left(\\begin{matrix}\n",
    "    2 & 0\\\\\n",
    "    0 & 1\\\\\n",
    "    \\end{matrix}\\right)\n",
    "$$\n",
    "\n",
    "Multiply the bottom equation by 5.\n",
    "\n",
    "$$\n",
    "    \\left(\\begin{matrix}\n",
    "    5 & 0\\\\\n",
    "    1 & 2\\\\\n",
    "    \\end{matrix}\\right)\n",
    "    \\left(\\begin{matrix}\n",
    "    x_{1,1} & x_{1,2}\\\\\n",
    "    x_{2,1} & x_{2,2}\\\\\n",
    "    \\end{matrix}\\right)\n",
    "    =\n",
    "    \\left(\\begin{matrix}\n",
    "    2 & -1\\\\\n",
    "    0 & 1\\\\\n",
    "    \\end{matrix}\\right)\n",
    "$$\n",
    "\n",
    "Subtract the top equation from the bottom equation.\n",
    "\n",
    "$$\n",
    "    \\left(\\begin{matrix}\n",
    "    5 & 0\\\\\n",
    "    5 & 10\\\\\n",
    "    \\end{matrix}\\right)\n",
    "    \\left(\\begin{matrix}\n",
    "    x_{1,1} & x_{1,2}\\\\\n",
    "    x_{2,1} & x_{2,2}\\\\\n",
    "    \\end{matrix}\\right)\n",
    "    =\n",
    "    \\left(\\begin{matrix}\n",
    "    2 & -1\\\\\n",
    "    0 & 5\\\\\n",
    "    \\end{matrix}\\right)\n",
    "$$\n",
    "\n",
    "Divide the top equation by 5 and the bottom equation by 10.\n",
    "\n",
    "$$\n",
    "    \\left(\\begin{matrix}\n",
    "    5 & 0\\\\\n",
    "    0 & 10\\\\\n",
    "    \\end{matrix}\\right)\n",
    "    \\left(\\begin{matrix}\n",
    "    x_{1,1} & x_{1,2}\\\\\n",
    "    x_{2,1} & x_{2,2}\\\\\n",
    "    \\end{matrix}\\right)\n",
    "    =\n",
    "    \\left(\\begin{matrix}\n",
    "    2 & -1\\\\\n",
    "    -2 & 6\\\\\n",
    "    \\end{matrix}\\right)\n",
    "$$\n",
    "\n",
    "Done!\n",
    "\n",
    "$$\n",
    "    \\left(\\begin{matrix}\n",
    "    3 & 1\\\\\n",
    "    1 & 2\\\\\n",
    "    \\end{matrix}\\right)^{-1}\n",
    "    =\n",
    "    \\left(\\begin{matrix}\n",
    "    \\frac{2}{5} & -\\frac{1}{5}\\\\\n",
    "    -\\frac{1}{5} & \\frac{3}{5}\\\\\n",
    "    \\end{matrix}\\right)\n",
    "$$\n",
    "\n",
    "We can also solve for a 2X2 matrix with:\n",
    "\n",
    "$$\n",
    "    \\left(\\begin{matrix}\n",
    "    a_{1,1} & a_{1,2}\\\\\n",
    "    a_{2,1} & a_{2,2}\\\\\n",
    "    \\end{matrix}\\right)^{-1}\n",
    "    =\n",
    "    \\frac{1}{a_{1,1}a_{2,2} - a_{1,2}a_{2,1}}\n",
    "    \\left(\\begin{matrix}\n",
    "    a_{2,2} & -a_{1,2}\\\\\n",
    "    -a_{2,1} & a_{1,1}\\\\\n",
    "    \\end{matrix}\\right)\n",
    "$$"
   ]
  },
  {
   "cell_type": "code",
   "execution_count": 11,
   "metadata": {},
   "outputs": [
    {
     "data": {
      "text/plain": [
       "array([[ 0.4, -0.2],\n",
       "       [-0.2,  0.6]])"
      ]
     },
     "execution_count": 11,
     "metadata": {},
     "output_type": "execute_result"
    }
   ],
   "source": [
    "e = np.array([[3,1],[1,2]])\n",
    "np.linalg.inv(e)"
   ]
  },
  {
   "cell_type": "markdown",
   "metadata": {},
   "source": [
    "### Determinant\n",
    "\n",
    "The inverse of a matrix exists as long as its determinant isn't zero.\n",
    "$$\n",
    "    \\begin{vmatrix}\n",
    "    a_{1,1} & a_{1,2} & \\cdots & a_{1,n}\\\\\n",
    "    a_{2,1} & a_{2,1} & \\cdots & a_{2,n}\\\\\n",
    "    \\vdots & \\vdots & \\ddots & \\vdots\\\\\n",
    "    a_{m,1} & a_{m,1} & \\cdots & a_{m,n}\\\\\n",
    "    \\end{vmatrix}\n",
    "    \\not= 0\n",
    "$$\n",
    "\n",
    "Therefore,\n",
    "\n",
    "$$\n",
    "    \\left(\\begin{matrix}\n",
    "    a_{1,1} & a_{1,2} & \\cdots & a_{1,n}\\\\\n",
    "    a_{2,1} & a_{2,1} & \\cdots & a_{2,n}\\\\\n",
    "    \\vdots & \\vdots & \\ddots & \\vdots\\\\\n",
    "    a_{m,1} & a_{m,1} & \\cdots & a_{m,n}\\\\\n",
    "    \\end{matrix}\\right)^{-1} \\text{exists}\n",
    "$$\n",
    "\n",
    "To calculate a determinant of a 2X2 square matrix:\n",
    "\n",
    "$$\n",
    "    \\det\n",
    "    \\left(\\begin{matrix}\n",
    "    a_{1,1} & a_{1,2}\\\\\n",
    "    a_{2,1} & a_{2,1}\\\\\n",
    "    \\end{matrix}\\right)\n",
    "    =\n",
    "    a_{1,1}a_{2,2} - a_{1,2}a_{2,1}\n",
    "    \\not= 0\n",
    "$$\n",
    "\n",
    "A 3X3 square matrix is:\n",
    "\n",
    "$$\n",
    "    \\det\n",
    "    \\left(\\begin{matrix}\n",
    "    a_{1,1} & a_{1,2} & a_{1,3}\\\\\n",
    "    a_{2,1} & a_{2,2} & a_{2,3}\\\\\n",
    "    a_{3,1} & a_{3,2} & a_{3,3}\\\\\n",
    "    \\end{matrix}\\right)\n",
    "    =\n",
    "    a_{1,1}a_{2,2}a_{3,3} + a_{1,2}a_{2,3}a_{3,1} + a_{1,3}a_{2,1}a_{3,2} - a_{1,3}a_{2,2}a_{3,1} - a_{1,2}a_{2,1}a_{3,3} - a_{1,1}a_{2,3}a_{3,2}\n",
    "    \\not= 0\n",
    "$$\n",
    "\n",
    "4X4 square matrices and above become too complicated.\n",
    "\n",
    "#### Three rules of determinants\n",
    "\n",
    "1. The left index increases by one in the number of dimensions.\n",
    "1. The right index is permutations of the dimensions.\n",
    "1. Count all right indices not in *natural order*, then if the number is even we write the term as positive, if it's odd we write it as negative."
   ]
  },
  {
   "cell_type": "code",
   "execution_count": 12,
   "metadata": {},
   "outputs": [
    {
     "data": {
      "text/plain": [
       "5.000000000000001"
      ]
     },
     "execution_count": 12,
     "metadata": {},
     "output_type": "execute_result"
    }
   ],
   "source": [
    "np.linalg.det(e)"
   ]
  },
  {
   "cell_type": "markdown",
   "metadata": {},
   "source": [
    "## Vectors\n",
    "\n",
    "1. A point in space\n",
    "$$\n",
    "    \\left(\\begin{matrix}\n",
    "    7 & 4\n",
    "    \\end{matrix}\\right)\n",
    "    \\text{or}\n",
    "    \\left(\\begin{matrix}\n",
    "    7\\\\\n",
    "    4\n",
    "    \\end{matrix}\\right)\n",
    "$$\n",
    "1. A path from the origin to a coordinate point\n",
    "1. The sum of several paths to a single coordinate point\n",
    "1. The distance vertically and horizontally from a certain starting point\n",
    "\n",
    "Row vectors are: $(a_1, a_2, \\ldots, a_n)$\n",
    "\n",
    "Column vectors are:\n",
    "$$\n",
    "    \\left(\\begin{matrix}\n",
    "    a_1\\\\\n",
    "    a_2\\\\\n",
    "    \\vdots\\\\\n",
    "    a_n\n",
    "    \\end{matrix}\\right)\n",
    "$$\n",
    "\n",
    "We also call the set of all $n\\times1$ matrices $\\mathbb{R}$:\n",
    "\n",
    "$$\n",
    "    \\mathbb{R}^2\n",
    "    =\\left(\\begin{matrix}\n",
    "    a_1\\\\\n",
    "    a_2\n",
    "    \\end{matrix}\\right),\\;\n",
    "    \\mathbb{R}^3\n",
    "    =\\left(\\begin{matrix}\n",
    "    a_1\\\\\n",
    "    a_2\\\\\n",
    "    a_3\n",
    "    \\end{matrix}\\right),\\;\n",
    "    \\mathbb{R}^n\n",
    "    =\\left(\\begin{matrix}\n",
    "    a_1\\\\\n",
    "    a_2\\\\\n",
    "    \\vdots\\\\\n",
    "    a_n\n",
    "    \\end{matrix}\\right)\n",
    "$$\n",
    "\n",
    "A vector can also be expressed as a factor:\n",
    "\n",
    "$$\n",
    "    \\left(\\begin{matrix}\n",
    "    21\\\\\n",
    "    7\n",
    "    \\end{matrix}\\right)\n",
    "    =\n",
    "    7\\left(\\begin{matrix}\n",
    "    3\\\\\n",
    "    1\n",
    "    \\end{matrix}\\right)\n",
    "$$"
   ]
  },
  {
   "cell_type": "markdown",
   "metadata": {},
   "source": [
    "### Vector calculations\n",
    "\n",
    "#### Addition\n",
    "\n",
    "$$\n",
    "    \\left(\\begin{matrix}\n",
    "    1\\\\\n",
    "    2\n",
    "    \\end{matrix}\\right)\n",
    "    +\n",
    "    \\left(\\begin{matrix}\n",
    "    6\\\\\n",
    "    2\n",
    "    \\end{matrix}\\right)\n",
    "    =\n",
    "    \\left(\\begin{matrix}\n",
    "    7\\\\\n",
    "    4\n",
    "    \\end{matrix}\\right)\n",
    "$$"
   ]
  },
  {
   "cell_type": "code",
   "execution_count": 13,
   "metadata": {},
   "outputs": [
    {
     "data": {
      "text/plain": [
       "array([7, 4])"
      ]
     },
     "execution_count": 13,
     "metadata": {},
     "output_type": "execute_result"
    }
   ],
   "source": [
    "v1 = np.array([1,2])\n",
    "v2 = np.array([6,2])\n",
    "np.add(v1, v2)"
   ]
  },
  {
   "cell_type": "markdown",
   "metadata": {},
   "source": [
    "### Subtraction\n",
    "\n",
    "$$\n",
    "    \\left(\\begin{matrix}\n",
    "    1\\\\\n",
    "    2\n",
    "    \\end{matrix}\\right)\n",
    "    -\n",
    "    \\left(\\begin{matrix}\n",
    "    6\\\\\n",
    "    2\n",
    "    \\end{matrix}\\right)\n",
    "    =\n",
    "    \\left(\\begin{matrix}\n",
    "    -5\\\\\n",
    "    0\n",
    "    \\end{matrix}\\right)\n",
    "$$"
   ]
  },
  {
   "cell_type": "code",
   "execution_count": 14,
   "metadata": {},
   "outputs": [
    {
     "data": {
      "text/plain": [
       "array([-5,  0])"
      ]
     },
     "execution_count": 14,
     "metadata": {},
     "output_type": "execute_result"
    }
   ],
   "source": [
    "np.subtract(v1, v2)"
   ]
  },
  {
   "cell_type": "markdown",
   "metadata": {},
   "source": [
    "### Scalar multiplication\n",
    "\n",
    "$$\n",
    "    \\left(\\begin{matrix}\n",
    "    1\\\\\n",
    "    2\n",
    "    \\end{matrix}\\right)\n",
    "    \\times 3=\n",
    "    \\left(\\begin{matrix}\n",
    "    3\\\\\n",
    "    6\n",
    "    \\end{matrix}\\right)\n",
    "$$"
   ]
  },
  {
   "cell_type": "code",
   "execution_count": 15,
   "metadata": {},
   "outputs": [
    {
     "data": {
      "text/plain": [
       "array([3, 6])"
      ]
     },
     "execution_count": 15,
     "metadata": {},
     "output_type": "execute_result"
    }
   ],
   "source": [
    "v1 * 3"
   ]
  },
  {
   "cell_type": "markdown",
   "metadata": {},
   "source": [
    "### Matrix multiplication\n",
    "\n",
    "$$\n",
    "    \\left(\\begin{matrix}\n",
    "    1\\\\\n",
    "    2\n",
    "    \\end{matrix}\\right)\n",
    "    \\left(\\begin{matrix}\n",
    "    3 & 1\n",
    "    \\end{matrix}\\right)\n",
    "    =\n",
    "    \\left(\\begin{matrix}\n",
    "    1\\cdot3 + 2\\cdot1\n",
    "    \\end{matrix}\\right)\n",
    "    = 5\n",
    "$$"
   ]
  },
  {
   "cell_type": "code",
   "execution_count": 16,
   "metadata": {},
   "outputs": [
    {
     "data": {
      "text/plain": [
       "array([5])"
      ]
     },
     "execution_count": 16,
     "metadata": {},
     "output_type": "execute_result"
    }
   ],
   "source": [
    "v3 = np.array([[3],[1]])\n",
    "np.matmul(v1, v3)"
   ]
  },
  {
   "cell_type": "markdown",
   "metadata": {},
   "source": [
    "### Geometric interpretations\n",
    "\n",
    "A point:\n",
    "\n",
    "$$\n",
    "    \\left\\{\n",
    "    \\left(\\begin{matrix}\n",
    "    0\\\\\n",
    "    c\n",
    "    \\end{matrix}\\right)\n",
    "    \\right\\}\n",
    "$$\n",
    "\n",
    "A straight line:\n",
    "\n",
    "$$\n",
    "    \\left\\{\n",
    "    3\\left(\\begin{matrix}\n",
    "    1\\\\\n",
    "    0\n",
    "    \\end{matrix}\\right)\n",
    "    +\n",
    "    c\\left(\\begin{matrix}\n",
    "    0\\\\\n",
    "    1\n",
    "    \\end{matrix}\\right)\n",
    "    \\right\\}\n",
    "$$\n",
    "\n",
    "A plane, $x_1x_3$ plane in $\\mathbb{R}^2$:\n",
    "\n",
    "$$\n",
    "    \\left\\{\n",
    "    c_1\\left(\\begin{matrix}\n",
    "    1\\\\\n",
    "    0\n",
    "    \\end{matrix}\\right)\n",
    "    +\n",
    "    c_2\\left(\\begin{matrix}\n",
    "    0\\\\\n",
    "    1\n",
    "    \\end{matrix}\\right)\n",
    "    \\right\\}\n",
    "$$\n",
    "\n",
    "A vector space, spanned $x_1x_2x_3$ in $\\mathbb{R}^2$\n",
    "\n",
    "$$\n",
    "    \\left\\{\n",
    "    c_1\\left(\\begin{matrix}\n",
    "    1\\\\\n",
    "    0\\\\\n",
    "    0\n",
    "    \\end{matrix}\\right)\n",
    "    +\n",
    "    c_2\\left(\\begin{matrix}\n",
    "    0\\\\\n",
    "    1\\\\\n",
    "    0\n",
    "    \\end{matrix}\\right)\n",
    "    +\n",
    "    c_3\\left(\\begin{matrix}\n",
    "    0\\\\\n",
    "    0\\\\\n",
    "    1\n",
    "    \\end{matrix}\\right)\n",
    "    \\right\\}\n",
    "$$\n",
    "\n",
    "And the n-dimensional space $\\mathbb{R}^n$:\n",
    "\n",
    "$$\n",
    "    \\left\\{\n",
    "    c_1\\left(\\begin{matrix}\n",
    "    1\\\\\n",
    "    0\\\\\n",
    "    \\vdots\\\\\n",
    "    0\n",
    "    \\end{matrix}\\right)\n",
    "    +\n",
    "    c_2\\left(\\begin{matrix}\n",
    "    0\\\\\n",
    "    1\\\\\n",
    "    \\vdots\\\\\n",
    "    0\n",
    "    \\end{matrix}\\right)\n",
    "    + \\cdots +\n",
    "    c_n\\left(\\begin{matrix}\n",
    "    0\\\\\n",
    "    0\\\\\n",
    "    \\vdots\\\\\n",
    "    1\n",
    "    \\end{matrix}\\right)\n",
    "    \\right\\}\n",
    "$$\n",
    "\n",
    "*Note: in all cases $c$ is an arbitrary real number*"
   ]
  }
 ],
 "metadata": {
  "kernelspec": {
   "display_name": "Python [conda env:datascience]",
   "language": "python",
   "name": "conda-env-datascience-py"
  },
  "language_info": {
   "codemirror_mode": {
    "name": "ipython",
    "version": 3
   },
   "file_extension": ".py",
   "mimetype": "text/x-python",
   "name": "python",
   "nbconvert_exporter": "python",
   "pygments_lexer": "ipython3",
   "version": "3.8.8"
  }
 },
 "nbformat": 4,
 "nbformat_minor": 4
}
