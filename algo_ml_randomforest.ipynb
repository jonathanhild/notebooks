{
 "cells": [
  {
   "cell_type": "markdown",
   "metadata": {},
   "source": [
    "# Random Forest\n",
    "\n",
    "## References\n",
    "\n",
    "1. Practical Statistics for Data Scientists, Chapter 6.\n",
    "1. Python Data Science Handbook, Chapter 5 - In Depth: Decision Trees and Random Forests.\n",
    "1. Ensemble methods: bagging, boosting and stacking: [https://towardsdatascience.com/ensemble-methods-bagging-boosting-and-stacking-c9214a10a205](https://towardsdatascience.com/ensemble-methods-bagging-boosting-and-stacking-c9214a10a205)\n",
    "1. How to visualize a decision tree in 5 steps: [https://towardsdatascience.com/how-to-visualize-a-decision-tree-in-5-steps-19781b28ffe2](https://towardsdatascience.com/how-to-visualize-a-decision-tree-in-5-steps-19781b28ffe2)"
   ]
  },
  {
   "cell_type": "code",
   "execution_count": null,
   "metadata": {},
   "outputs": [],
   "source": []
  }
 ],
 "metadata": {
  "kernelspec": {
   "display_name": "Python [conda env:datascience]",
   "language": "python",
   "name": "conda-env-datascience-py"
  },
  "language_info": {
   "codemirror_mode": {
    "name": "ipython",
    "version": 3
   },
   "file_extension": ".py",
   "mimetype": "text/x-python",
   "name": "python",
   "nbconvert_exporter": "python",
   "pygments_lexer": "ipython3",
   "version": "3.8.2"
  }
 },
 "nbformat": 4,
 "nbformat_minor": 4
}
