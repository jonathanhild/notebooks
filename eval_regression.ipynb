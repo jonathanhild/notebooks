{
 "cells": [
  {
   "cell_type": "markdown",
   "id": "9e211044-abd7-4b4f-9beb-55cf89d3c943",
   "metadata": {},
   "source": [
    "# Evaluation of Regression Models"
   ]
  },
  {
   "cell_type": "code",
   "execution_count": null,
   "id": "e0792594-9285-4eae-86cc-79469fef743c",
   "metadata": {},
   "outputs": [],
   "source": []
  },
  {
   "cell_type": "markdown",
   "id": "d0452990-ec5a-4c11-83b8-c6f19445b276",
   "metadata": {},
   "source": [
    "# Mean Absolute Error\n",
    "\n",
    "MAE is the absolute difference in residuals.\n",
    "\n",
    "$$\n",
    "    MAE = \\frac{1}{n} \\sum_{i=1}^{n}|y_i - \\hat{y_i}|\n",
    "$$"
   ]
  },
  {
   "cell_type": "code",
   "execution_count": null,
   "id": "77978aa9-3d94-4ddb-b23c-f4f16f9025c2",
   "metadata": {},
   "outputs": [],
   "source": []
  },
  {
   "cell_type": "markdown",
   "id": "a5745739-9a0a-430d-ad16-b0959fe2a5fc",
   "metadata": {},
   "source": [
    "# Mean Square Error\n",
    "\n",
    "MSE punishes outliers in predictions.\n",
    "\n",
    "$$\n",
    "    MSE = \\frac{1}{n} \\sum_{i=1}^{n}(y_i - \\hat{y_i})^2\n",
    "$$"
   ]
  },
  {
   "cell_type": "code",
   "execution_count": null,
   "id": "1c8eaa89-a891-4eba-a51e-8798f24bba56",
   "metadata": {},
   "outputs": [],
   "source": []
  },
  {
   "cell_type": "markdown",
   "id": "2bea5f90-295f-46d6-8729-2cf01e05eac9",
   "metadata": {},
   "source": [
    "# Root Mean Square Error\n",
    "\n",
    "RMSE puts the units of residual error in units of $y$.\n",
    "\n",
    "$$\n",
    "    RMSE = \\sqrt{\\frac{1}{n} \\sum_{i=1}^{n}(y_i - \\hat{y_i})^2}\n",
    "$$"
   ]
  },
  {
   "cell_type": "code",
   "execution_count": null,
   "id": "c1493a15-c4a0-48ae-8ae0-e36b5021f5e2",
   "metadata": {},
   "outputs": [],
   "source": []
  },
  {
   "cell_type": "markdown",
   "id": "b2c70753-7b45-4c8c-97ae-bbfd084ac2f0",
   "metadata": {},
   "source": [
    "# Confidence Interval"
   ]
  },
  {
   "cell_type": "code",
   "execution_count": null,
   "id": "6234e7f2-3622-467c-a909-dc9e72b0c715",
   "metadata": {},
   "outputs": [],
   "source": []
  }
 ],
 "metadata": {
  "kernelspec": {
   "display_name": "Python [conda env:datascience]",
   "language": "python",
   "name": "conda-env-datascience-py"
  },
  "language_info": {
   "codemirror_mode": {
    "name": "ipython",
    "version": 3
   },
   "file_extension": ".py",
   "mimetype": "text/x-python",
   "name": "python",
   "nbconvert_exporter": "python",
   "pygments_lexer": "ipython3",
   "version": "3.8.10"
  },
  "widgets": {
   "application/vnd.jupyter.widget-state+json": {
    "state": {},
    "version_major": 2,
    "version_minor": 0
   }
  }
 },
 "nbformat": 4,
 "nbformat_minor": 5
}
