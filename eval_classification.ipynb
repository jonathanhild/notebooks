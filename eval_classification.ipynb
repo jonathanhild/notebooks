{
 "cells": [
  {
   "cell_type": "markdown",
   "id": "5d47dfab-9901-4a01-ab3a-ed2791f52377",
   "metadata": {},
   "source": [
    "# Evaluation of Classification Models"
   ]
  },
  {
   "cell_type": "code",
   "execution_count": null,
   "id": "379ded61-ae50-4747-b776-f25a6662b299",
   "metadata": {},
   "outputs": [],
   "source": []
  },
  {
   "cell_type": "markdown",
   "id": "e513107d-897d-4060-865e-6bc8b5368cea",
   "metadata": {},
   "source": [
    "# Accuracy\n",
    "\n",
    "$$\n",
    "    A = \\frac{TP + TN}{TP + TN + FP + FN}\n",
    "$$"
   ]
  },
  {
   "cell_type": "code",
   "execution_count": null,
   "id": "dcc368c4-ed5c-43c6-a1f5-0f842b1c53b6",
   "metadata": {},
   "outputs": [],
   "source": []
  },
  {
   "cell_type": "markdown",
   "id": "664afac1-2919-4bc1-a6a0-f916e0cc3e43",
   "metadata": {},
   "source": [
    "# Recall\n",
    "\n",
    "$$\n",
    "    R = \\frac{TP}{TP + FN}\n",
    "$$"
   ]
  },
  {
   "cell_type": "code",
   "execution_count": null,
   "id": "cf5831cb-0651-4e26-ae08-ab2029a90f6a",
   "metadata": {},
   "outputs": [],
   "source": []
  },
  {
   "cell_type": "markdown",
   "id": "d076b2b4-b89f-44bd-80fa-5c1dcbf1d4f5",
   "metadata": {},
   "source": [
    "# Precision\n",
    "\n",
    "$$\n",
    "    P = \\frac{TP}{TP + FP}\n",
    "$$"
   ]
  },
  {
   "cell_type": "code",
   "execution_count": null,
   "id": "c6025e2b-396c-494b-89fb-326c5ef7510c",
   "metadata": {},
   "outputs": [],
   "source": []
  },
  {
   "cell_type": "markdown",
   "id": "058b4b11-2d18-4746-b5c1-0787f91f7215",
   "metadata": {},
   "source": [
    "# F1-Score\n",
    "\n",
    "$$\n",
    "    F = 2 \\times \\frac{P \\times R}{P + R}\n",
    "$$"
   ]
  },
  {
   "cell_type": "code",
   "execution_count": null,
   "id": "08bc6087-8a66-42a5-8354-a4e2ef002a09",
   "metadata": {},
   "outputs": [],
   "source": []
  },
  {
   "cell_type": "markdown",
   "id": "d5a10499-b453-46dc-adc5-77aa94665802",
   "metadata": {},
   "source": [
    "# Confusion Matrix"
   ]
  },
  {
   "cell_type": "code",
   "execution_count": null,
   "id": "c010b581-7259-463a-a3f1-a8626dc353b3",
   "metadata": {},
   "outputs": [],
   "source": []
  },
  {
   "cell_type": "markdown",
   "id": "e387f80e-e1ba-4ec2-875c-bb95e7f1d612",
   "metadata": {},
   "source": []
  }
 ],
 "metadata": {
  "kernelspec": {
   "display_name": "Python [conda env:datascience]",
   "language": "python",
   "name": "conda-env-datascience-py"
  },
  "language_info": {
   "codemirror_mode": {
    "name": "ipython",
    "version": 3
   },
   "file_extension": ".py",
   "mimetype": "text/x-python",
   "name": "python",
   "nbconvert_exporter": "python",
   "pygments_lexer": "ipython3",
   "version": "3.8.10"
  }
 },
 "nbformat": 4,
 "nbformat_minor": 5
}
